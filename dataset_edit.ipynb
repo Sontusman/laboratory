{
 "cells": [
  {
   "cell_type": "code",
   "execution_count": 6,
   "metadata": {},
   "outputs": [],
   "source": [
    "import numpy as np\n",
    "import pandas as pd\n",
    "import matplotlib.pyplot as plt"
   ]
  },
  {
   "cell_type": "markdown",
   "metadata": {},
   "source": [
    "Парсим датасеты:"
   ]
  },
  {
   "cell_type": "code",
   "execution_count": 7,
   "metadata": {},
   "outputs": [
    {
     "data": {
      "text/html": [
       "<div>\n",
       "<style scoped>\n",
       "    .dataframe tbody tr th:only-of-type {\n",
       "        vertical-align: middle;\n",
       "    }\n",
       "\n",
       "    .dataframe tbody tr th {\n",
       "        vertical-align: top;\n",
       "    }\n",
       "\n",
       "    .dataframe thead th {\n",
       "        text-align: right;\n",
       "    }\n",
       "</style>\n",
       "<table border=\"1\" class=\"dataframe\">\n",
       "  <thead>\n",
       "    <tr style=\"text-align: right;\">\n",
       "      <th></th>\n",
       "      <th>Wavelength (nm)</th>\n",
       "      <th>%T</th>\n",
       "      <th>Wavelength (nm).1</th>\n",
       "      <th>%T.1</th>\n",
       "      <th>Wavelength (nm).2</th>\n",
       "      <th>%T.2</th>\n",
       "      <th>Wavelength (nm).3</th>\n",
       "      <th>%T.3</th>\n",
       "      <th>Wavelength (nm).4</th>\n",
       "      <th>%T.4</th>\n",
       "      <th>...</th>\n",
       "      <th>%T.101</th>\n",
       "      <th>Wavelength (nm).102</th>\n",
       "      <th>%T.102</th>\n",
       "      <th>Wavelength (nm).103</th>\n",
       "      <th>%T.103</th>\n",
       "      <th>Wavelength (nm).104</th>\n",
       "      <th>%T.104</th>\n",
       "      <th>Wavelength (nm).105</th>\n",
       "      <th>%T.105</th>\n",
       "      <th>target</th>\n",
       "    </tr>\n",
       "  </thead>\n",
       "  <tbody>\n",
       "    <tr>\n",
       "      <th>905</th>\n",
       "      <td>194.9829712</td>\n",
       "      <td>58.04145813</td>\n",
       "      <td>194.9829712</td>\n",
       "      <td>0.075280</td>\n",
       "      <td>194.982971</td>\n",
       "      <td>0.066855</td>\n",
       "      <td>194.982971</td>\n",
       "      <td>0.063402</td>\n",
       "      <td>194.982971</td>\n",
       "      <td>0.067601</td>\n",
       "      <td>...</td>\n",
       "      <td>0.064514</td>\n",
       "      <td>194.982971</td>\n",
       "      <td>0.062851</td>\n",
       "      <td>194.982971</td>\n",
       "      <td>0.068177</td>\n",
       "      <td>194.982971</td>\n",
       "      <td>0.071227</td>\n",
       "      <td>194.982971</td>\n",
       "      <td>0.087725</td>\n",
       "      <td>golden_seed</td>\n",
       "    </tr>\n",
       "    <tr>\n",
       "      <th>906</th>\n",
       "      <td>193.9913483</td>\n",
       "      <td>56.98998642</td>\n",
       "      <td>193.9913483</td>\n",
       "      <td>0.065830</td>\n",
       "      <td>193.991348</td>\n",
       "      <td>0.076447</td>\n",
       "      <td>193.991348</td>\n",
       "      <td>0.074026</td>\n",
       "      <td>193.991348</td>\n",
       "      <td>0.071937</td>\n",
       "      <td>...</td>\n",
       "      <td>0.075150</td>\n",
       "      <td>193.991348</td>\n",
       "      <td>0.077970</td>\n",
       "      <td>193.991348</td>\n",
       "      <td>0.069646</td>\n",
       "      <td>193.991348</td>\n",
       "      <td>0.075370</td>\n",
       "      <td>193.991348</td>\n",
       "      <td>0.064185</td>\n",
       "      <td>golden_seed</td>\n",
       "    </tr>\n",
       "    <tr>\n",
       "      <th>907</th>\n",
       "      <td>192.9996185</td>\n",
       "      <td>56.066185</td>\n",
       "      <td>192.9996185</td>\n",
       "      <td>0.078857</td>\n",
       "      <td>192.999618</td>\n",
       "      <td>0.069344</td>\n",
       "      <td>192.999618</td>\n",
       "      <td>0.080762</td>\n",
       "      <td>192.999618</td>\n",
       "      <td>0.070826</td>\n",
       "      <td>...</td>\n",
       "      <td>0.068457</td>\n",
       "      <td>192.999618</td>\n",
       "      <td>0.059734</td>\n",
       "      <td>192.999618</td>\n",
       "      <td>0.049462</td>\n",
       "      <td>192.999618</td>\n",
       "      <td>0.077768</td>\n",
       "      <td>192.999618</td>\n",
       "      <td>0.061289</td>\n",
       "      <td>golden_seed</td>\n",
       "    </tr>\n",
       "    <tr>\n",
       "      <th>908</th>\n",
       "      <td>192.007843</td>\n",
       "      <td>54.44197845</td>\n",
       "      <td>192.007843</td>\n",
       "      <td>0.080317</td>\n",
       "      <td>192.007843</td>\n",
       "      <td>0.052470</td>\n",
       "      <td>192.007843</td>\n",
       "      <td>0.079305</td>\n",
       "      <td>192.007843</td>\n",
       "      <td>0.070204</td>\n",
       "      <td>...</td>\n",
       "      <td>0.074078</td>\n",
       "      <td>192.007843</td>\n",
       "      <td>0.067464</td>\n",
       "      <td>192.007843</td>\n",
       "      <td>0.054768</td>\n",
       "      <td>192.007843</td>\n",
       "      <td>0.066088</td>\n",
       "      <td>192.007843</td>\n",
       "      <td>0.049389</td>\n",
       "      <td>golden_seed</td>\n",
       "    </tr>\n",
       "    <tr>\n",
       "      <th>909</th>\n",
       "      <td>191.0159912</td>\n",
       "      <td>54.55011749</td>\n",
       "      <td>191.0159912</td>\n",
       "      <td>0.089319</td>\n",
       "      <td>191.015991</td>\n",
       "      <td>0.091769</td>\n",
       "      <td>191.015991</td>\n",
       "      <td>0.100176</td>\n",
       "      <td>191.015991</td>\n",
       "      <td>0.088878</td>\n",
       "      <td>...</td>\n",
       "      <td>0.067131</td>\n",
       "      <td>191.015991</td>\n",
       "      <td>0.069644</td>\n",
       "      <td>191.015991</td>\n",
       "      <td>0.069927</td>\n",
       "      <td>191.015991</td>\n",
       "      <td>0.081253</td>\n",
       "      <td>191.015991</td>\n",
       "      <td>0.079932</td>\n",
       "      <td>golden_seed</td>\n",
       "    </tr>\n",
       "  </tbody>\n",
       "</table>\n",
       "<p>5 rows × 213 columns</p>\n",
       "</div>"
      ],
      "text/plain": [
       "    Wavelength (nm)           %T Wavelength (nm).1      %T.1  \\\n",
       "905     194.9829712  58.04145813       194.9829712  0.075280   \n",
       "906     193.9913483  56.98998642       193.9913483  0.065830   \n",
       "907     192.9996185    56.066185       192.9996185  0.078857   \n",
       "908      192.007843  54.44197845        192.007843  0.080317   \n",
       "909     191.0159912  54.55011749       191.0159912  0.089319   \n",
       "\n",
       "     Wavelength (nm).2      %T.2  Wavelength (nm).3      %T.3  \\\n",
       "905         194.982971  0.066855         194.982971  0.063402   \n",
       "906         193.991348  0.076447         193.991348  0.074026   \n",
       "907         192.999618  0.069344         192.999618  0.080762   \n",
       "908         192.007843  0.052470         192.007843  0.079305   \n",
       "909         191.015991  0.091769         191.015991  0.100176   \n",
       "\n",
       "     Wavelength (nm).4      %T.4  ...    %T.101  Wavelength (nm).102  \\\n",
       "905         194.982971  0.067601  ...  0.064514           194.982971   \n",
       "906         193.991348  0.071937  ...  0.075150           193.991348   \n",
       "907         192.999618  0.070826  ...  0.068457           192.999618   \n",
       "908         192.007843  0.070204  ...  0.074078           192.007843   \n",
       "909         191.015991  0.088878  ...  0.067131           191.015991   \n",
       "\n",
       "       %T.102  Wavelength (nm).103    %T.103  Wavelength (nm).104    %T.104  \\\n",
       "905  0.062851           194.982971  0.068177           194.982971  0.071227   \n",
       "906  0.077970           193.991348  0.069646           193.991348  0.075370   \n",
       "907  0.059734           192.999618  0.049462           192.999618  0.077768   \n",
       "908  0.067464           192.007843  0.054768           192.007843  0.066088   \n",
       "909  0.069644           191.015991  0.069927           191.015991  0.081253   \n",
       "\n",
       "     Wavelength (nm).105    %T.105       target  \n",
       "905           194.982971  0.087725  golden_seed  \n",
       "906           193.991348  0.064185  golden_seed  \n",
       "907           192.999618  0.061289  golden_seed  \n",
       "908           192.007843  0.049389  golden_seed  \n",
       "909           191.015991  0.079932  golden_seed  \n",
       "\n",
       "[5 rows x 213 columns]"
      ]
     },
     "execution_count": 7,
     "metadata": {},
     "output_type": "execute_result"
    }
   ],
   "source": [
    "oil_ashan = pd.read_csv(\"oil_red_price copy.csv\").drop(columns=['Unnamed: 218'])[:910]\n",
    "oil_golden_seed = pd.read_csv(\"oil_golden_seed copy.csv\").drop(columns=['Unnamed: 212'])[:910]\n",
    "oil_ashan[\"target\"]=[\"ashan\"]*len(oil_ashan)\n",
    "oil_golden_seed[\"target\"]=[\"golden_seed\"]*len(oil_golden_seed)\n",
    "oil_golden_seed.tail()"
   ]
  },
  {
   "cell_type": "code",
   "execution_count": 8,
   "metadata": {},
   "outputs": [
    {
     "data": {
      "text/html": [
       "<div>\n",
       "<style scoped>\n",
       "    .dataframe tbody tr th:only-of-type {\n",
       "        vertical-align: middle;\n",
       "    }\n",
       "\n",
       "    .dataframe tbody tr th {\n",
       "        vertical-align: top;\n",
       "    }\n",
       "\n",
       "    .dataframe thead th {\n",
       "        text-align: right;\n",
       "    }\n",
       "</style>\n",
       "<table border=\"1\" class=\"dataframe\">\n",
       "  <thead>\n",
       "    <tr style=\"text-align: right;\">\n",
       "      <th></th>\n",
       "      <th>%T.6</th>\n",
       "      <th>%T.7</th>\n",
       "      <th>%T.8</th>\n",
       "      <th>%T.9</th>\n",
       "      <th>%T.10</th>\n",
       "      <th>%T.11</th>\n",
       "      <th>%T.12</th>\n",
       "      <th>%T.13</th>\n",
       "      <th>%T.14</th>\n",
       "      <th>%T.15</th>\n",
       "      <th>...</th>\n",
       "      <th>%T.96</th>\n",
       "      <th>%T.97</th>\n",
       "      <th>%T.98</th>\n",
       "      <th>%T.99</th>\n",
       "      <th>%T.100</th>\n",
       "      <th>%T.101</th>\n",
       "      <th>%T.102</th>\n",
       "      <th>%T.103</th>\n",
       "      <th>%T.104</th>\n",
       "      <th>%T.105</th>\n",
       "    </tr>\n",
       "  </thead>\n",
       "  <tbody>\n",
       "    <tr>\n",
       "      <th>905</th>\n",
       "      <td>0.066543</td>\n",
       "      <td>0.069379</td>\n",
       "      <td>0.071732</td>\n",
       "      <td>0.063395</td>\n",
       "      <td>0.085295</td>\n",
       "      <td>0.076138</td>\n",
       "      <td>0.086051</td>\n",
       "      <td>0.063430</td>\n",
       "      <td>0.081345</td>\n",
       "      <td>0.063850</td>\n",
       "      <td>...</td>\n",
       "      <td>0.058760</td>\n",
       "      <td>0.076172</td>\n",
       "      <td>0.071228</td>\n",
       "      <td>0.070233</td>\n",
       "      <td>0.056191</td>\n",
       "      <td>0.064514</td>\n",
       "      <td>0.062851</td>\n",
       "      <td>0.068177</td>\n",
       "      <td>0.071227</td>\n",
       "      <td>0.087725</td>\n",
       "    </tr>\n",
       "    <tr>\n",
       "      <th>906</th>\n",
       "      <td>0.085390</td>\n",
       "      <td>0.074926</td>\n",
       "      <td>0.075108</td>\n",
       "      <td>0.066723</td>\n",
       "      <td>0.079618</td>\n",
       "      <td>0.072403</td>\n",
       "      <td>0.060395</td>\n",
       "      <td>0.077526</td>\n",
       "      <td>0.072416</td>\n",
       "      <td>0.076591</td>\n",
       "      <td>...</td>\n",
       "      <td>0.071305</td>\n",
       "      <td>0.063572</td>\n",
       "      <td>0.084272</td>\n",
       "      <td>0.067720</td>\n",
       "      <td>0.092643</td>\n",
       "      <td>0.075150</td>\n",
       "      <td>0.077970</td>\n",
       "      <td>0.069646</td>\n",
       "      <td>0.075370</td>\n",
       "      <td>0.064185</td>\n",
       "    </tr>\n",
       "    <tr>\n",
       "      <th>907</th>\n",
       "      <td>0.058931</td>\n",
       "      <td>0.061883</td>\n",
       "      <td>0.070445</td>\n",
       "      <td>0.071444</td>\n",
       "      <td>0.061044</td>\n",
       "      <td>0.067352</td>\n",
       "      <td>0.061445</td>\n",
       "      <td>0.068622</td>\n",
       "      <td>0.093048</td>\n",
       "      <td>0.076924</td>\n",
       "      <td>...</td>\n",
       "      <td>0.071631</td>\n",
       "      <td>0.060998</td>\n",
       "      <td>0.067793</td>\n",
       "      <td>0.072505</td>\n",
       "      <td>0.060876</td>\n",
       "      <td>0.068457</td>\n",
       "      <td>0.059734</td>\n",
       "      <td>0.049462</td>\n",
       "      <td>0.077768</td>\n",
       "      <td>0.061289</td>\n",
       "    </tr>\n",
       "    <tr>\n",
       "      <th>908</th>\n",
       "      <td>0.061011</td>\n",
       "      <td>0.070227</td>\n",
       "      <td>0.064693</td>\n",
       "      <td>0.077442</td>\n",
       "      <td>0.075239</td>\n",
       "      <td>0.064954</td>\n",
       "      <td>0.075384</td>\n",
       "      <td>0.073353</td>\n",
       "      <td>0.072665</td>\n",
       "      <td>0.087822</td>\n",
       "      <td>...</td>\n",
       "      <td>0.065109</td>\n",
       "      <td>0.059689</td>\n",
       "      <td>0.046589</td>\n",
       "      <td>0.070687</td>\n",
       "      <td>0.063719</td>\n",
       "      <td>0.074078</td>\n",
       "      <td>0.067464</td>\n",
       "      <td>0.054768</td>\n",
       "      <td>0.066088</td>\n",
       "      <td>0.049389</td>\n",
       "    </tr>\n",
       "    <tr>\n",
       "      <th>909</th>\n",
       "      <td>0.087020</td>\n",
       "      <td>0.090616</td>\n",
       "      <td>0.091266</td>\n",
       "      <td>0.095589</td>\n",
       "      <td>0.088988</td>\n",
       "      <td>0.097114</td>\n",
       "      <td>0.083242</td>\n",
       "      <td>0.072074</td>\n",
       "      <td>0.085848</td>\n",
       "      <td>0.116750</td>\n",
       "      <td>...</td>\n",
       "      <td>0.079096</td>\n",
       "      <td>0.100043</td>\n",
       "      <td>0.071372</td>\n",
       "      <td>0.086893</td>\n",
       "      <td>0.069746</td>\n",
       "      <td>0.067131</td>\n",
       "      <td>0.069644</td>\n",
       "      <td>0.069927</td>\n",
       "      <td>0.081253</td>\n",
       "      <td>0.079932</td>\n",
       "    </tr>\n",
       "  </tbody>\n",
       "</table>\n",
       "<p>5 rows × 100 columns</p>\n",
       "</div>"
      ],
      "text/plain": [
       "         %T.6      %T.7      %T.8      %T.9     %T.10     %T.11     %T.12  \\\n",
       "905  0.066543  0.069379  0.071732  0.063395  0.085295  0.076138  0.086051   \n",
       "906  0.085390  0.074926  0.075108  0.066723  0.079618  0.072403  0.060395   \n",
       "907  0.058931  0.061883  0.070445  0.071444  0.061044  0.067352  0.061445   \n",
       "908  0.061011  0.070227  0.064693  0.077442  0.075239  0.064954  0.075384   \n",
       "909  0.087020  0.090616  0.091266  0.095589  0.088988  0.097114  0.083242   \n",
       "\n",
       "        %T.13     %T.14     %T.15  ...     %T.96     %T.97     %T.98  \\\n",
       "905  0.063430  0.081345  0.063850  ...  0.058760  0.076172  0.071228   \n",
       "906  0.077526  0.072416  0.076591  ...  0.071305  0.063572  0.084272   \n",
       "907  0.068622  0.093048  0.076924  ...  0.071631  0.060998  0.067793   \n",
       "908  0.073353  0.072665  0.087822  ...  0.065109  0.059689  0.046589   \n",
       "909  0.072074  0.085848  0.116750  ...  0.079096  0.100043  0.071372   \n",
       "\n",
       "        %T.99    %T.100    %T.101    %T.102    %T.103    %T.104    %T.105  \n",
       "905  0.070233  0.056191  0.064514  0.062851  0.068177  0.071227  0.087725  \n",
       "906  0.067720  0.092643  0.075150  0.077970  0.069646  0.075370  0.064185  \n",
       "907  0.072505  0.060876  0.068457  0.059734  0.049462  0.077768  0.061289  \n",
       "908  0.070687  0.063719  0.074078  0.067464  0.054768  0.066088  0.049389  \n",
       "909  0.086893  0.069746  0.067131  0.069644  0.069927  0.081253  0.079932  \n",
       "\n",
       "[5 rows x 100 columns]"
      ]
     },
     "execution_count": 8,
     "metadata": {},
     "output_type": "execute_result"
    }
   ],
   "source": [
    "labels = oil_golden_seed.columns[13::2]\n",
    "X = pd.concat([oil_ashan[labels], oil_golden_seed[labels]])[:1820]\n",
    "Y = pd.concat([oil_ashan[\"target\"], oil_golden_seed[\"target\"]]).T\n",
    "target_to_int = {\"ashan\":1, \"golden_seed\":2}\n",
    "#Y = Y.target.map(target_to_int)\n",
    "X.tail()"
   ]
  },
  {
   "cell_type": "markdown",
   "metadata": {},
   "source": [
    "Нарисуем усредненные графики спектров:"
   ]
  },
  {
   "cell_type": "code",
   "execution_count": 9,
   "metadata": {},
   "outputs": [
    {
     "name": "stderr",
     "output_type": "stream",
     "text": [
      "/tmp/ipykernel_2755/4275241083.py:1: FutureWarning: Dropping of nuisance columns in DataFrame reductions (with 'numeric_only=None') is deprecated; in a future version this will raise TypeError.  Select only valid columns before calling the reduction.\n",
      "  oil_ashan_draw = oil_ashan.mean(axis=1)\n",
      "/tmp/ipykernel_2755/4275241083.py:2: FutureWarning: Dropping of nuisance columns in DataFrame reductions (with 'numeric_only=None') is deprecated; in a future version this will raise TypeError.  Select only valid columns before calling the reduction.\n",
      "  oil_golden_seed_draw = oil_ashan.mean(axis=1)\n"
     ]
    },
    {
     "data": {
      "image/png": "[encoded data removed]",
      "text/plain": [
       "<Figure size 640x480 with 1 Axes>"
      ]
     },
     "metadata": {},
     "output_type": "display_data"
    }
   ],
   "source": [
    "oil_ashan_draw = oil_ashan.mean(axis=1)\n",
    "oil_golden_seed_draw = oil_ashan.mean(axis=1)\n",
    "discret = 25\n",
    "plt.scatter(oil_ashan[\"Wavelength (nm)\"][:910:discret], oil_ashan_draw[::discret]/10e3)\n",
    "plt.scatter(oil_golden_seed[\"Wavelength (nm)\"][:910:discret], oil_golden_seed_draw[::discret]/10e3)\n",
    "plt.xlabel(\"Wavelength (nm)\")\n",
    "plt.ylabel(\"%T\")\n",
    "plt.show()\n"
   ]
  },
  {
   "cell_type": "markdown",
   "metadata": {},
   "source": [
    "Тестим дерево:\n"
   ]
  },
  {
   "cell_type": "code",
   "execution_count": 10,
   "metadata": {},
   "outputs": [],
   "source": [
    "from sklearn.model_selection import train_test_split\n",
    "from sklearn.linear_model import LogisticRegression\n",
    "from sklearn.tree import DecisionTreeClassifier\n",
    "from sklearn.preprocessing import StandardScaler"
   ]
  },
  {
   "cell_type": "code",
   "execution_count": 11,
   "metadata": {},
   "outputs": [
    {
     "data": {
      "text/plain": [
       "((1820, 100), (1820,))"
      ]
     },
     "execution_count": 11,
     "metadata": {},
     "output_type": "execute_result"
    }
   ],
   "source": [
    "X.shape, Y.shape"
   ]
  },
  {
   "cell_type": "code",
   "execution_count": 12,
   "metadata": {},
   "outputs": [
    {
     "data": {
      "text/html": [
       "<style>#sk-container-id-1 {color: black;background-color: white;}#sk-container-id-1 pre{padding: 0;}#sk-container-id-1 div.sk-toggleable {background-color: white;}#sk-container-id-1 label.sk-toggleable__label {cursor: pointer;display: block;width: 100%;margin-bottom: 0;padding: 0.3em;box-sizing: border-box;text-align: center;}#sk-container-id-1 label.sk-toggleable__label-arrow:before {content: \"▸\";float: left;margin-right: 0.25em;color: #696969;}#sk-container-id-1 label.sk-toggleable__label-arrow:hover:before {color: black;}#sk-container-id-1 div.sk-estimator:hover label.sk-toggleable__label-arrow:before {color: black;}#sk-container-id-1 div.sk-toggleable__content {max-height: 0;max-width: 0;overflow: hidden;text-align: left;background-color: #f0f8ff;}#sk-container-id-1 div.sk-toggleable__content pre {margin: 0.2em;color: black;border-radius: 0.25em;background-color: #f0f8ff;}#sk-container-id-1 input.sk-toggleable__control:checked~div.sk-toggleable__content {max-height: 200px;max-width: 100%;overflow: auto;}#sk-container-id-1 input.sk-toggleable__control:checked~label.sk-toggleable__label-arrow:before {content: \"▾\";}#sk-container-id-1 div.sk-estimator input.sk-toggleable__control:checked~label.sk-toggleable__label {background-color: #d4ebff;}#sk-container-id-1 div.sk-label input.sk-toggleable__control:checked~label.sk-toggleable__label {background-color: #d4ebff;}#sk-container-id-1 input.sk-hidden--visually {border: 0;clip: rect(1px 1px 1px 1px);clip: rect(1px, 1px, 1px, 1px);height: 1px;margin: -1px;overflow: hidden;padding: 0;position: absolute;width: 1px;}#sk-container-id-1 div.sk-estimator {font-family: monospace;background-color: #f0f8ff;border: 1px dotted black;border-radius: 0.25em;box-sizing: border-box;margin-bottom: 0.5em;}#sk-container-id-1 div.sk-estimator:hover {background-color: #d4ebff;}#sk-container-id-1 div.sk-parallel-item::after {content: \"\";width: 100%;border-bottom: 1px solid gray;flex-grow: 1;}#sk-container-id-1 div.sk-label:hover label.sk-toggleable__label {background-color: #d4ebff;}#sk-container-id-1 div.sk-serial::before {content: \"\";position: absolute;border-left: 1px solid gray;box-sizing: border-box;top: 0;bottom: 0;left: 50%;z-index: 0;}#sk-container-id-1 div.sk-serial {display: flex;flex-direction: column;align-items: center;background-color: white;padding-right: 0.2em;padding-left: 0.2em;position: relative;}#sk-container-id-1 div.sk-item {position: relative;z-index: 1;}#sk-container-id-1 div.sk-parallel {display: flex;align-items: stretch;justify-content: center;background-color: white;position: relative;}#sk-container-id-1 div.sk-item::before, #sk-container-id-1 div.sk-parallel-item::before {content: \"\";position: absolute;border-left: 1px solid gray;box-sizing: border-box;top: 0;bottom: 0;left: 50%;z-index: -1;}#sk-container-id-1 div.sk-parallel-item {display: flex;flex-direction: column;z-index: 1;position: relative;background-color: white;}#sk-container-id-1 div.sk-parallel-item:first-child::after {align-self: flex-end;width: 50%;}#sk-container-id-1 div.sk-parallel-item:last-child::after {align-self: flex-start;width: 50%;}#sk-container-id-1 div.sk-parallel-item:only-child::after {width: 0;}#sk-container-id-1 div.sk-dashed-wrapped {border: 1px dashed gray;margin: 0 0.4em 0.5em 0.4em;box-sizing: border-box;padding-bottom: 0.4em;background-color: white;}#sk-container-id-1 div.sk-label label {font-family: monospace;font-weight: bold;display: inline-block;line-height: 1.2em;}#sk-container-id-1 div.sk-label-container {text-align: center;}#sk-container-id-1 div.sk-container {/* jupyter's `normalize.less` sets `[hidden] { display: none; }` but bootstrap.min.css set `[hidden] { display: none !important; }` so we also need the `!important` here to be able to override the default hidden behavior on the sphinx rendered scikit-learn.org. See: https://github.com/scikit-learn/scikit-learn/issues/21755 */display: inline-block !important;position: relative;}#sk-container-id-1 div.sk-text-repr-fallback {display: none;}</style><div id=\"sk-container-id-1\" class=\"sk-top-container\"><div class=\"sk-text-repr-fallback\"><pre>DecisionTreeClassifier()</pre><b>In a Jupyter environment, please rerun this cell to show the HTML representation or trust the notebook. <br />On GitHub, the HTML representation is unable to render, please try loading this page with nbviewer.org.</b></div><div class=\"sk-container\" hidden><div class=\"sk-item\"><div class=\"sk-estimator sk-toggleable\"><input class=\"sk-toggleable__control sk-hidden--visually\" id=\"sk-estimator-id-1\" type=\"checkbox\" checked><label for=\"sk-estimator-id-1\" class=\"sk-toggleable__label sk-toggleable__label-arrow\">DecisionTreeClassifier</label><div class=\"sk-toggleable__content\"><pre>DecisionTreeClassifier()</pre></div></div></div></div></div>"
      ],
      "text/plain": [
       "DecisionTreeClassifier()"
      ]
     },
     "execution_count": 12,
     "metadata": {},
     "output_type": "execute_result"
    }
   ],
   "source": [
    "X_train, X_test, y_train, y_test = train_test_split(X, Y, train_size=0.8, stratify=Y)\n",
    "model = DecisionTreeClassifier()\n",
    "model.fit(X_train, y_train)\n"
   ]
  },
  {
   "cell_type": "code",
   "execution_count": 13,
   "metadata": {},
   "outputs": [
    {
     "name": "stdout",
     "output_type": "stream",
     "text": [
      "              precision    recall  f1-score   support\n",
      "\n",
      "       ashan       1.00      0.99      1.00       182\n",
      " golden_seed       0.99      1.00      1.00       182\n",
      "\n",
      "    accuracy                           1.00       364\n",
      "   macro avg       1.00      1.00      1.00       364\n",
      "weighted avg       1.00      1.00      1.00       364\n",
      "\n"
     ]
    },
    {
     "data": {
      "text/plain": [
       "golden_seed    183\n",
       "ashan          181\n",
       "dtype: int64"
      ]
     },
     "execution_count": 13,
     "metadata": {},
     "output_type": "execute_result"
    }
   ],
   "source": [
    "from sklearn.metrics import classification_report\n",
    "#precision, recall\n",
    "y_pred = pd.Series(model.predict(X_test))\n",
    "print(classification_report(y_test, y_pred))\n",
    "y_test.head()\n",
    "pd.Series(model.predict(X_test)).value_counts()"
   ]
  },
  {
   "cell_type": "markdown",
   "metadata": {},
   "source": [
    "Это мы сделали полный бред. Сейчас будет PCA model"
   ]
  },
  {
   "cell_type": "code",
   "execution_count": 14,
   "metadata": {},
   "outputs": [],
   "source": [
    "from sklearn.cross_decomposition import PLSRegression\n",
    "from sklearn.decomposition import PCA"
   ]
  },
  {
   "cell_type": "code",
   "execution_count": 17,
   "metadata": {},
   "outputs": [],
   "source": [
    "pca_model = PCA(n_components=3) # преобразовываем данные в три главных компоненты \n",
    "PCA_X_train = pca_model.fit_transform(X_train) # получаем данные для обучения\n",
    "PCA_X_test = pca_model.transform(X_test) # данные для теста"
   ]
  },
  {
   "cell_type": "code",
   "execution_count": 22,
   "metadata": {},
   "outputs": [
    {
     "name": "stdout",
     "output_type": "stream",
     "text": [
      "              precision    recall  f1-score   support\n",
      "\n",
      "       ashan       1.00      1.00      1.00       182\n",
      " golden_seed       1.00      1.00      1.00       182\n",
      "\n",
      "    accuracy                           1.00       364\n",
      "   macro avg       1.00      1.00      1.00       364\n",
      "weighted avg       1.00      1.00      1.00       364\n",
      "\n"
     ]
    }
   ],
   "source": [
    "model_pca = DecisionTreeClassifier()\n",
    "model_pca.fit(PCA_X_train, y_train)\n",
    "y_pred = model_pca.predict(PCA_X_test)\n",
    "print(classification_report(y_test, y_pred))"
   ]
  }
 ],
 "metadata": {
  "kernelspec": {
   "display_name": "Python 3.9.13 ('base')",
   "language": "python",
   "name": "python3"
  },
  "language_info": {
   "codemirror_mode": {
    "name": "ipython",
    "version": 3
   },
   "file_extension": ".py",
   "mimetype": "text/x-python",
   "name": "python",
   "nbconvert_exporter": "python",
   "pygments_lexer": "ipython3",
   "version": "3.9.13"
  },
  "orig_nbformat": 4,
  "vscode": {
   "interpreter": {
    "hash": "ce4612f5cc43648f503aa8eb7f2a41c796d0d330c9f537245bf6e2f2c567c915"
   }
  }
 },
 "nbformat": 4,
 "nbformat_minor": 2
}
