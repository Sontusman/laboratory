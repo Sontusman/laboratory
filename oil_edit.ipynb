{
 "cells": [
  {
   "cell_type": "markdown",
   "metadata": {},
   "source": [
    "Supervised binary classification task for predicting the brand of sunflower oil using the optical analysis.\n",
    "\n",
    "Target brands: \"Red price\" and \"Golden_seed\" "
   ]
  },
  {
   "cell_type": "markdown",
   "metadata": {},
   "source": [
    "Datasets are presented in the following files: \"oil_golden_seed copy.csv\" and \"oil_red_price copy.csv\". These are optical spectrum data from the spectrographic measurements.\n",
    "\n",
    "Feature tensor represents a set of relative absorbtion ratio (\"%T\") of light passing through the sample for each wavelength value. So we have 2-dimension tensor [sample_number, absorbtion ratio]."
   ]
  },
  {
   "cell_type": "code",
   "execution_count": 26,
   "metadata": {},
   "outputs": [
    {
     "name": "stderr",
     "output_type": "stream",
     "text": [
      "/tmp/ipykernel_26180/1256574904.py:2: DeprecationWarning: Importing display from IPython.core.display is deprecated since IPython 7.14, please import from IPython display\n",
      "  from IPython.core.display import display, HTML\n"
     ]
    },
    {
     "data": {
      "text/html": [
       "<style>.container { width:100% !important; }</style>"
      ],
      "text/plain": [
       "<IPython.core.display.HTML object>"
      ]
     },
     "metadata": {},
     "output_type": "display_data"
    }
   ],
   "source": [
    "import pandas as pd\n",
    "from IPython.core.display import display, HTML\n",
    "display(HTML(\"<style>.container { width:100% !important; }</style>\"))\n",
    "import matplotlib.pyplot as plt\n",
    "import seaborn as sns\n",
    "import numpy as np\n",
    "pd.set_option('display.max_columns', 100)"
   ]
  },
  {
   "cell_type": "markdown",
   "metadata": {},
   "source": [
    "Importing and preprocessing data."
   ]
  },
  {
   "cell_type": "code",
   "execution_count": 2,
   "metadata": {},
   "outputs": [],
   "source": [
    "df_golden_seed = pd.read_csv(\"oil_golden_seed copy.csv\")\n",
    "df_red_price = pd.read_csv(\"oil_red_price copy.csv\")\n"
   ]
  },
  {
   "cell_type": "code",
   "execution_count": 3,
   "metadata": {},
   "outputs": [],
   "source": [
    "df_golden_seed= df_golden_seed.transpose().dropna().transpose()\n",
    "df_red_price= df_red_price.transpose().dropna().transpose()\n"
   ]
  },
  {
   "cell_type": "code",
   "execution_count": 4,
   "metadata": {},
   "outputs": [],
   "source": [
    "def transform_df(df, targ):\n",
    "    df = df.filter(regex = r\"%T\")\n",
    "    df1_1 = df.transpose()\n",
    "    df1_1['target'] = targ\n",
    "    return df1_1"
   ]
  },
  {
   "cell_type": "code",
   "execution_count": 5,
   "metadata": {},
   "outputs": [],
   "source": [
    "df_golden_seed_1 = transform_df(df_golden_seed, \"golden_seed\")\n",
    "df_red_price_1 = transform_df(df_red_price, \"red_price\")\n"
   ]
  },
  {
   "cell_type": "markdown",
   "metadata": {},
   "source": [
    "Mean \"Red Price\" sunflower oil spectrum visualisation:"
   ]
  },
  {
   "cell_type": "code",
   "execution_count": 6,
   "metadata": {},
   "outputs": [
    {
     "name": "stderr",
     "output_type": "stream",
     "text": [
      "/tmp/ipykernel_26180/1036672877.py:1: FutureWarning: Dropping of nuisance columns in DataFrame reductions (with 'numeric_only=None') is deprecated; in a future version this will raise TypeError.  Select only valid columns before calling the reduction.\n",
      "  df_red_price_1.mean().plot()\n"
     ]
    },
    {
     "data": {
      "text/plain": [
       "<AxesSubplot:>"
      ]
     },
     "execution_count": 6,
     "metadata": {},
     "output_type": "execute_result"
    },
    {
     "data": {
      "image/png": "[encoded data removed]",
      "text/plain": [
       "<Figure size 640x480 with 1 Axes>"
      ]
     },
     "metadata": {},
     "output_type": "display_data"
    }
   ],
   "source": [
    "df_red_price_1.mean().plot()"
   ]
  },
  {
   "cell_type": "markdown",
   "metadata": {},
   "source": [
    "Concatenating both spectrums into the single dataset:"
   ]
  },
  {
   "cell_type": "code",
   "execution_count": 27,
   "metadata": {},
   "outputs": [
    {
     "data": {
      "text/html": [
       "<div>\n",
       "<style scoped>\n",
       "    .dataframe tbody tr th:only-of-type {\n",
       "        vertical-align: middle;\n",
       "    }\n",
       "\n",
       "    .dataframe tbody tr th {\n",
       "        vertical-align: top;\n",
       "    }\n",
       "\n",
       "    .dataframe thead th {\n",
       "        text-align: right;\n",
       "    }\n",
       "</style>\n",
       "<table border=\"1\" class=\"dataframe\">\n",
       "  <thead>\n",
       "    <tr style=\"text-align: right;\">\n",
       "      <th></th>\n",
       "      <th>0</th>\n",
       "      <th>1</th>\n",
       "      <th>2</th>\n",
       "      <th>3</th>\n",
       "      <th>4</th>\n",
       "      <th>5</th>\n",
       "      <th>6</th>\n",
       "      <th>7</th>\n",
       "      <th>8</th>\n",
       "      <th>9</th>\n",
       "      <th>10</th>\n",
       "      <th>11</th>\n",
       "      <th>12</th>\n",
       "      <th>13</th>\n",
       "      <th>14</th>\n",
       "      <th>15</th>\n",
       "      <th>16</th>\n",
       "      <th>17</th>\n",
       "      <th>18</th>\n",
       "      <th>19</th>\n",
       "      <th>20</th>\n",
       "      <th>21</th>\n",
       "      <th>22</th>\n",
       "      <th>23</th>\n",
       "      <th>24</th>\n",
       "      <th>25</th>\n",
       "      <th>26</th>\n",
       "      <th>27</th>\n",
       "      <th>28</th>\n",
       "      <th>29</th>\n",
       "      <th>30</th>\n",
       "      <th>31</th>\n",
       "      <th>32</th>\n",
       "      <th>33</th>\n",
       "      <th>34</th>\n",
       "      <th>35</th>\n",
       "      <th>36</th>\n",
       "      <th>37</th>\n",
       "      <th>38</th>\n",
       "      <th>39</th>\n",
       "      <th>40</th>\n",
       "      <th>41</th>\n",
       "      <th>42</th>\n",
       "      <th>43</th>\n",
       "      <th>44</th>\n",
       "      <th>45</th>\n",
       "      <th>46</th>\n",
       "      <th>47</th>\n",
       "      <th>48</th>\n",
       "      <th>49</th>\n",
       "      <th>...</th>\n",
       "      <th>862</th>\n",
       "      <th>863</th>\n",
       "      <th>864</th>\n",
       "      <th>865</th>\n",
       "      <th>866</th>\n",
       "      <th>867</th>\n",
       "      <th>868</th>\n",
       "      <th>869</th>\n",
       "      <th>870</th>\n",
       "      <th>871</th>\n",
       "      <th>872</th>\n",
       "      <th>873</th>\n",
       "      <th>874</th>\n",
       "      <th>875</th>\n",
       "      <th>876</th>\n",
       "      <th>877</th>\n",
       "      <th>878</th>\n",
       "      <th>879</th>\n",
       "      <th>880</th>\n",
       "      <th>881</th>\n",
       "      <th>882</th>\n",
       "      <th>883</th>\n",
       "      <th>884</th>\n",
       "      <th>885</th>\n",
       "      <th>886</th>\n",
       "      <th>887</th>\n",
       "      <th>888</th>\n",
       "      <th>889</th>\n",
       "      <th>890</th>\n",
       "      <th>891</th>\n",
       "      <th>892</th>\n",
       "      <th>893</th>\n",
       "      <th>894</th>\n",
       "      <th>895</th>\n",
       "      <th>896</th>\n",
       "      <th>897</th>\n",
       "      <th>898</th>\n",
       "      <th>899</th>\n",
       "      <th>900</th>\n",
       "      <th>901</th>\n",
       "      <th>902</th>\n",
       "      <th>903</th>\n",
       "      <th>904</th>\n",
       "      <th>905</th>\n",
       "      <th>906</th>\n",
       "      <th>907</th>\n",
       "      <th>908</th>\n",
       "      <th>909</th>\n",
       "      <th>910</th>\n",
       "      <th>target</th>\n",
       "    </tr>\n",
       "  </thead>\n",
       "  <tbody>\n",
       "    <tr>\n",
       "      <th>%T</th>\n",
       "      <td>99.337090</td>\n",
       "      <td>100.249802</td>\n",
       "      <td>98.177658</td>\n",
       "      <td>97.640030</td>\n",
       "      <td>102.129456</td>\n",
       "      <td>100.725746</td>\n",
       "      <td>97.896927</td>\n",
       "      <td>103.310608</td>\n",
       "      <td>98.907608</td>\n",
       "      <td>99.889305</td>\n",
       "      <td>100.818047</td>\n",
       "      <td>99.599586</td>\n",
       "      <td>101.023758</td>\n",
       "      <td>98.572319</td>\n",
       "      <td>101.100815</td>\n",
       "      <td>101.036278</td>\n",
       "      <td>98.960754</td>\n",
       "      <td>101.472092</td>\n",
       "      <td>98.959923</td>\n",
       "      <td>100.572456</td>\n",
       "      <td>101.594231</td>\n",
       "      <td>100.222443</td>\n",
       "      <td>98.781944</td>\n",
       "      <td>102.984085</td>\n",
       "      <td>100.827980</td>\n",
       "      <td>99.582977</td>\n",
       "      <td>101.087250</td>\n",
       "      <td>99.527252</td>\n",
       "      <td>99.184128</td>\n",
       "      <td>99.938736</td>\n",
       "      <td>102.308342</td>\n",
       "      <td>101.987144</td>\n",
       "      <td>100.781082</td>\n",
       "      <td>101.035454</td>\n",
       "      <td>102.068245</td>\n",
       "      <td>101.017487</td>\n",
       "      <td>100.762711</td>\n",
       "      <td>101.211525</td>\n",
       "      <td>101.291206</td>\n",
       "      <td>100.892219</td>\n",
       "      <td>101.262543</td>\n",
       "      <td>100.699890</td>\n",
       "      <td>100.227989</td>\n",
       "      <td>100.621185</td>\n",
       "      <td>101.849655</td>\n",
       "      <td>100.765945</td>\n",
       "      <td>101.958107</td>\n",
       "      <td>102.638878</td>\n",
       "      <td>101.775429</td>\n",
       "      <td>101.234032</td>\n",
       "      <td>...</td>\n",
       "      <td>96.829811</td>\n",
       "      <td>96.924141</td>\n",
       "      <td>96.973640</td>\n",
       "      <td>97.022408</td>\n",
       "      <td>97.007874</td>\n",
       "      <td>97.015884</td>\n",
       "      <td>97.047791</td>\n",
       "      <td>97.025993</td>\n",
       "      <td>97.067467</td>\n",
       "      <td>97.064178</td>\n",
       "      <td>97.057228</td>\n",
       "      <td>97.138557</td>\n",
       "      <td>97.132919</td>\n",
       "      <td>97.156570</td>\n",
       "      <td>97.179428</td>\n",
       "      <td>97.207130</td>\n",
       "      <td>97.245537</td>\n",
       "      <td>97.292358</td>\n",
       "      <td>97.345360</td>\n",
       "      <td>97.441963</td>\n",
       "      <td>97.514069</td>\n",
       "      <td>97.599442</td>\n",
       "      <td>97.663567</td>\n",
       "      <td>97.674149</td>\n",
       "      <td>97.658417</td>\n",
       "      <td>97.596268</td>\n",
       "      <td>97.485443</td>\n",
       "      <td>97.375107</td>\n",
       "      <td>97.175476</td>\n",
       "      <td>96.959152</td>\n",
       "      <td>96.711700</td>\n",
       "      <td>96.355103</td>\n",
       "      <td>95.967651</td>\n",
       "      <td>95.570099</td>\n",
       "      <td>95.191406</td>\n",
       "      <td>94.836639</td>\n",
       "      <td>94.475403</td>\n",
       "      <td>94.090805</td>\n",
       "      <td>93.743607</td>\n",
       "      <td>93.474838</td>\n",
       "      <td>93.132202</td>\n",
       "      <td>92.727028</td>\n",
       "      <td>92.505508</td>\n",
       "      <td>91.481812</td>\n",
       "      <td>91.429367</td>\n",
       "      <td>90.301964</td>\n",
       "      <td>89.043396</td>\n",
       "      <td>89.710884</td>\n",
       "      <td>87.991386</td>\n",
       "      <td>red_price</td>\n",
       "    </tr>\n",
       "    <tr>\n",
       "      <th>%T.1</th>\n",
       "      <td>99.337090</td>\n",
       "      <td>100.249802</td>\n",
       "      <td>98.177658</td>\n",
       "      <td>97.640030</td>\n",
       "      <td>102.129456</td>\n",
       "      <td>100.725746</td>\n",
       "      <td>97.896927</td>\n",
       "      <td>103.310608</td>\n",
       "      <td>98.907608</td>\n",
       "      <td>99.889305</td>\n",
       "      <td>100.818047</td>\n",
       "      <td>99.599586</td>\n",
       "      <td>101.023758</td>\n",
       "      <td>98.572319</td>\n",
       "      <td>101.100815</td>\n",
       "      <td>101.036278</td>\n",
       "      <td>98.960754</td>\n",
       "      <td>101.472092</td>\n",
       "      <td>98.959923</td>\n",
       "      <td>100.572456</td>\n",
       "      <td>101.594231</td>\n",
       "      <td>100.222443</td>\n",
       "      <td>98.781944</td>\n",
       "      <td>102.984085</td>\n",
       "      <td>100.827980</td>\n",
       "      <td>99.582977</td>\n",
       "      <td>101.087250</td>\n",
       "      <td>99.527252</td>\n",
       "      <td>99.184128</td>\n",
       "      <td>99.938736</td>\n",
       "      <td>102.308342</td>\n",
       "      <td>101.987144</td>\n",
       "      <td>100.781082</td>\n",
       "      <td>101.035454</td>\n",
       "      <td>102.068245</td>\n",
       "      <td>101.017487</td>\n",
       "      <td>100.762711</td>\n",
       "      <td>101.211525</td>\n",
       "      <td>101.291206</td>\n",
       "      <td>100.892219</td>\n",
       "      <td>101.262543</td>\n",
       "      <td>100.699890</td>\n",
       "      <td>100.227989</td>\n",
       "      <td>100.621185</td>\n",
       "      <td>101.849655</td>\n",
       "      <td>100.765945</td>\n",
       "      <td>101.958107</td>\n",
       "      <td>102.638878</td>\n",
       "      <td>101.775429</td>\n",
       "      <td>101.234032</td>\n",
       "      <td>...</td>\n",
       "      <td>96.829811</td>\n",
       "      <td>96.924141</td>\n",
       "      <td>96.973640</td>\n",
       "      <td>97.022408</td>\n",
       "      <td>97.007874</td>\n",
       "      <td>97.015884</td>\n",
       "      <td>97.047791</td>\n",
       "      <td>97.025993</td>\n",
       "      <td>97.067467</td>\n",
       "      <td>97.064178</td>\n",
       "      <td>97.057228</td>\n",
       "      <td>97.138557</td>\n",
       "      <td>97.132919</td>\n",
       "      <td>97.156570</td>\n",
       "      <td>97.179428</td>\n",
       "      <td>97.207130</td>\n",
       "      <td>97.245537</td>\n",
       "      <td>97.292358</td>\n",
       "      <td>97.345360</td>\n",
       "      <td>97.441963</td>\n",
       "      <td>97.514069</td>\n",
       "      <td>97.599442</td>\n",
       "      <td>97.663567</td>\n",
       "      <td>97.674149</td>\n",
       "      <td>97.658417</td>\n",
       "      <td>97.596268</td>\n",
       "      <td>97.485443</td>\n",
       "      <td>97.375107</td>\n",
       "      <td>97.175476</td>\n",
       "      <td>96.959152</td>\n",
       "      <td>96.711700</td>\n",
       "      <td>96.355103</td>\n",
       "      <td>95.967651</td>\n",
       "      <td>95.570099</td>\n",
       "      <td>95.191406</td>\n",
       "      <td>94.836639</td>\n",
       "      <td>94.475403</td>\n",
       "      <td>94.090805</td>\n",
       "      <td>93.743607</td>\n",
       "      <td>93.474838</td>\n",
       "      <td>93.132202</td>\n",
       "      <td>92.727028</td>\n",
       "      <td>92.505508</td>\n",
       "      <td>91.481812</td>\n",
       "      <td>91.429367</td>\n",
       "      <td>90.301964</td>\n",
       "      <td>89.043396</td>\n",
       "      <td>89.710884</td>\n",
       "      <td>87.991386</td>\n",
       "      <td>red_price</td>\n",
       "    </tr>\n",
       "    <tr>\n",
       "      <th>%T.2</th>\n",
       "      <td>99.337090</td>\n",
       "      <td>100.249802</td>\n",
       "      <td>98.177658</td>\n",
       "      <td>97.640030</td>\n",
       "      <td>102.129456</td>\n",
       "      <td>100.725746</td>\n",
       "      <td>97.896927</td>\n",
       "      <td>103.310608</td>\n",
       "      <td>98.907608</td>\n",
       "      <td>99.889305</td>\n",
       "      <td>100.818047</td>\n",
       "      <td>99.599586</td>\n",
       "      <td>101.023758</td>\n",
       "      <td>98.572319</td>\n",
       "      <td>101.100815</td>\n",
       "      <td>101.036278</td>\n",
       "      <td>98.960754</td>\n",
       "      <td>101.472092</td>\n",
       "      <td>98.959923</td>\n",
       "      <td>100.572456</td>\n",
       "      <td>101.594231</td>\n",
       "      <td>100.222443</td>\n",
       "      <td>98.781944</td>\n",
       "      <td>102.984085</td>\n",
       "      <td>100.827980</td>\n",
       "      <td>99.582977</td>\n",
       "      <td>101.087250</td>\n",
       "      <td>99.527252</td>\n",
       "      <td>99.184128</td>\n",
       "      <td>99.938736</td>\n",
       "      <td>102.308342</td>\n",
       "      <td>101.987144</td>\n",
       "      <td>100.781082</td>\n",
       "      <td>101.035454</td>\n",
       "      <td>102.068245</td>\n",
       "      <td>101.017487</td>\n",
       "      <td>100.762711</td>\n",
       "      <td>101.211525</td>\n",
       "      <td>101.291206</td>\n",
       "      <td>100.892219</td>\n",
       "      <td>101.262543</td>\n",
       "      <td>100.699890</td>\n",
       "      <td>100.227989</td>\n",
       "      <td>100.621185</td>\n",
       "      <td>101.849655</td>\n",
       "      <td>100.765945</td>\n",
       "      <td>101.958107</td>\n",
       "      <td>102.638878</td>\n",
       "      <td>101.775429</td>\n",
       "      <td>101.234032</td>\n",
       "      <td>...</td>\n",
       "      <td>96.829811</td>\n",
       "      <td>96.924141</td>\n",
       "      <td>96.973640</td>\n",
       "      <td>97.022408</td>\n",
       "      <td>97.007874</td>\n",
       "      <td>97.015884</td>\n",
       "      <td>97.047791</td>\n",
       "      <td>97.025993</td>\n",
       "      <td>97.067467</td>\n",
       "      <td>97.064178</td>\n",
       "      <td>97.057228</td>\n",
       "      <td>97.138557</td>\n",
       "      <td>97.132919</td>\n",
       "      <td>97.156570</td>\n",
       "      <td>97.179428</td>\n",
       "      <td>97.207130</td>\n",
       "      <td>97.245537</td>\n",
       "      <td>97.292358</td>\n",
       "      <td>97.345360</td>\n",
       "      <td>97.441963</td>\n",
       "      <td>97.514069</td>\n",
       "      <td>97.599442</td>\n",
       "      <td>97.663567</td>\n",
       "      <td>97.674149</td>\n",
       "      <td>97.658417</td>\n",
       "      <td>97.596268</td>\n",
       "      <td>97.485443</td>\n",
       "      <td>97.375107</td>\n",
       "      <td>97.175476</td>\n",
       "      <td>96.959152</td>\n",
       "      <td>96.711700</td>\n",
       "      <td>96.355103</td>\n",
       "      <td>95.967651</td>\n",
       "      <td>95.570099</td>\n",
       "      <td>95.191406</td>\n",
       "      <td>94.836639</td>\n",
       "      <td>94.475403</td>\n",
       "      <td>94.090805</td>\n",
       "      <td>93.743607</td>\n",
       "      <td>93.474838</td>\n",
       "      <td>93.132202</td>\n",
       "      <td>92.727028</td>\n",
       "      <td>92.505508</td>\n",
       "      <td>91.481812</td>\n",
       "      <td>91.429367</td>\n",
       "      <td>90.301964</td>\n",
       "      <td>89.043396</td>\n",
       "      <td>89.710884</td>\n",
       "      <td>87.991386</td>\n",
       "      <td>red_price</td>\n",
       "    </tr>\n",
       "    <tr>\n",
       "      <th>%T.3</th>\n",
       "      <td>99.337090</td>\n",
       "      <td>100.249802</td>\n",
       "      <td>98.177658</td>\n",
       "      <td>97.640030</td>\n",
       "      <td>102.129456</td>\n",
       "      <td>100.725746</td>\n",
       "      <td>97.896927</td>\n",
       "      <td>103.310608</td>\n",
       "      <td>98.907608</td>\n",
       "      <td>99.889305</td>\n",
       "      <td>100.818047</td>\n",
       "      <td>99.599586</td>\n",
       "      <td>101.023758</td>\n",
       "      <td>98.572319</td>\n",
       "      <td>101.100815</td>\n",
       "      <td>101.036278</td>\n",
       "      <td>98.960754</td>\n",
       "      <td>101.472092</td>\n",
       "      <td>98.959923</td>\n",
       "      <td>100.572456</td>\n",
       "      <td>101.594231</td>\n",
       "      <td>100.222443</td>\n",
       "      <td>98.781944</td>\n",
       "      <td>102.984085</td>\n",
       "      <td>100.827980</td>\n",
       "      <td>99.582977</td>\n",
       "      <td>101.087250</td>\n",
       "      <td>99.527252</td>\n",
       "      <td>99.184128</td>\n",
       "      <td>99.938736</td>\n",
       "      <td>102.308342</td>\n",
       "      <td>101.987144</td>\n",
       "      <td>100.781082</td>\n",
       "      <td>101.035454</td>\n",
       "      <td>102.068245</td>\n",
       "      <td>101.017487</td>\n",
       "      <td>100.762711</td>\n",
       "      <td>101.211525</td>\n",
       "      <td>101.291206</td>\n",
       "      <td>100.892219</td>\n",
       "      <td>101.262543</td>\n",
       "      <td>100.699890</td>\n",
       "      <td>100.227989</td>\n",
       "      <td>100.621185</td>\n",
       "      <td>101.849655</td>\n",
       "      <td>100.765945</td>\n",
       "      <td>101.958107</td>\n",
       "      <td>102.638878</td>\n",
       "      <td>101.775429</td>\n",
       "      <td>101.234032</td>\n",
       "      <td>...</td>\n",
       "      <td>96.829811</td>\n",
       "      <td>96.924141</td>\n",
       "      <td>96.973640</td>\n",
       "      <td>97.022408</td>\n",
       "      <td>97.007874</td>\n",
       "      <td>97.015884</td>\n",
       "      <td>97.047791</td>\n",
       "      <td>97.025993</td>\n",
       "      <td>97.067467</td>\n",
       "      <td>97.064178</td>\n",
       "      <td>97.057228</td>\n",
       "      <td>97.138557</td>\n",
       "      <td>97.132919</td>\n",
       "      <td>97.156570</td>\n",
       "      <td>97.179428</td>\n",
       "      <td>97.207130</td>\n",
       "      <td>97.245537</td>\n",
       "      <td>97.292358</td>\n",
       "      <td>97.345360</td>\n",
       "      <td>97.441963</td>\n",
       "      <td>97.514069</td>\n",
       "      <td>97.599442</td>\n",
       "      <td>97.663567</td>\n",
       "      <td>97.674149</td>\n",
       "      <td>97.658417</td>\n",
       "      <td>97.596268</td>\n",
       "      <td>97.485443</td>\n",
       "      <td>97.375107</td>\n",
       "      <td>97.175476</td>\n",
       "      <td>96.959152</td>\n",
       "      <td>96.711700</td>\n",
       "      <td>96.355103</td>\n",
       "      <td>95.967651</td>\n",
       "      <td>95.570099</td>\n",
       "      <td>95.191406</td>\n",
       "      <td>94.836639</td>\n",
       "      <td>94.475403</td>\n",
       "      <td>94.090805</td>\n",
       "      <td>93.743607</td>\n",
       "      <td>93.474838</td>\n",
       "      <td>93.132202</td>\n",
       "      <td>92.727028</td>\n",
       "      <td>92.505508</td>\n",
       "      <td>91.481812</td>\n",
       "      <td>91.429367</td>\n",
       "      <td>90.301964</td>\n",
       "      <td>89.043396</td>\n",
       "      <td>89.710884</td>\n",
       "      <td>87.991386</td>\n",
       "      <td>red_price</td>\n",
       "    </tr>\n",
       "    <tr>\n",
       "      <th>%T.4</th>\n",
       "      <td>99.337090</td>\n",
       "      <td>100.249802</td>\n",
       "      <td>98.177658</td>\n",
       "      <td>97.640030</td>\n",
       "      <td>102.129456</td>\n",
       "      <td>100.725746</td>\n",
       "      <td>97.896927</td>\n",
       "      <td>103.310608</td>\n",
       "      <td>98.907608</td>\n",
       "      <td>99.889305</td>\n",
       "      <td>100.818047</td>\n",
       "      <td>99.599586</td>\n",
       "      <td>101.023758</td>\n",
       "      <td>98.572319</td>\n",
       "      <td>101.100815</td>\n",
       "      <td>101.036278</td>\n",
       "      <td>98.960754</td>\n",
       "      <td>101.472092</td>\n",
       "      <td>98.959923</td>\n",
       "      <td>100.572456</td>\n",
       "      <td>101.594231</td>\n",
       "      <td>100.222443</td>\n",
       "      <td>98.781944</td>\n",
       "      <td>102.984085</td>\n",
       "      <td>100.827980</td>\n",
       "      <td>99.582977</td>\n",
       "      <td>101.087250</td>\n",
       "      <td>99.527252</td>\n",
       "      <td>99.184128</td>\n",
       "      <td>99.938736</td>\n",
       "      <td>102.308342</td>\n",
       "      <td>101.987144</td>\n",
       "      <td>100.781082</td>\n",
       "      <td>101.035454</td>\n",
       "      <td>102.068245</td>\n",
       "      <td>101.017487</td>\n",
       "      <td>100.762711</td>\n",
       "      <td>101.211525</td>\n",
       "      <td>101.291206</td>\n",
       "      <td>100.892219</td>\n",
       "      <td>101.262543</td>\n",
       "      <td>100.699890</td>\n",
       "      <td>100.227989</td>\n",
       "      <td>100.621185</td>\n",
       "      <td>101.849655</td>\n",
       "      <td>100.765945</td>\n",
       "      <td>101.958107</td>\n",
       "      <td>102.638878</td>\n",
       "      <td>101.775429</td>\n",
       "      <td>101.234032</td>\n",
       "      <td>...</td>\n",
       "      <td>96.829811</td>\n",
       "      <td>96.924141</td>\n",
       "      <td>96.973640</td>\n",
       "      <td>97.022408</td>\n",
       "      <td>97.007874</td>\n",
       "      <td>97.015884</td>\n",
       "      <td>97.047791</td>\n",
       "      <td>97.025993</td>\n",
       "      <td>97.067467</td>\n",
       "      <td>97.064178</td>\n",
       "      <td>97.057228</td>\n",
       "      <td>97.138557</td>\n",
       "      <td>97.132919</td>\n",
       "      <td>97.156570</td>\n",
       "      <td>97.179428</td>\n",
       "      <td>97.207130</td>\n",
       "      <td>97.245537</td>\n",
       "      <td>97.292358</td>\n",
       "      <td>97.345360</td>\n",
       "      <td>97.441963</td>\n",
       "      <td>97.514069</td>\n",
       "      <td>97.599442</td>\n",
       "      <td>97.663567</td>\n",
       "      <td>97.674149</td>\n",
       "      <td>97.658417</td>\n",
       "      <td>97.596268</td>\n",
       "      <td>97.485443</td>\n",
       "      <td>97.375107</td>\n",
       "      <td>97.175476</td>\n",
       "      <td>96.959152</td>\n",
       "      <td>96.711700</td>\n",
       "      <td>96.355103</td>\n",
       "      <td>95.967651</td>\n",
       "      <td>95.570099</td>\n",
       "      <td>95.191406</td>\n",
       "      <td>94.836639</td>\n",
       "      <td>94.475403</td>\n",
       "      <td>94.090805</td>\n",
       "      <td>93.743607</td>\n",
       "      <td>93.474838</td>\n",
       "      <td>93.132202</td>\n",
       "      <td>92.727028</td>\n",
       "      <td>92.505508</td>\n",
       "      <td>91.481812</td>\n",
       "      <td>91.429367</td>\n",
       "      <td>90.301964</td>\n",
       "      <td>89.043396</td>\n",
       "      <td>89.710884</td>\n",
       "      <td>87.991386</td>\n",
       "      <td>red_price</td>\n",
       "    </tr>\n",
       "    <tr>\n",
       "      <th>...</th>\n",
       "      <td>...</td>\n",
       "      <td>...</td>\n",
       "      <td>...</td>\n",
       "      <td>...</td>\n",
       "      <td>...</td>\n",
       "      <td>...</td>\n",
       "      <td>...</td>\n",
       "      <td>...</td>\n",
       "      <td>...</td>\n",
       "      <td>...</td>\n",
       "      <td>...</td>\n",
       "      <td>...</td>\n",
       "      <td>...</td>\n",
       "      <td>...</td>\n",
       "      <td>...</td>\n",
       "      <td>...</td>\n",
       "      <td>...</td>\n",
       "      <td>...</td>\n",
       "      <td>...</td>\n",
       "      <td>...</td>\n",
       "      <td>...</td>\n",
       "      <td>...</td>\n",
       "      <td>...</td>\n",
       "      <td>...</td>\n",
       "      <td>...</td>\n",
       "      <td>...</td>\n",
       "      <td>...</td>\n",
       "      <td>...</td>\n",
       "      <td>...</td>\n",
       "      <td>...</td>\n",
       "      <td>...</td>\n",
       "      <td>...</td>\n",
       "      <td>...</td>\n",
       "      <td>...</td>\n",
       "      <td>...</td>\n",
       "      <td>...</td>\n",
       "      <td>...</td>\n",
       "      <td>...</td>\n",
       "      <td>...</td>\n",
       "      <td>...</td>\n",
       "      <td>...</td>\n",
       "      <td>...</td>\n",
       "      <td>...</td>\n",
       "      <td>...</td>\n",
       "      <td>...</td>\n",
       "      <td>...</td>\n",
       "      <td>...</td>\n",
       "      <td>...</td>\n",
       "      <td>...</td>\n",
       "      <td>...</td>\n",
       "      <td>...</td>\n",
       "      <td>...</td>\n",
       "      <td>...</td>\n",
       "      <td>...</td>\n",
       "      <td>...</td>\n",
       "      <td>...</td>\n",
       "      <td>...</td>\n",
       "      <td>...</td>\n",
       "      <td>...</td>\n",
       "      <td>...</td>\n",
       "      <td>...</td>\n",
       "      <td>...</td>\n",
       "      <td>...</td>\n",
       "      <td>...</td>\n",
       "      <td>...</td>\n",
       "      <td>...</td>\n",
       "      <td>...</td>\n",
       "      <td>...</td>\n",
       "      <td>...</td>\n",
       "      <td>...</td>\n",
       "      <td>...</td>\n",
       "      <td>...</td>\n",
       "      <td>...</td>\n",
       "      <td>...</td>\n",
       "      <td>...</td>\n",
       "      <td>...</td>\n",
       "      <td>...</td>\n",
       "      <td>...</td>\n",
       "      <td>...</td>\n",
       "      <td>...</td>\n",
       "      <td>...</td>\n",
       "      <td>...</td>\n",
       "      <td>...</td>\n",
       "      <td>...</td>\n",
       "      <td>...</td>\n",
       "      <td>...</td>\n",
       "      <td>...</td>\n",
       "      <td>...</td>\n",
       "      <td>...</td>\n",
       "      <td>...</td>\n",
       "      <td>...</td>\n",
       "      <td>...</td>\n",
       "      <td>...</td>\n",
       "      <td>...</td>\n",
       "      <td>...</td>\n",
       "      <td>...</td>\n",
       "      <td>...</td>\n",
       "      <td>...</td>\n",
       "      <td>...</td>\n",
       "      <td>...</td>\n",
       "      <td>...</td>\n",
       "    </tr>\n",
       "    <tr>\n",
       "      <th>%T.101</th>\n",
       "      <td>62.483829</td>\n",
       "      <td>67.367767</td>\n",
       "      <td>65.049255</td>\n",
       "      <td>65.096191</td>\n",
       "      <td>70.633224</td>\n",
       "      <td>69.351250</td>\n",
       "      <td>66.493034</td>\n",
       "      <td>67.655632</td>\n",
       "      <td>68.316307</td>\n",
       "      <td>64.498734</td>\n",
       "      <td>63.117027</td>\n",
       "      <td>64.335403</td>\n",
       "      <td>64.846596</td>\n",
       "      <td>66.498085</td>\n",
       "      <td>64.704140</td>\n",
       "      <td>67.510841</td>\n",
       "      <td>64.886597</td>\n",
       "      <td>64.019730</td>\n",
       "      <td>64.733955</td>\n",
       "      <td>64.375839</td>\n",
       "      <td>63.082283</td>\n",
       "      <td>64.865608</td>\n",
       "      <td>63.743381</td>\n",
       "      <td>64.460968</td>\n",
       "      <td>63.628132</td>\n",
       "      <td>63.120205</td>\n",
       "      <td>64.160667</td>\n",
       "      <td>61.551209</td>\n",
       "      <td>62.969582</td>\n",
       "      <td>59.279476</td>\n",
       "      <td>62.160091</td>\n",
       "      <td>64.271446</td>\n",
       "      <td>61.193596</td>\n",
       "      <td>60.555817</td>\n",
       "      <td>61.262119</td>\n",
       "      <td>61.755157</td>\n",
       "      <td>61.497974</td>\n",
       "      <td>60.273968</td>\n",
       "      <td>60.711624</td>\n",
       "      <td>60.923344</td>\n",
       "      <td>58.501892</td>\n",
       "      <td>61.760502</td>\n",
       "      <td>57.901836</td>\n",
       "      <td>59.521507</td>\n",
       "      <td>58.514572</td>\n",
       "      <td>58.041309</td>\n",
       "      <td>57.891064</td>\n",
       "      <td>57.404942</td>\n",
       "      <td>58.448868</td>\n",
       "      <td>57.605286</td>\n",
       "      <td>...</td>\n",
       "      <td>0.023157</td>\n",
       "      <td>0.019037</td>\n",
       "      <td>0.013582</td>\n",
       "      <td>0.021078</td>\n",
       "      <td>0.027460</td>\n",
       "      <td>0.024666</td>\n",
       "      <td>0.032688</td>\n",
       "      <td>0.021969</td>\n",
       "      <td>0.028445</td>\n",
       "      <td>0.021213</td>\n",
       "      <td>0.035502</td>\n",
       "      <td>0.015476</td>\n",
       "      <td>0.021136</td>\n",
       "      <td>0.025333</td>\n",
       "      <td>0.026453</td>\n",
       "      <td>0.023574</td>\n",
       "      <td>0.019265</td>\n",
       "      <td>0.017427</td>\n",
       "      <td>0.026385</td>\n",
       "      <td>0.040211</td>\n",
       "      <td>0.038724</td>\n",
       "      <td>0.042043</td>\n",
       "      <td>0.040766</td>\n",
       "      <td>0.039367</td>\n",
       "      <td>0.031937</td>\n",
       "      <td>0.039529</td>\n",
       "      <td>0.033801</td>\n",
       "      <td>0.035758</td>\n",
       "      <td>0.036596</td>\n",
       "      <td>0.035577</td>\n",
       "      <td>0.039063</td>\n",
       "      <td>0.033995</td>\n",
       "      <td>0.041593</td>\n",
       "      <td>0.040728</td>\n",
       "      <td>0.049618</td>\n",
       "      <td>0.037891</td>\n",
       "      <td>0.044380</td>\n",
       "      <td>0.046815</td>\n",
       "      <td>0.051705</td>\n",
       "      <td>0.053878</td>\n",
       "      <td>0.044519</td>\n",
       "      <td>0.053282</td>\n",
       "      <td>0.064846</td>\n",
       "      <td>0.064514</td>\n",
       "      <td>0.075150</td>\n",
       "      <td>0.068457</td>\n",
       "      <td>0.074078</td>\n",
       "      <td>0.067131</td>\n",
       "      <td>0.101928</td>\n",
       "      <td>golden_seed</td>\n",
       "    </tr>\n",
       "    <tr>\n",
       "      <th>%T.102</th>\n",
       "      <td>64.238235</td>\n",
       "      <td>65.222137</td>\n",
       "      <td>67.091049</td>\n",
       "      <td>65.591011</td>\n",
       "      <td>68.188927</td>\n",
       "      <td>66.658401</td>\n",
       "      <td>66.259926</td>\n",
       "      <td>63.490265</td>\n",
       "      <td>68.961914</td>\n",
       "      <td>66.225021</td>\n",
       "      <td>63.895191</td>\n",
       "      <td>66.507172</td>\n",
       "      <td>65.342880</td>\n",
       "      <td>64.193352</td>\n",
       "      <td>67.558327</td>\n",
       "      <td>68.349403</td>\n",
       "      <td>65.772285</td>\n",
       "      <td>64.642670</td>\n",
       "      <td>65.495743</td>\n",
       "      <td>66.320793</td>\n",
       "      <td>64.990601</td>\n",
       "      <td>64.070633</td>\n",
       "      <td>63.744556</td>\n",
       "      <td>62.708099</td>\n",
       "      <td>64.307388</td>\n",
       "      <td>60.753601</td>\n",
       "      <td>63.426792</td>\n",
       "      <td>62.443752</td>\n",
       "      <td>62.670612</td>\n",
       "      <td>60.349552</td>\n",
       "      <td>62.791763</td>\n",
       "      <td>63.000153</td>\n",
       "      <td>62.138187</td>\n",
       "      <td>59.836704</td>\n",
       "      <td>61.022770</td>\n",
       "      <td>62.480988</td>\n",
       "      <td>59.662521</td>\n",
       "      <td>61.350029</td>\n",
       "      <td>61.134869</td>\n",
       "      <td>59.999687</td>\n",
       "      <td>60.301773</td>\n",
       "      <td>60.930027</td>\n",
       "      <td>58.859970</td>\n",
       "      <td>58.444477</td>\n",
       "      <td>58.562164</td>\n",
       "      <td>59.027458</td>\n",
       "      <td>58.268875</td>\n",
       "      <td>57.753857</td>\n",
       "      <td>57.726307</td>\n",
       "      <td>57.762974</td>\n",
       "      <td>...</td>\n",
       "      <td>0.014393</td>\n",
       "      <td>0.025425</td>\n",
       "      <td>0.014711</td>\n",
       "      <td>0.022431</td>\n",
       "      <td>0.014957</td>\n",
       "      <td>0.026149</td>\n",
       "      <td>0.023609</td>\n",
       "      <td>0.014390</td>\n",
       "      <td>0.018856</td>\n",
       "      <td>0.018649</td>\n",
       "      <td>0.038585</td>\n",
       "      <td>0.018401</td>\n",
       "      <td>0.022781</td>\n",
       "      <td>0.032374</td>\n",
       "      <td>0.032296</td>\n",
       "      <td>0.022333</td>\n",
       "      <td>0.021068</td>\n",
       "      <td>0.026240</td>\n",
       "      <td>0.026233</td>\n",
       "      <td>0.026346</td>\n",
       "      <td>0.042248</td>\n",
       "      <td>0.027773</td>\n",
       "      <td>0.041208</td>\n",
       "      <td>0.041399</td>\n",
       "      <td>0.034614</td>\n",
       "      <td>0.039711</td>\n",
       "      <td>0.039482</td>\n",
       "      <td>0.037362</td>\n",
       "      <td>0.038154</td>\n",
       "      <td>0.047922</td>\n",
       "      <td>0.037376</td>\n",
       "      <td>0.040696</td>\n",
       "      <td>0.040866</td>\n",
       "      <td>0.039680</td>\n",
       "      <td>0.039423</td>\n",
       "      <td>0.049915</td>\n",
       "      <td>0.044046</td>\n",
       "      <td>0.048013</td>\n",
       "      <td>0.071761</td>\n",
       "      <td>0.041536</td>\n",
       "      <td>0.052526</td>\n",
       "      <td>0.051680</td>\n",
       "      <td>0.065605</td>\n",
       "      <td>0.062851</td>\n",
       "      <td>0.077970</td>\n",
       "      <td>0.059734</td>\n",
       "      <td>0.067464</td>\n",
       "      <td>0.069644</td>\n",
       "      <td>0.106984</td>\n",
       "      <td>golden_seed</td>\n",
       "    </tr>\n",
       "    <tr>\n",
       "      <th>%T.103</th>\n",
       "      <td>65.439514</td>\n",
       "      <td>65.719048</td>\n",
       "      <td>64.888306</td>\n",
       "      <td>62.751526</td>\n",
       "      <td>68.990028</td>\n",
       "      <td>69.074509</td>\n",
       "      <td>68.301117</td>\n",
       "      <td>67.360115</td>\n",
       "      <td>66.949097</td>\n",
       "      <td>66.492836</td>\n",
       "      <td>65.036774</td>\n",
       "      <td>65.278473</td>\n",
       "      <td>65.174034</td>\n",
       "      <td>64.288651</td>\n",
       "      <td>66.030914</td>\n",
       "      <td>66.749344</td>\n",
       "      <td>64.527290</td>\n",
       "      <td>65.543900</td>\n",
       "      <td>63.786610</td>\n",
       "      <td>63.735287</td>\n",
       "      <td>64.684982</td>\n",
       "      <td>64.424599</td>\n",
       "      <td>63.949657</td>\n",
       "      <td>63.214188</td>\n",
       "      <td>63.191605</td>\n",
       "      <td>63.439507</td>\n",
       "      <td>61.813004</td>\n",
       "      <td>62.458206</td>\n",
       "      <td>62.805222</td>\n",
       "      <td>61.907059</td>\n",
       "      <td>62.420547</td>\n",
       "      <td>64.578125</td>\n",
       "      <td>63.341057</td>\n",
       "      <td>60.678780</td>\n",
       "      <td>61.288410</td>\n",
       "      <td>62.405743</td>\n",
       "      <td>61.573376</td>\n",
       "      <td>60.940426</td>\n",
       "      <td>60.741104</td>\n",
       "      <td>59.942139</td>\n",
       "      <td>60.155487</td>\n",
       "      <td>59.529209</td>\n",
       "      <td>58.233368</td>\n",
       "      <td>58.778137</td>\n",
       "      <td>59.970600</td>\n",
       "      <td>58.675480</td>\n",
       "      <td>57.747948</td>\n",
       "      <td>57.672615</td>\n",
       "      <td>58.637016</td>\n",
       "      <td>58.011826</td>\n",
       "      <td>...</td>\n",
       "      <td>0.008740</td>\n",
       "      <td>0.030980</td>\n",
       "      <td>0.025762</td>\n",
       "      <td>0.021018</td>\n",
       "      <td>0.018787</td>\n",
       "      <td>0.021939</td>\n",
       "      <td>0.035928</td>\n",
       "      <td>0.017327</td>\n",
       "      <td>0.019108</td>\n",
       "      <td>0.025166</td>\n",
       "      <td>0.025436</td>\n",
       "      <td>0.019117</td>\n",
       "      <td>0.019796</td>\n",
       "      <td>0.028058</td>\n",
       "      <td>0.029754</td>\n",
       "      <td>0.025906</td>\n",
       "      <td>0.025199</td>\n",
       "      <td>0.025612</td>\n",
       "      <td>0.031377</td>\n",
       "      <td>0.030509</td>\n",
       "      <td>0.031773</td>\n",
       "      <td>0.030803</td>\n",
       "      <td>0.044872</td>\n",
       "      <td>0.033134</td>\n",
       "      <td>0.037749</td>\n",
       "      <td>0.044682</td>\n",
       "      <td>0.038642</td>\n",
       "      <td>0.038021</td>\n",
       "      <td>0.032902</td>\n",
       "      <td>0.052216</td>\n",
       "      <td>0.041545</td>\n",
       "      <td>0.035633</td>\n",
       "      <td>0.032325</td>\n",
       "      <td>0.036143</td>\n",
       "      <td>0.038369</td>\n",
       "      <td>0.046973</td>\n",
       "      <td>0.044113</td>\n",
       "      <td>0.056034</td>\n",
       "      <td>0.062635</td>\n",
       "      <td>0.056081</td>\n",
       "      <td>0.042871</td>\n",
       "      <td>0.050208</td>\n",
       "      <td>0.061437</td>\n",
       "      <td>0.068177</td>\n",
       "      <td>0.069646</td>\n",
       "      <td>0.049462</td>\n",
       "      <td>0.054768</td>\n",
       "      <td>0.069927</td>\n",
       "      <td>0.086314</td>\n",
       "      <td>golden_seed</td>\n",
       "    </tr>\n",
       "    <tr>\n",
       "      <th>%T.104</th>\n",
       "      <td>66.591347</td>\n",
       "      <td>66.561119</td>\n",
       "      <td>67.538795</td>\n",
       "      <td>66.653931</td>\n",
       "      <td>67.369759</td>\n",
       "      <td>65.627243</td>\n",
       "      <td>68.426559</td>\n",
       "      <td>68.364243</td>\n",
       "      <td>67.959564</td>\n",
       "      <td>65.293976</td>\n",
       "      <td>64.067230</td>\n",
       "      <td>65.937134</td>\n",
       "      <td>65.334137</td>\n",
       "      <td>66.063995</td>\n",
       "      <td>65.642349</td>\n",
       "      <td>66.866058</td>\n",
       "      <td>63.739033</td>\n",
       "      <td>65.393715</td>\n",
       "      <td>65.808228</td>\n",
       "      <td>63.026684</td>\n",
       "      <td>62.686245</td>\n",
       "      <td>65.616661</td>\n",
       "      <td>65.293671</td>\n",
       "      <td>63.204620</td>\n",
       "      <td>64.018646</td>\n",
       "      <td>63.243782</td>\n",
       "      <td>63.427269</td>\n",
       "      <td>63.245903</td>\n",
       "      <td>63.238747</td>\n",
       "      <td>61.112057</td>\n",
       "      <td>62.396790</td>\n",
       "      <td>62.288647</td>\n",
       "      <td>62.215389</td>\n",
       "      <td>61.259483</td>\n",
       "      <td>62.183605</td>\n",
       "      <td>62.058849</td>\n",
       "      <td>60.406864</td>\n",
       "      <td>60.570465</td>\n",
       "      <td>61.685707</td>\n",
       "      <td>59.665276</td>\n",
       "      <td>60.290974</td>\n",
       "      <td>60.890381</td>\n",
       "      <td>58.900841</td>\n",
       "      <td>58.160816</td>\n",
       "      <td>59.532524</td>\n",
       "      <td>58.548313</td>\n",
       "      <td>58.880035</td>\n",
       "      <td>57.966965</td>\n",
       "      <td>57.700493</td>\n",
       "      <td>57.811295</td>\n",
       "      <td>...</td>\n",
       "      <td>0.019880</td>\n",
       "      <td>0.024260</td>\n",
       "      <td>0.032127</td>\n",
       "      <td>0.025303</td>\n",
       "      <td>0.021815</td>\n",
       "      <td>0.019565</td>\n",
       "      <td>0.039146</td>\n",
       "      <td>0.016210</td>\n",
       "      <td>0.014977</td>\n",
       "      <td>0.023155</td>\n",
       "      <td>0.024353</td>\n",
       "      <td>0.019012</td>\n",
       "      <td>0.019352</td>\n",
       "      <td>0.022189</td>\n",
       "      <td>0.028785</td>\n",
       "      <td>0.021513</td>\n",
       "      <td>0.021511</td>\n",
       "      <td>0.032146</td>\n",
       "      <td>0.026928</td>\n",
       "      <td>0.034603</td>\n",
       "      <td>0.035587</td>\n",
       "      <td>0.036176</td>\n",
       "      <td>0.041940</td>\n",
       "      <td>0.039567</td>\n",
       "      <td>0.054055</td>\n",
       "      <td>0.038357</td>\n",
       "      <td>0.035812</td>\n",
       "      <td>0.039115</td>\n",
       "      <td>0.038748</td>\n",
       "      <td>0.039076</td>\n",
       "      <td>0.038037</td>\n",
       "      <td>0.032489</td>\n",
       "      <td>0.031143</td>\n",
       "      <td>0.036114</td>\n",
       "      <td>0.035407</td>\n",
       "      <td>0.038857</td>\n",
       "      <td>0.043331</td>\n",
       "      <td>0.048623</td>\n",
       "      <td>0.063447</td>\n",
       "      <td>0.057266</td>\n",
       "      <td>0.039577</td>\n",
       "      <td>0.045788</td>\n",
       "      <td>0.067753</td>\n",
       "      <td>0.071227</td>\n",
       "      <td>0.075370</td>\n",
       "      <td>0.077768</td>\n",
       "      <td>0.066088</td>\n",
       "      <td>0.081253</td>\n",
       "      <td>0.101675</td>\n",
       "      <td>golden_seed</td>\n",
       "    </tr>\n",
       "    <tr>\n",
       "      <th>%T.105</th>\n",
       "      <td>63.068729</td>\n",
       "      <td>68.487991</td>\n",
       "      <td>67.816315</td>\n",
       "      <td>65.460823</td>\n",
       "      <td>67.950233</td>\n",
       "      <td>65.380455</td>\n",
       "      <td>64.539734</td>\n",
       "      <td>66.533989</td>\n",
       "      <td>66.348038</td>\n",
       "      <td>66.682472</td>\n",
       "      <td>64.467880</td>\n",
       "      <td>64.632477</td>\n",
       "      <td>65.071640</td>\n",
       "      <td>65.770164</td>\n",
       "      <td>63.691288</td>\n",
       "      <td>64.441536</td>\n",
       "      <td>65.602753</td>\n",
       "      <td>65.209770</td>\n",
       "      <td>65.194992</td>\n",
       "      <td>64.561020</td>\n",
       "      <td>63.879955</td>\n",
       "      <td>63.822407</td>\n",
       "      <td>66.090462</td>\n",
       "      <td>63.932930</td>\n",
       "      <td>63.801010</td>\n",
       "      <td>62.901062</td>\n",
       "      <td>62.494011</td>\n",
       "      <td>62.778378</td>\n",
       "      <td>62.212444</td>\n",
       "      <td>61.283737</td>\n",
       "      <td>62.672592</td>\n",
       "      <td>64.992813</td>\n",
       "      <td>62.501450</td>\n",
       "      <td>62.285233</td>\n",
       "      <td>62.086124</td>\n",
       "      <td>61.732174</td>\n",
       "      <td>59.495319</td>\n",
       "      <td>60.634392</td>\n",
       "      <td>61.209393</td>\n",
       "      <td>59.319698</td>\n",
       "      <td>59.624611</td>\n",
       "      <td>60.070602</td>\n",
       "      <td>58.130062</td>\n",
       "      <td>58.436741</td>\n",
       "      <td>59.114544</td>\n",
       "      <td>58.913349</td>\n",
       "      <td>58.651257</td>\n",
       "      <td>57.053238</td>\n",
       "      <td>58.342278</td>\n",
       "      <td>58.096920</td>\n",
       "      <td>...</td>\n",
       "      <td>0.013889</td>\n",
       "      <td>0.016932</td>\n",
       "      <td>0.019195</td>\n",
       "      <td>0.020778</td>\n",
       "      <td>0.017475</td>\n",
       "      <td>0.030437</td>\n",
       "      <td>0.018486</td>\n",
       "      <td>0.017912</td>\n",
       "      <td>0.013443</td>\n",
       "      <td>0.027788</td>\n",
       "      <td>0.039050</td>\n",
       "      <td>0.019343</td>\n",
       "      <td>0.022640</td>\n",
       "      <td>0.025488</td>\n",
       "      <td>0.031652</td>\n",
       "      <td>0.023047</td>\n",
       "      <td>0.025107</td>\n",
       "      <td>0.026006</td>\n",
       "      <td>0.034372</td>\n",
       "      <td>0.033200</td>\n",
       "      <td>0.026433</td>\n",
       "      <td>0.030123</td>\n",
       "      <td>0.034527</td>\n",
       "      <td>0.043869</td>\n",
       "      <td>0.033547</td>\n",
       "      <td>0.031755</td>\n",
       "      <td>0.038123</td>\n",
       "      <td>0.041047</td>\n",
       "      <td>0.043765</td>\n",
       "      <td>0.032170</td>\n",
       "      <td>0.042251</td>\n",
       "      <td>0.046884</td>\n",
       "      <td>0.042421</td>\n",
       "      <td>0.035092</td>\n",
       "      <td>0.033782</td>\n",
       "      <td>0.048713</td>\n",
       "      <td>0.049242</td>\n",
       "      <td>0.057391</td>\n",
       "      <td>0.057274</td>\n",
       "      <td>0.056346</td>\n",
       "      <td>0.043269</td>\n",
       "      <td>0.045639</td>\n",
       "      <td>0.066421</td>\n",
       "      <td>0.087725</td>\n",
       "      <td>0.064185</td>\n",
       "      <td>0.061289</td>\n",
       "      <td>0.049389</td>\n",
       "      <td>0.079932</td>\n",
       "      <td>0.105367</td>\n",
       "      <td>golden_seed</td>\n",
       "    </tr>\n",
       "  </tbody>\n",
       "</table>\n",
       "<p>215 rows × 912 columns</p>\n",
       "</div>"
      ],
      "text/plain": [
       "                0           1          2          3           4           5  \\\n",
       "%T      99.337090  100.249802  98.177658  97.640030  102.129456  100.725746   \n",
       "%T.1    99.337090  100.249802  98.177658  97.640030  102.129456  100.725746   \n",
       "%T.2    99.337090  100.249802  98.177658  97.640030  102.129456  100.725746   \n",
       "%T.3    99.337090  100.249802  98.177658  97.640030  102.129456  100.725746   \n",
       "%T.4    99.337090  100.249802  98.177658  97.640030  102.129456  100.725746   \n",
       "...           ...         ...        ...        ...         ...         ...   \n",
       "%T.101  62.483829   67.367767  65.049255  65.096191   70.633224   69.351250   \n",
       "%T.102  64.238235   65.222137  67.091049  65.591011   68.188927   66.658401   \n",
       "%T.103  65.439514   65.719048  64.888306  62.751526   68.990028   69.074509   \n",
       "%T.104  66.591347   66.561119  67.538795  66.653931   67.369759   65.627243   \n",
       "%T.105  63.068729   68.487991  67.816315  65.460823   67.950233   65.380455   \n",
       "\n",
       "                6           7          8          9          10         11  \\\n",
       "%T      97.896927  103.310608  98.907608  99.889305  100.818047  99.599586   \n",
       "%T.1    97.896927  103.310608  98.907608  99.889305  100.818047  99.599586   \n",
       "%T.2    97.896927  103.310608  98.907608  99.889305  100.818047  99.599586   \n",
       "%T.3    97.896927  103.310608  98.907608  99.889305  100.818047  99.599586   \n",
       "%T.4    97.896927  103.310608  98.907608  99.889305  100.818047  99.599586   \n",
       "...           ...         ...        ...        ...         ...        ...   \n",
       "%T.101  66.493034   67.655632  68.316307  64.498734   63.117027  64.335403   \n",
       "%T.102  66.259926   63.490265  68.961914  66.225021   63.895191  66.507172   \n",
       "%T.103  68.301117   67.360115  66.949097  66.492836   65.036774  65.278473   \n",
       "%T.104  68.426559   68.364243  67.959564  65.293976   64.067230  65.937134   \n",
       "%T.105  64.539734   66.533989  66.348038  66.682472   64.467880  64.632477   \n",
       "\n",
       "                12         13          14          15         16          17  \\\n",
       "%T      101.023758  98.572319  101.100815  101.036278  98.960754  101.472092   \n",
       "%T.1    101.023758  98.572319  101.100815  101.036278  98.960754  101.472092   \n",
       "%T.2    101.023758  98.572319  101.100815  101.036278  98.960754  101.472092   \n",
       "%T.3    101.023758  98.572319  101.100815  101.036278  98.960754  101.472092   \n",
       "%T.4    101.023758  98.572319  101.100815  101.036278  98.960754  101.472092   \n",
       "...            ...        ...         ...         ...        ...         ...   \n",
       "%T.101   64.846596  66.498085   64.704140   67.510841  64.886597   64.019730   \n",
       "%T.102   65.342880  64.193352   67.558327   68.349403  65.772285   64.642670   \n",
       "%T.103   65.174034  64.288651   66.030914   66.749344  64.527290   65.543900   \n",
       "%T.104   65.334137  66.063995   65.642349   66.866058  63.739033   65.393715   \n",
       "%T.105   65.071640  65.770164   63.691288   64.441536  65.602753   65.209770   \n",
       "\n",
       "               18          19          20          21         22          23  \\\n",
       "%T      98.959923  100.572456  101.594231  100.222443  98.781944  102.984085   \n",
       "%T.1    98.959923  100.572456  101.594231  100.222443  98.781944  102.984085   \n",
       "%T.2    98.959923  100.572456  101.594231  100.222443  98.781944  102.984085   \n",
       "%T.3    98.959923  100.572456  101.594231  100.222443  98.781944  102.984085   \n",
       "%T.4    98.959923  100.572456  101.594231  100.222443  98.781944  102.984085   \n",
       "...           ...         ...         ...         ...        ...         ...   \n",
       "%T.101  64.733955   64.375839   63.082283   64.865608  63.743381   64.460968   \n",
       "%T.102  65.495743   66.320793   64.990601   64.070633  63.744556   62.708099   \n",
       "%T.103  63.786610   63.735287   64.684982   64.424599  63.949657   63.214188   \n",
       "%T.104  65.808228   63.026684   62.686245   65.616661  65.293671   63.204620   \n",
       "%T.105  65.194992   64.561020   63.879955   63.822407  66.090462   63.932930   \n",
       "\n",
       "                24         25          26         27         28         29  \\\n",
       "%T      100.827980  99.582977  101.087250  99.527252  99.184128  99.938736   \n",
       "%T.1    100.827980  99.582977  101.087250  99.527252  99.184128  99.938736   \n",
       "%T.2    100.827980  99.582977  101.087250  99.527252  99.184128  99.938736   \n",
       "%T.3    100.827980  99.582977  101.087250  99.527252  99.184128  99.938736   \n",
       "%T.4    100.827980  99.582977  101.087250  99.527252  99.184128  99.938736   \n",
       "...            ...        ...         ...        ...        ...        ...   \n",
       "%T.101   63.628132  63.120205   64.160667  61.551209  62.969582  59.279476   \n",
       "%T.102   64.307388  60.753601   63.426792  62.443752  62.670612  60.349552   \n",
       "%T.103   63.191605  63.439507   61.813004  62.458206  62.805222  61.907059   \n",
       "%T.104   64.018646  63.243782   63.427269  63.245903  63.238747  61.112057   \n",
       "%T.105   63.801010  62.901062   62.494011  62.778378  62.212444  61.283737   \n",
       "\n",
       "                30          31          32          33          34  \\\n",
       "%T      102.308342  101.987144  100.781082  101.035454  102.068245   \n",
       "%T.1    102.308342  101.987144  100.781082  101.035454  102.068245   \n",
       "%T.2    102.308342  101.987144  100.781082  101.035454  102.068245   \n",
       "%T.3    102.308342  101.987144  100.781082  101.035454  102.068245   \n",
       "%T.4    102.308342  101.987144  100.781082  101.035454  102.068245   \n",
       "...            ...         ...         ...         ...         ...   \n",
       "%T.101   62.160091   64.271446   61.193596   60.555817   61.262119   \n",
       "%T.102   62.791763   63.000153   62.138187   59.836704   61.022770   \n",
       "%T.103   62.420547   64.578125   63.341057   60.678780   61.288410   \n",
       "%T.104   62.396790   62.288647   62.215389   61.259483   62.183605   \n",
       "%T.105   62.672592   64.992813   62.501450   62.285233   62.086124   \n",
       "\n",
       "                35          36          37          38          39  \\\n",
       "%T      101.017487  100.762711  101.211525  101.291206  100.892219   \n",
       "%T.1    101.017487  100.762711  101.211525  101.291206  100.892219   \n",
       "%T.2    101.017487  100.762711  101.211525  101.291206  100.892219   \n",
       "%T.3    101.017487  100.762711  101.211525  101.291206  100.892219   \n",
       "%T.4    101.017487  100.762711  101.211525  101.291206  100.892219   \n",
       "...            ...         ...         ...         ...         ...   \n",
       "%T.101   61.755157   61.497974   60.273968   60.711624   60.923344   \n",
       "%T.102   62.480988   59.662521   61.350029   61.134869   59.999687   \n",
       "%T.103   62.405743   61.573376   60.940426   60.741104   59.942139   \n",
       "%T.104   62.058849   60.406864   60.570465   61.685707   59.665276   \n",
       "%T.105   61.732174   59.495319   60.634392   61.209393   59.319698   \n",
       "\n",
       "                40          41          42          43          44  \\\n",
       "%T      101.262543  100.699890  100.227989  100.621185  101.849655   \n",
       "%T.1    101.262543  100.699890  100.227989  100.621185  101.849655   \n",
       "%T.2    101.262543  100.699890  100.227989  100.621185  101.849655   \n",
       "%T.3    101.262543  100.699890  100.227989  100.621185  101.849655   \n",
       "%T.4    101.262543  100.699890  100.227989  100.621185  101.849655   \n",
       "...            ...         ...         ...         ...         ...   \n",
       "%T.101   58.501892   61.760502   57.901836   59.521507   58.514572   \n",
       "%T.102   60.301773   60.930027   58.859970   58.444477   58.562164   \n",
       "%T.103   60.155487   59.529209   58.233368   58.778137   59.970600   \n",
       "%T.104   60.290974   60.890381   58.900841   58.160816   59.532524   \n",
       "%T.105   59.624611   60.070602   58.130062   58.436741   59.114544   \n",
       "\n",
       "                45          46          47          48          49  ...  \\\n",
       "%T      100.765945  101.958107  102.638878  101.775429  101.234032  ...   \n",
       "%T.1    100.765945  101.958107  102.638878  101.775429  101.234032  ...   \n",
       "%T.2    100.765945  101.958107  102.638878  101.775429  101.234032  ...   \n",
       "%T.3    100.765945  101.958107  102.638878  101.775429  101.234032  ...   \n",
       "%T.4    100.765945  101.958107  102.638878  101.775429  101.234032  ...   \n",
       "...            ...         ...         ...         ...         ...  ...   \n",
       "%T.101   58.041309   57.891064   57.404942   58.448868   57.605286  ...   \n",
       "%T.102   59.027458   58.268875   57.753857   57.726307   57.762974  ...   \n",
       "%T.103   58.675480   57.747948   57.672615   58.637016   58.011826  ...   \n",
       "%T.104   58.548313   58.880035   57.966965   57.700493   57.811295  ...   \n",
       "%T.105   58.913349   58.651257   57.053238   58.342278   58.096920  ...   \n",
       "\n",
       "              862        863        864        865        866        867  \\\n",
       "%T      96.829811  96.924141  96.973640  97.022408  97.007874  97.015884   \n",
       "%T.1    96.829811  96.924141  96.973640  97.022408  97.007874  97.015884   \n",
       "%T.2    96.829811  96.924141  96.973640  97.022408  97.007874  97.015884   \n",
       "%T.3    96.829811  96.924141  96.973640  97.022408  97.007874  97.015884   \n",
       "%T.4    96.829811  96.924141  96.973640  97.022408  97.007874  97.015884   \n",
       "...           ...        ...        ...        ...        ...        ...   \n",
       "%T.101   0.023157   0.019037   0.013582   0.021078   0.027460   0.024666   \n",
       "%T.102   0.014393   0.025425   0.014711   0.022431   0.014957   0.026149   \n",
       "%T.103   0.008740   0.030980   0.025762   0.021018   0.018787   0.021939   \n",
       "%T.104   0.019880   0.024260   0.032127   0.025303   0.021815   0.019565   \n",
       "%T.105   0.013889   0.016932   0.019195   0.020778   0.017475   0.030437   \n",
       "\n",
       "              868        869        870        871        872        873  \\\n",
       "%T      97.047791  97.025993  97.067467  97.064178  97.057228  97.138557   \n",
       "%T.1    97.047791  97.025993  97.067467  97.064178  97.057228  97.138557   \n",
       "%T.2    97.047791  97.025993  97.067467  97.064178  97.057228  97.138557   \n",
       "%T.3    97.047791  97.025993  97.067467  97.064178  97.057228  97.138557   \n",
       "%T.4    97.047791  97.025993  97.067467  97.064178  97.057228  97.138557   \n",
       "...           ...        ...        ...        ...        ...        ...   \n",
       "%T.101   0.032688   0.021969   0.028445   0.021213   0.035502   0.015476   \n",
       "%T.102   0.023609   0.014390   0.018856   0.018649   0.038585   0.018401   \n",
       "%T.103   0.035928   0.017327   0.019108   0.025166   0.025436   0.019117   \n",
       "%T.104   0.039146   0.016210   0.014977   0.023155   0.024353   0.019012   \n",
       "%T.105   0.018486   0.017912   0.013443   0.027788   0.039050   0.019343   \n",
       "\n",
       "              874        875        876        877        878        879  \\\n",
       "%T      97.132919  97.156570  97.179428  97.207130  97.245537  97.292358   \n",
       "%T.1    97.132919  97.156570  97.179428  97.207130  97.245537  97.292358   \n",
       "%T.2    97.132919  97.156570  97.179428  97.207130  97.245537  97.292358   \n",
       "%T.3    97.132919  97.156570  97.179428  97.207130  97.245537  97.292358   \n",
       "%T.4    97.132919  97.156570  97.179428  97.207130  97.245537  97.292358   \n",
       "...           ...        ...        ...        ...        ...        ...   \n",
       "%T.101   0.021136   0.025333   0.026453   0.023574   0.019265   0.017427   \n",
       "%T.102   0.022781   0.032374   0.032296   0.022333   0.021068   0.026240   \n",
       "%T.103   0.019796   0.028058   0.029754   0.025906   0.025199   0.025612   \n",
       "%T.104   0.019352   0.022189   0.028785   0.021513   0.021511   0.032146   \n",
       "%T.105   0.022640   0.025488   0.031652   0.023047   0.025107   0.026006   \n",
       "\n",
       "              880        881        882        883        884        885  \\\n",
       "%T      97.345360  97.441963  97.514069  97.599442  97.663567  97.674149   \n",
       "%T.1    97.345360  97.441963  97.514069  97.599442  97.663567  97.674149   \n",
       "%T.2    97.345360  97.441963  97.514069  97.599442  97.663567  97.674149   \n",
       "%T.3    97.345360  97.441963  97.514069  97.599442  97.663567  97.674149   \n",
       "%T.4    97.345360  97.441963  97.514069  97.599442  97.663567  97.674149   \n",
       "...           ...        ...        ...        ...        ...        ...   \n",
       "%T.101   0.026385   0.040211   0.038724   0.042043   0.040766   0.039367   \n",
       "%T.102   0.026233   0.026346   0.042248   0.027773   0.041208   0.041399   \n",
       "%T.103   0.031377   0.030509   0.031773   0.030803   0.044872   0.033134   \n",
       "%T.104   0.026928   0.034603   0.035587   0.036176   0.041940   0.039567   \n",
       "%T.105   0.034372   0.033200   0.026433   0.030123   0.034527   0.043869   \n",
       "\n",
       "              886        887        888        889        890        891  \\\n",
       "%T      97.658417  97.596268  97.485443  97.375107  97.175476  96.959152   \n",
       "%T.1    97.658417  97.596268  97.485443  97.375107  97.175476  96.959152   \n",
       "%T.2    97.658417  97.596268  97.485443  97.375107  97.175476  96.959152   \n",
       "%T.3    97.658417  97.596268  97.485443  97.375107  97.175476  96.959152   \n",
       "%T.4    97.658417  97.596268  97.485443  97.375107  97.175476  96.959152   \n",
       "...           ...        ...        ...        ...        ...        ...   \n",
       "%T.101   0.031937   0.039529   0.033801   0.035758   0.036596   0.035577   \n",
       "%T.102   0.034614   0.039711   0.039482   0.037362   0.038154   0.047922   \n",
       "%T.103   0.037749   0.044682   0.038642   0.038021   0.032902   0.052216   \n",
       "%T.104   0.054055   0.038357   0.035812   0.039115   0.038748   0.039076   \n",
       "%T.105   0.033547   0.031755   0.038123   0.041047   0.043765   0.032170   \n",
       "\n",
       "              892        893        894        895        896        897  \\\n",
       "%T      96.711700  96.355103  95.967651  95.570099  95.191406  94.836639   \n",
       "%T.1    96.711700  96.355103  95.967651  95.570099  95.191406  94.836639   \n",
       "%T.2    96.711700  96.355103  95.967651  95.570099  95.191406  94.836639   \n",
       "%T.3    96.711700  96.355103  95.967651  95.570099  95.191406  94.836639   \n",
       "%T.4    96.711700  96.355103  95.967651  95.570099  95.191406  94.836639   \n",
       "...           ...        ...        ...        ...        ...        ...   \n",
       "%T.101   0.039063   0.033995   0.041593   0.040728   0.049618   0.037891   \n",
       "%T.102   0.037376   0.040696   0.040866   0.039680   0.039423   0.049915   \n",
       "%T.103   0.041545   0.035633   0.032325   0.036143   0.038369   0.046973   \n",
       "%T.104   0.038037   0.032489   0.031143   0.036114   0.035407   0.038857   \n",
       "%T.105   0.042251   0.046884   0.042421   0.035092   0.033782   0.048713   \n",
       "\n",
       "              898        899        900        901        902        903  \\\n",
       "%T      94.475403  94.090805  93.743607  93.474838  93.132202  92.727028   \n",
       "%T.1    94.475403  94.090805  93.743607  93.474838  93.132202  92.727028   \n",
       "%T.2    94.475403  94.090805  93.743607  93.474838  93.132202  92.727028   \n",
       "%T.3    94.475403  94.090805  93.743607  93.474838  93.132202  92.727028   \n",
       "%T.4    94.475403  94.090805  93.743607  93.474838  93.132202  92.727028   \n",
       "...           ...        ...        ...        ...        ...        ...   \n",
       "%T.101   0.044380   0.046815   0.051705   0.053878   0.044519   0.053282   \n",
       "%T.102   0.044046   0.048013   0.071761   0.041536   0.052526   0.051680   \n",
       "%T.103   0.044113   0.056034   0.062635   0.056081   0.042871   0.050208   \n",
       "%T.104   0.043331   0.048623   0.063447   0.057266   0.039577   0.045788   \n",
       "%T.105   0.049242   0.057391   0.057274   0.056346   0.043269   0.045639   \n",
       "\n",
       "              904        905        906        907        908        909  \\\n",
       "%T      92.505508  91.481812  91.429367  90.301964  89.043396  89.710884   \n",
       "%T.1    92.505508  91.481812  91.429367  90.301964  89.043396  89.710884   \n",
       "%T.2    92.505508  91.481812  91.429367  90.301964  89.043396  89.710884   \n",
       "%T.3    92.505508  91.481812  91.429367  90.301964  89.043396  89.710884   \n",
       "%T.4    92.505508  91.481812  91.429367  90.301964  89.043396  89.710884   \n",
       "...           ...        ...        ...        ...        ...        ...   \n",
       "%T.101   0.064846   0.064514   0.075150   0.068457   0.074078   0.067131   \n",
       "%T.102   0.065605   0.062851   0.077970   0.059734   0.067464   0.069644   \n",
       "%T.103   0.061437   0.068177   0.069646   0.049462   0.054768   0.069927   \n",
       "%T.104   0.067753   0.071227   0.075370   0.077768   0.066088   0.081253   \n",
       "%T.105   0.066421   0.087725   0.064185   0.061289   0.049389   0.079932   \n",
       "\n",
       "              910       target  \n",
       "%T      87.991386    red_price  \n",
       "%T.1    87.991386    red_price  \n",
       "%T.2    87.991386    red_price  \n",
       "%T.3    87.991386    red_price  \n",
       "%T.4    87.991386    red_price  \n",
       "...           ...          ...  \n",
       "%T.101   0.101928  golden_seed  \n",
       "%T.102   0.106984  golden_seed  \n",
       "%T.103   0.086314  golden_seed  \n",
       "%T.104   0.101675  golden_seed  \n",
       "%T.105   0.105367  golden_seed  \n",
       "\n",
       "[215 rows x 912 columns]"
      ]
     },
     "execution_count": 27,
     "metadata": {},
     "output_type": "execute_result"
    }
   ],
   "source": [
    "df = pd.concat([df_red_price_1, df_golden_seed_1])\n",
    "df"
   ]
  },
  {
   "cell_type": "code",
   "execution_count": 8,
   "metadata": {},
   "outputs": [],
   "source": [
    "def make_mean_spectr(spectr1_df):\n",
    "    mean_df_1 = pd.DataFrame()\n",
    "    for Description in set(spectr1_df.target):\n",
    "        df1 = spectr1_df[spectr1_df.target == Description].mean(axis = 0)\n",
    "        df1 = pd.DataFrame(df1, columns= [Description]).transpose()\n",
    "        mean_df_1 = mean_df_1.append(df1)\n",
    "    return mean_df_1\n"
   ]
  },
  {
   "cell_type": "code",
   "execution_count": 9,
   "metadata": {},
   "outputs": [
    {
     "name": "stderr",
     "output_type": "stream",
     "text": [
      "/tmp/ipykernel_26180/2012781716.py:4: FutureWarning: Dropping of nuisance columns in DataFrame reductions (with 'numeric_only=None') is deprecated; in a future version this will raise TypeError.  Select only valid columns before calling the reduction.\n",
      "  df1 = spectr1_df[spectr1_df.target == Description].mean(axis = 0)\n",
      "/tmp/ipykernel_26180/2012781716.py:6: FutureWarning: The frame.append method is deprecated and will be removed from pandas in a future version. Use pandas.concat instead.\n",
      "  mean_df_1 = mean_df_1.append(df1)\n",
      "/tmp/ipykernel_26180/2012781716.py:4: FutureWarning: Dropping of nuisance columns in DataFrame reductions (with 'numeric_only=None') is deprecated; in a future version this will raise TypeError.  Select only valid columns before calling the reduction.\n",
      "  df1 = spectr1_df[spectr1_df.target == Description].mean(axis = 0)\n",
      "/tmp/ipykernel_26180/2012781716.py:6: FutureWarning: The frame.append method is deprecated and will be removed from pandas in a future version. Use pandas.concat instead.\n",
      "  mean_df_1 = mean_df_1.append(df1)\n"
     ]
    },
    {
     "data": {
      "text/html": [
       "<div>\n",
       "<style scoped>\n",
       "    .dataframe tbody tr th:only-of-type {\n",
       "        vertical-align: middle;\n",
       "    }\n",
       "\n",
       "    .dataframe tbody tr th {\n",
       "        vertical-align: top;\n",
       "    }\n",
       "\n",
       "    .dataframe thead th {\n",
       "        text-align: right;\n",
       "    }\n",
       "</style>\n",
       "<table border=\"1\" class=\"dataframe\">\n",
       "  <thead>\n",
       "    <tr style=\"text-align: right;\">\n",
       "      <th></th>\n",
       "      <th>red_price</th>\n",
       "      <th>golden_seed</th>\n",
       "    </tr>\n",
       "  </thead>\n",
       "  <tbody>\n",
       "    <tr>\n",
       "      <th>0</th>\n",
       "      <td>93.105671</td>\n",
       "      <td>86.894904</td>\n",
       "    </tr>\n",
       "    <tr>\n",
       "      <th>1</th>\n",
       "      <td>93.150826</td>\n",
       "      <td>86.527456</td>\n",
       "    </tr>\n",
       "    <tr>\n",
       "      <th>2</th>\n",
       "      <td>94.943396</td>\n",
       "      <td>87.477530</td>\n",
       "    </tr>\n",
       "    <tr>\n",
       "      <th>3</th>\n",
       "      <td>94.876642</td>\n",
       "      <td>85.684649</td>\n",
       "    </tr>\n",
       "    <tr>\n",
       "      <th>4</th>\n",
       "      <td>91.742556</td>\n",
       "      <td>88.894642</td>\n",
       "    </tr>\n",
       "    <tr>\n",
       "      <th>...</th>\n",
       "      <td>...</td>\n",
       "      <td>...</td>\n",
       "    </tr>\n",
       "    <tr>\n",
       "      <th>906</th>\n",
       "      <td>7.595882</td>\n",
       "      <td>0.614127</td>\n",
       "    </tr>\n",
       "    <tr>\n",
       "      <th>907</th>\n",
       "      <td>7.500862</td>\n",
       "      <td>0.603300</td>\n",
       "    </tr>\n",
       "    <tr>\n",
       "      <th>908</th>\n",
       "      <td>7.410544</td>\n",
       "      <td>0.589342</td>\n",
       "    </tr>\n",
       "    <tr>\n",
       "      <th>909</th>\n",
       "      <td>7.485482</td>\n",
       "      <td>0.603885</td>\n",
       "    </tr>\n",
       "    <tr>\n",
       "      <th>910</th>\n",
       "      <td>7.346066</td>\n",
       "      <td>0.614317</td>\n",
       "    </tr>\n",
       "  </tbody>\n",
       "</table>\n",
       "<p>911 rows × 2 columns</p>\n",
       "</div>"
      ],
      "text/plain": [
       "     red_price  golden_seed\n",
       "0    93.105671    86.894904\n",
       "1    93.150826    86.527456\n",
       "2    94.943396    87.477530\n",
       "3    94.876642    85.684649\n",
       "4    91.742556    88.894642\n",
       "..         ...          ...\n",
       "906   7.595882     0.614127\n",
       "907   7.500862     0.603300\n",
       "908   7.410544     0.589342\n",
       "909   7.485482     0.603885\n",
       "910   7.346066     0.614317\n",
       "\n",
       "[911 rows x 2 columns]"
      ]
     },
     "execution_count": 9,
     "metadata": {},
     "output_type": "execute_result"
    }
   ],
   "source": [
    "df_spectr = make_mean_spectr(df).transpose()\n",
    "df_spectr"
   ]
  },
  {
   "cell_type": "markdown",
   "metadata": {},
   "source": [
    "Comparing mean spectrums:"
   ]
  },
  {
   "cell_type": "code",
   "execution_count": 10,
   "metadata": {},
   "outputs": [
    {
     "data": {
      "text/plain": [
       "Text(0, 0.5, 'Intensity')"
      ]
     },
     "execution_count": 10,
     "metadata": {},
     "output_type": "execute_result"
    },
    {
     "data": {
      "image/png": "[encoded data removed]",
      "text/plain": [
       "<Figure size 1500x900 with 1 Axes>"
      ]
     },
     "metadata": {},
     "output_type": "display_data"
    }
   ],
   "source": [
    "df_spectr.plot(figsize=(15, 9))\n",
    "\n",
    "#plt.legend(loc=\"upper left\")\n",
    "plt.xlim(0,890)\n",
    "#plt.ylim(0.5,2.5)\n",
    "plt.title(\"Spectrometer 2 (Experiment 24.06.22)\")\n",
    "plt.xlabel(\"Channels\")\n",
    "plt.ylabel(\"Intensity\")"
   ]
  },
  {
   "cell_type": "markdown",
   "metadata": {},
   "source": [
    "Machine learning"
   ]
  },
  {
   "cell_type": "code",
   "execution_count": 28,
   "metadata": {},
   "outputs": [],
   "source": [
    "from sklearn.model_selection import train_test_split\n",
    "from sklearn.ensemble import RandomForestClassifier\n",
    "from sklearn.metrics import recall_score\n",
    "from sklearn.metrics import precision_recall_fscore_support\n",
    "from sklearn.metrics import classification_report\n",
    "from sklearn.metrics import confusion_matrix\n",
    "from sklearn.metrics import accuracy_score\n",
    "from sklearn.metrics import roc_auc_score\n",
    "\n",
    "from catboost import CatBoostClassifier"
   ]
  },
  {
   "cell_type": "markdown",
   "metadata": {},
   "source": [
    "Adding target columns"
   ]
  },
  {
   "cell_type": "code",
   "execution_count": 30,
   "metadata": {},
   "outputs": [
    {
     "data": {
      "text/html": [
       "<div>\n",
       "<style scoped>\n",
       "    .dataframe tbody tr th:only-of-type {\n",
       "        vertical-align: middle;\n",
       "    }\n",
       "\n",
       "    .dataframe tbody tr th {\n",
       "        vertical-align: top;\n",
       "    }\n",
       "\n",
       "    .dataframe thead th {\n",
       "        text-align: right;\n",
       "    }\n",
       "</style>\n",
       "<table border=\"1\" class=\"dataframe\">\n",
       "  <thead>\n",
       "    <tr style=\"text-align: right;\">\n",
       "      <th></th>\n",
       "      <th>0</th>\n",
       "      <th>1</th>\n",
       "      <th>2</th>\n",
       "      <th>3</th>\n",
       "      <th>4</th>\n",
       "      <th>5</th>\n",
       "      <th>6</th>\n",
       "      <th>7</th>\n",
       "      <th>8</th>\n",
       "      <th>9</th>\n",
       "      <th>10</th>\n",
       "      <th>11</th>\n",
       "      <th>12</th>\n",
       "      <th>13</th>\n",
       "      <th>14</th>\n",
       "      <th>15</th>\n",
       "      <th>16</th>\n",
       "      <th>17</th>\n",
       "      <th>18</th>\n",
       "      <th>19</th>\n",
       "      <th>20</th>\n",
       "      <th>21</th>\n",
       "      <th>22</th>\n",
       "      <th>23</th>\n",
       "      <th>24</th>\n",
       "      <th>25</th>\n",
       "      <th>26</th>\n",
       "      <th>27</th>\n",
       "      <th>28</th>\n",
       "      <th>29</th>\n",
       "      <th>30</th>\n",
       "      <th>31</th>\n",
       "      <th>32</th>\n",
       "      <th>33</th>\n",
       "      <th>34</th>\n",
       "      <th>35</th>\n",
       "      <th>36</th>\n",
       "      <th>37</th>\n",
       "      <th>38</th>\n",
       "      <th>39</th>\n",
       "      <th>40</th>\n",
       "      <th>41</th>\n",
       "      <th>42</th>\n",
       "      <th>43</th>\n",
       "      <th>44</th>\n",
       "      <th>45</th>\n",
       "      <th>46</th>\n",
       "      <th>47</th>\n",
       "      <th>48</th>\n",
       "      <th>49</th>\n",
       "      <th>...</th>\n",
       "      <th>863</th>\n",
       "      <th>864</th>\n",
       "      <th>865</th>\n",
       "      <th>866</th>\n",
       "      <th>867</th>\n",
       "      <th>868</th>\n",
       "      <th>869</th>\n",
       "      <th>870</th>\n",
       "      <th>871</th>\n",
       "      <th>872</th>\n",
       "      <th>873</th>\n",
       "      <th>874</th>\n",
       "      <th>875</th>\n",
       "      <th>876</th>\n",
       "      <th>877</th>\n",
       "      <th>878</th>\n",
       "      <th>879</th>\n",
       "      <th>880</th>\n",
       "      <th>881</th>\n",
       "      <th>882</th>\n",
       "      <th>883</th>\n",
       "      <th>884</th>\n",
       "      <th>885</th>\n",
       "      <th>886</th>\n",
       "      <th>887</th>\n",
       "      <th>888</th>\n",
       "      <th>889</th>\n",
       "      <th>890</th>\n",
       "      <th>891</th>\n",
       "      <th>892</th>\n",
       "      <th>893</th>\n",
       "      <th>894</th>\n",
       "      <th>895</th>\n",
       "      <th>896</th>\n",
       "      <th>897</th>\n",
       "      <th>898</th>\n",
       "      <th>899</th>\n",
       "      <th>900</th>\n",
       "      <th>901</th>\n",
       "      <th>902</th>\n",
       "      <th>903</th>\n",
       "      <th>904</th>\n",
       "      <th>905</th>\n",
       "      <th>906</th>\n",
       "      <th>907</th>\n",
       "      <th>908</th>\n",
       "      <th>909</th>\n",
       "      <th>910</th>\n",
       "      <th>target</th>\n",
       "      <th>target_bin</th>\n",
       "    </tr>\n",
       "  </thead>\n",
       "  <tbody>\n",
       "    <tr>\n",
       "      <th>%T</th>\n",
       "      <td>99.337090</td>\n",
       "      <td>100.249802</td>\n",
       "      <td>98.177658</td>\n",
       "      <td>97.640030</td>\n",
       "      <td>102.129456</td>\n",
       "      <td>100.725746</td>\n",
       "      <td>97.896927</td>\n",
       "      <td>103.310608</td>\n",
       "      <td>98.907608</td>\n",
       "      <td>99.889305</td>\n",
       "      <td>100.818047</td>\n",
       "      <td>99.599586</td>\n",
       "      <td>101.023758</td>\n",
       "      <td>98.572319</td>\n",
       "      <td>101.100815</td>\n",
       "      <td>101.036278</td>\n",
       "      <td>98.960754</td>\n",
       "      <td>101.472092</td>\n",
       "      <td>98.959923</td>\n",
       "      <td>100.572456</td>\n",
       "      <td>101.594231</td>\n",
       "      <td>100.222443</td>\n",
       "      <td>98.781944</td>\n",
       "      <td>102.984085</td>\n",
       "      <td>100.827980</td>\n",
       "      <td>99.582977</td>\n",
       "      <td>101.087250</td>\n",
       "      <td>99.527252</td>\n",
       "      <td>99.184128</td>\n",
       "      <td>99.938736</td>\n",
       "      <td>102.308342</td>\n",
       "      <td>101.987144</td>\n",
       "      <td>100.781082</td>\n",
       "      <td>101.035454</td>\n",
       "      <td>102.068245</td>\n",
       "      <td>101.017487</td>\n",
       "      <td>100.762711</td>\n",
       "      <td>101.211525</td>\n",
       "      <td>101.291206</td>\n",
       "      <td>100.892219</td>\n",
       "      <td>101.262543</td>\n",
       "      <td>100.699890</td>\n",
       "      <td>100.227989</td>\n",
       "      <td>100.621185</td>\n",
       "      <td>101.849655</td>\n",
       "      <td>100.765945</td>\n",
       "      <td>101.958107</td>\n",
       "      <td>102.638878</td>\n",
       "      <td>101.775429</td>\n",
       "      <td>101.234032</td>\n",
       "      <td>...</td>\n",
       "      <td>96.924141</td>\n",
       "      <td>96.973640</td>\n",
       "      <td>97.022408</td>\n",
       "      <td>97.007874</td>\n",
       "      <td>97.015884</td>\n",
       "      <td>97.047791</td>\n",
       "      <td>97.025993</td>\n",
       "      <td>97.067467</td>\n",
       "      <td>97.064178</td>\n",
       "      <td>97.057228</td>\n",
       "      <td>97.138557</td>\n",
       "      <td>97.132919</td>\n",
       "      <td>97.156570</td>\n",
       "      <td>97.179428</td>\n",
       "      <td>97.207130</td>\n",
       "      <td>97.245537</td>\n",
       "      <td>97.292358</td>\n",
       "      <td>97.345360</td>\n",
       "      <td>97.441963</td>\n",
       "      <td>97.514069</td>\n",
       "      <td>97.599442</td>\n",
       "      <td>97.663567</td>\n",
       "      <td>97.674149</td>\n",
       "      <td>97.658417</td>\n",
       "      <td>97.596268</td>\n",
       "      <td>97.485443</td>\n",
       "      <td>97.375107</td>\n",
       "      <td>97.175476</td>\n",
       "      <td>96.959152</td>\n",
       "      <td>96.711700</td>\n",
       "      <td>96.355103</td>\n",
       "      <td>95.967651</td>\n",
       "      <td>95.570099</td>\n",
       "      <td>95.191406</td>\n",
       "      <td>94.836639</td>\n",
       "      <td>94.475403</td>\n",
       "      <td>94.090805</td>\n",
       "      <td>93.743607</td>\n",
       "      <td>93.474838</td>\n",
       "      <td>93.132202</td>\n",
       "      <td>92.727028</td>\n",
       "      <td>92.505508</td>\n",
       "      <td>91.481812</td>\n",
       "      <td>91.429367</td>\n",
       "      <td>90.301964</td>\n",
       "      <td>89.043396</td>\n",
       "      <td>89.710884</td>\n",
       "      <td>87.991386</td>\n",
       "      <td>red_price</td>\n",
       "      <td>1</td>\n",
       "    </tr>\n",
       "    <tr>\n",
       "      <th>%T.1</th>\n",
       "      <td>99.337090</td>\n",
       "      <td>100.249802</td>\n",
       "      <td>98.177658</td>\n",
       "      <td>97.640030</td>\n",
       "      <td>102.129456</td>\n",
       "      <td>100.725746</td>\n",
       "      <td>97.896927</td>\n",
       "      <td>103.310608</td>\n",
       "      <td>98.907608</td>\n",
       "      <td>99.889305</td>\n",
       "      <td>100.818047</td>\n",
       "      <td>99.599586</td>\n",
       "      <td>101.023758</td>\n",
       "      <td>98.572319</td>\n",
       "      <td>101.100815</td>\n",
       "      <td>101.036278</td>\n",
       "      <td>98.960754</td>\n",
       "      <td>101.472092</td>\n",
       "      <td>98.959923</td>\n",
       "      <td>100.572456</td>\n",
       "      <td>101.594231</td>\n",
       "      <td>100.222443</td>\n",
       "      <td>98.781944</td>\n",
       "      <td>102.984085</td>\n",
       "      <td>100.827980</td>\n",
       "      <td>99.582977</td>\n",
       "      <td>101.087250</td>\n",
       "      <td>99.527252</td>\n",
       "      <td>99.184128</td>\n",
       "      <td>99.938736</td>\n",
       "      <td>102.308342</td>\n",
       "      <td>101.987144</td>\n",
       "      <td>100.781082</td>\n",
       "      <td>101.035454</td>\n",
       "      <td>102.068245</td>\n",
       "      <td>101.017487</td>\n",
       "      <td>100.762711</td>\n",
       "      <td>101.211525</td>\n",
       "      <td>101.291206</td>\n",
       "      <td>100.892219</td>\n",
       "      <td>101.262543</td>\n",
       "      <td>100.699890</td>\n",
       "      <td>100.227989</td>\n",
       "      <td>100.621185</td>\n",
       "      <td>101.849655</td>\n",
       "      <td>100.765945</td>\n",
       "      <td>101.958107</td>\n",
       "      <td>102.638878</td>\n",
       "      <td>101.775429</td>\n",
       "      <td>101.234032</td>\n",
       "      <td>...</td>\n",
       "      <td>96.924141</td>\n",
       "      <td>96.973640</td>\n",
       "      <td>97.022408</td>\n",
       "      <td>97.007874</td>\n",
       "      <td>97.015884</td>\n",
       "      <td>97.047791</td>\n",
       "      <td>97.025993</td>\n",
       "      <td>97.067467</td>\n",
       "      <td>97.064178</td>\n",
       "      <td>97.057228</td>\n",
       "      <td>97.138557</td>\n",
       "      <td>97.132919</td>\n",
       "      <td>97.156570</td>\n",
       "      <td>97.179428</td>\n",
       "      <td>97.207130</td>\n",
       "      <td>97.245537</td>\n",
       "      <td>97.292358</td>\n",
       "      <td>97.345360</td>\n",
       "      <td>97.441963</td>\n",
       "      <td>97.514069</td>\n",
       "      <td>97.599442</td>\n",
       "      <td>97.663567</td>\n",
       "      <td>97.674149</td>\n",
       "      <td>97.658417</td>\n",
       "      <td>97.596268</td>\n",
       "      <td>97.485443</td>\n",
       "      <td>97.375107</td>\n",
       "      <td>97.175476</td>\n",
       "      <td>96.959152</td>\n",
       "      <td>96.711700</td>\n",
       "      <td>96.355103</td>\n",
       "      <td>95.967651</td>\n",
       "      <td>95.570099</td>\n",
       "      <td>95.191406</td>\n",
       "      <td>94.836639</td>\n",
       "      <td>94.475403</td>\n",
       "      <td>94.090805</td>\n",
       "      <td>93.743607</td>\n",
       "      <td>93.474838</td>\n",
       "      <td>93.132202</td>\n",
       "      <td>92.727028</td>\n",
       "      <td>92.505508</td>\n",
       "      <td>91.481812</td>\n",
       "      <td>91.429367</td>\n",
       "      <td>90.301964</td>\n",
       "      <td>89.043396</td>\n",
       "      <td>89.710884</td>\n",
       "      <td>87.991386</td>\n",
       "      <td>red_price</td>\n",
       "      <td>1</td>\n",
       "    </tr>\n",
       "    <tr>\n",
       "      <th>%T.2</th>\n",
       "      <td>99.337090</td>\n",
       "      <td>100.249802</td>\n",
       "      <td>98.177658</td>\n",
       "      <td>97.640030</td>\n",
       "      <td>102.129456</td>\n",
       "      <td>100.725746</td>\n",
       "      <td>97.896927</td>\n",
       "      <td>103.310608</td>\n",
       "      <td>98.907608</td>\n",
       "      <td>99.889305</td>\n",
       "      <td>100.818047</td>\n",
       "      <td>99.599586</td>\n",
       "      <td>101.023758</td>\n",
       "      <td>98.572319</td>\n",
       "      <td>101.100815</td>\n",
       "      <td>101.036278</td>\n",
       "      <td>98.960754</td>\n",
       "      <td>101.472092</td>\n",
       "      <td>98.959923</td>\n",
       "      <td>100.572456</td>\n",
       "      <td>101.594231</td>\n",
       "      <td>100.222443</td>\n",
       "      <td>98.781944</td>\n",
       "      <td>102.984085</td>\n",
       "      <td>100.827980</td>\n",
       "      <td>99.582977</td>\n",
       "      <td>101.087250</td>\n",
       "      <td>99.527252</td>\n",
       "      <td>99.184128</td>\n",
       "      <td>99.938736</td>\n",
       "      <td>102.308342</td>\n",
       "      <td>101.987144</td>\n",
       "      <td>100.781082</td>\n",
       "      <td>101.035454</td>\n",
       "      <td>102.068245</td>\n",
       "      <td>101.017487</td>\n",
       "      <td>100.762711</td>\n",
       "      <td>101.211525</td>\n",
       "      <td>101.291206</td>\n",
       "      <td>100.892219</td>\n",
       "      <td>101.262543</td>\n",
       "      <td>100.699890</td>\n",
       "      <td>100.227989</td>\n",
       "      <td>100.621185</td>\n",
       "      <td>101.849655</td>\n",
       "      <td>100.765945</td>\n",
       "      <td>101.958107</td>\n",
       "      <td>102.638878</td>\n",
       "      <td>101.775429</td>\n",
       "      <td>101.234032</td>\n",
       "      <td>...</td>\n",
       "      <td>96.924141</td>\n",
       "      <td>96.973640</td>\n",
       "      <td>97.022408</td>\n",
       "      <td>97.007874</td>\n",
       "      <td>97.015884</td>\n",
       "      <td>97.047791</td>\n",
       "      <td>97.025993</td>\n",
       "      <td>97.067467</td>\n",
       "      <td>97.064178</td>\n",
       "      <td>97.057228</td>\n",
       "      <td>97.138557</td>\n",
       "      <td>97.132919</td>\n",
       "      <td>97.156570</td>\n",
       "      <td>97.179428</td>\n",
       "      <td>97.207130</td>\n",
       "      <td>97.245537</td>\n",
       "      <td>97.292358</td>\n",
       "      <td>97.345360</td>\n",
       "      <td>97.441963</td>\n",
       "      <td>97.514069</td>\n",
       "      <td>97.599442</td>\n",
       "      <td>97.663567</td>\n",
       "      <td>97.674149</td>\n",
       "      <td>97.658417</td>\n",
       "      <td>97.596268</td>\n",
       "      <td>97.485443</td>\n",
       "      <td>97.375107</td>\n",
       "      <td>97.175476</td>\n",
       "      <td>96.959152</td>\n",
       "      <td>96.711700</td>\n",
       "      <td>96.355103</td>\n",
       "      <td>95.967651</td>\n",
       "      <td>95.570099</td>\n",
       "      <td>95.191406</td>\n",
       "      <td>94.836639</td>\n",
       "      <td>94.475403</td>\n",
       "      <td>94.090805</td>\n",
       "      <td>93.743607</td>\n",
       "      <td>93.474838</td>\n",
       "      <td>93.132202</td>\n",
       "      <td>92.727028</td>\n",
       "      <td>92.505508</td>\n",
       "      <td>91.481812</td>\n",
       "      <td>91.429367</td>\n",
       "      <td>90.301964</td>\n",
       "      <td>89.043396</td>\n",
       "      <td>89.710884</td>\n",
       "      <td>87.991386</td>\n",
       "      <td>red_price</td>\n",
       "      <td>1</td>\n",
       "    </tr>\n",
       "    <tr>\n",
       "      <th>%T.3</th>\n",
       "      <td>99.337090</td>\n",
       "      <td>100.249802</td>\n",
       "      <td>98.177658</td>\n",
       "      <td>97.640030</td>\n",
       "      <td>102.129456</td>\n",
       "      <td>100.725746</td>\n",
       "      <td>97.896927</td>\n",
       "      <td>103.310608</td>\n",
       "      <td>98.907608</td>\n",
       "      <td>99.889305</td>\n",
       "      <td>100.818047</td>\n",
       "      <td>99.599586</td>\n",
       "      <td>101.023758</td>\n",
       "      <td>98.572319</td>\n",
       "      <td>101.100815</td>\n",
       "      <td>101.036278</td>\n",
       "      <td>98.960754</td>\n",
       "      <td>101.472092</td>\n",
       "      <td>98.959923</td>\n",
       "      <td>100.572456</td>\n",
       "      <td>101.594231</td>\n",
       "      <td>100.222443</td>\n",
       "      <td>98.781944</td>\n",
       "      <td>102.984085</td>\n",
       "      <td>100.827980</td>\n",
       "      <td>99.582977</td>\n",
       "      <td>101.087250</td>\n",
       "      <td>99.527252</td>\n",
       "      <td>99.184128</td>\n",
       "      <td>99.938736</td>\n",
       "      <td>102.308342</td>\n",
       "      <td>101.987144</td>\n",
       "      <td>100.781082</td>\n",
       "      <td>101.035454</td>\n",
       "      <td>102.068245</td>\n",
       "      <td>101.017487</td>\n",
       "      <td>100.762711</td>\n",
       "      <td>101.211525</td>\n",
       "      <td>101.291206</td>\n",
       "      <td>100.892219</td>\n",
       "      <td>101.262543</td>\n",
       "      <td>100.699890</td>\n",
       "      <td>100.227989</td>\n",
       "      <td>100.621185</td>\n",
       "      <td>101.849655</td>\n",
       "      <td>100.765945</td>\n",
       "      <td>101.958107</td>\n",
       "      <td>102.638878</td>\n",
       "      <td>101.775429</td>\n",
       "      <td>101.234032</td>\n",
       "      <td>...</td>\n",
       "      <td>96.924141</td>\n",
       "      <td>96.973640</td>\n",
       "      <td>97.022408</td>\n",
       "      <td>97.007874</td>\n",
       "      <td>97.015884</td>\n",
       "      <td>97.047791</td>\n",
       "      <td>97.025993</td>\n",
       "      <td>97.067467</td>\n",
       "      <td>97.064178</td>\n",
       "      <td>97.057228</td>\n",
       "      <td>97.138557</td>\n",
       "      <td>97.132919</td>\n",
       "      <td>97.156570</td>\n",
       "      <td>97.179428</td>\n",
       "      <td>97.207130</td>\n",
       "      <td>97.245537</td>\n",
       "      <td>97.292358</td>\n",
       "      <td>97.345360</td>\n",
       "      <td>97.441963</td>\n",
       "      <td>97.514069</td>\n",
       "      <td>97.599442</td>\n",
       "      <td>97.663567</td>\n",
       "      <td>97.674149</td>\n",
       "      <td>97.658417</td>\n",
       "      <td>97.596268</td>\n",
       "      <td>97.485443</td>\n",
       "      <td>97.375107</td>\n",
       "      <td>97.175476</td>\n",
       "      <td>96.959152</td>\n",
       "      <td>96.711700</td>\n",
       "      <td>96.355103</td>\n",
       "      <td>95.967651</td>\n",
       "      <td>95.570099</td>\n",
       "      <td>95.191406</td>\n",
       "      <td>94.836639</td>\n",
       "      <td>94.475403</td>\n",
       "      <td>94.090805</td>\n",
       "      <td>93.743607</td>\n",
       "      <td>93.474838</td>\n",
       "      <td>93.132202</td>\n",
       "      <td>92.727028</td>\n",
       "      <td>92.505508</td>\n",
       "      <td>91.481812</td>\n",
       "      <td>91.429367</td>\n",
       "      <td>90.301964</td>\n",
       "      <td>89.043396</td>\n",
       "      <td>89.710884</td>\n",
       "      <td>87.991386</td>\n",
       "      <td>red_price</td>\n",
       "      <td>1</td>\n",
       "    </tr>\n",
       "    <tr>\n",
       "      <th>%T.4</th>\n",
       "      <td>99.337090</td>\n",
       "      <td>100.249802</td>\n",
       "      <td>98.177658</td>\n",
       "      <td>97.640030</td>\n",
       "      <td>102.129456</td>\n",
       "      <td>100.725746</td>\n",
       "      <td>97.896927</td>\n",
       "      <td>103.310608</td>\n",
       "      <td>98.907608</td>\n",
       "      <td>99.889305</td>\n",
       "      <td>100.818047</td>\n",
       "      <td>99.599586</td>\n",
       "      <td>101.023758</td>\n",
       "      <td>98.572319</td>\n",
       "      <td>101.100815</td>\n",
       "      <td>101.036278</td>\n",
       "      <td>98.960754</td>\n",
       "      <td>101.472092</td>\n",
       "      <td>98.959923</td>\n",
       "      <td>100.572456</td>\n",
       "      <td>101.594231</td>\n",
       "      <td>100.222443</td>\n",
       "      <td>98.781944</td>\n",
       "      <td>102.984085</td>\n",
       "      <td>100.827980</td>\n",
       "      <td>99.582977</td>\n",
       "      <td>101.087250</td>\n",
       "      <td>99.527252</td>\n",
       "      <td>99.184128</td>\n",
       "      <td>99.938736</td>\n",
       "      <td>102.308342</td>\n",
       "      <td>101.987144</td>\n",
       "      <td>100.781082</td>\n",
       "      <td>101.035454</td>\n",
       "      <td>102.068245</td>\n",
       "      <td>101.017487</td>\n",
       "      <td>100.762711</td>\n",
       "      <td>101.211525</td>\n",
       "      <td>101.291206</td>\n",
       "      <td>100.892219</td>\n",
       "      <td>101.262543</td>\n",
       "      <td>100.699890</td>\n",
       "      <td>100.227989</td>\n",
       "      <td>100.621185</td>\n",
       "      <td>101.849655</td>\n",
       "      <td>100.765945</td>\n",
       "      <td>101.958107</td>\n",
       "      <td>102.638878</td>\n",
       "      <td>101.775429</td>\n",
       "      <td>101.234032</td>\n",
       "      <td>...</td>\n",
       "      <td>96.924141</td>\n",
       "      <td>96.973640</td>\n",
       "      <td>97.022408</td>\n",
       "      <td>97.007874</td>\n",
       "      <td>97.015884</td>\n",
       "      <td>97.047791</td>\n",
       "      <td>97.025993</td>\n",
       "      <td>97.067467</td>\n",
       "      <td>97.064178</td>\n",
       "      <td>97.057228</td>\n",
       "      <td>97.138557</td>\n",
       "      <td>97.132919</td>\n",
       "      <td>97.156570</td>\n",
       "      <td>97.179428</td>\n",
       "      <td>97.207130</td>\n",
       "      <td>97.245537</td>\n",
       "      <td>97.292358</td>\n",
       "      <td>97.345360</td>\n",
       "      <td>97.441963</td>\n",
       "      <td>97.514069</td>\n",
       "      <td>97.599442</td>\n",
       "      <td>97.663567</td>\n",
       "      <td>97.674149</td>\n",
       "      <td>97.658417</td>\n",
       "      <td>97.596268</td>\n",
       "      <td>97.485443</td>\n",
       "      <td>97.375107</td>\n",
       "      <td>97.175476</td>\n",
       "      <td>96.959152</td>\n",
       "      <td>96.711700</td>\n",
       "      <td>96.355103</td>\n",
       "      <td>95.967651</td>\n",
       "      <td>95.570099</td>\n",
       "      <td>95.191406</td>\n",
       "      <td>94.836639</td>\n",
       "      <td>94.475403</td>\n",
       "      <td>94.090805</td>\n",
       "      <td>93.743607</td>\n",
       "      <td>93.474838</td>\n",
       "      <td>93.132202</td>\n",
       "      <td>92.727028</td>\n",
       "      <td>92.505508</td>\n",
       "      <td>91.481812</td>\n",
       "      <td>91.429367</td>\n",
       "      <td>90.301964</td>\n",
       "      <td>89.043396</td>\n",
       "      <td>89.710884</td>\n",
       "      <td>87.991386</td>\n",
       "      <td>red_price</td>\n",
       "      <td>1</td>\n",
       "    </tr>\n",
       "    <tr>\n",
       "      <th>...</th>\n",
       "      <td>...</td>\n",
       "      <td>...</td>\n",
       "      <td>...</td>\n",
       "      <td>...</td>\n",
       "      <td>...</td>\n",
       "      <td>...</td>\n",
       "      <td>...</td>\n",
       "      <td>...</td>\n",
       "      <td>...</td>\n",
       "      <td>...</td>\n",
       "      <td>...</td>\n",
       "      <td>...</td>\n",
       "      <td>...</td>\n",
       "      <td>...</td>\n",
       "      <td>...</td>\n",
       "      <td>...</td>\n",
       "      <td>...</td>\n",
       "      <td>...</td>\n",
       "      <td>...</td>\n",
       "      <td>...</td>\n",
       "      <td>...</td>\n",
       "      <td>...</td>\n",
       "      <td>...</td>\n",
       "      <td>...</td>\n",
       "      <td>...</td>\n",
       "      <td>...</td>\n",
       "      <td>...</td>\n",
       "      <td>...</td>\n",
       "      <td>...</td>\n",
       "      <td>...</td>\n",
       "      <td>...</td>\n",
       "      <td>...</td>\n",
       "      <td>...</td>\n",
       "      <td>...</td>\n",
       "      <td>...</td>\n",
       "      <td>...</td>\n",
       "      <td>...</td>\n",
       "      <td>...</td>\n",
       "      <td>...</td>\n",
       "      <td>...</td>\n",
       "      <td>...</td>\n",
       "      <td>...</td>\n",
       "      <td>...</td>\n",
       "      <td>...</td>\n",
       "      <td>...</td>\n",
       "      <td>...</td>\n",
       "      <td>...</td>\n",
       "      <td>...</td>\n",
       "      <td>...</td>\n",
       "      <td>...</td>\n",
       "      <td>...</td>\n",
       "      <td>...</td>\n",
       "      <td>...</td>\n",
       "      <td>...</td>\n",
       "      <td>...</td>\n",
       "      <td>...</td>\n",
       "      <td>...</td>\n",
       "      <td>...</td>\n",
       "      <td>...</td>\n",
       "      <td>...</td>\n",
       "      <td>...</td>\n",
       "      <td>...</td>\n",
       "      <td>...</td>\n",
       "      <td>...</td>\n",
       "      <td>...</td>\n",
       "      <td>...</td>\n",
       "      <td>...</td>\n",
       "      <td>...</td>\n",
       "      <td>...</td>\n",
       "      <td>...</td>\n",
       "      <td>...</td>\n",
       "      <td>...</td>\n",
       "      <td>...</td>\n",
       "      <td>...</td>\n",
       "      <td>...</td>\n",
       "      <td>...</td>\n",
       "      <td>...</td>\n",
       "      <td>...</td>\n",
       "      <td>...</td>\n",
       "      <td>...</td>\n",
       "      <td>...</td>\n",
       "      <td>...</td>\n",
       "      <td>...</td>\n",
       "      <td>...</td>\n",
       "      <td>...</td>\n",
       "      <td>...</td>\n",
       "      <td>...</td>\n",
       "      <td>...</td>\n",
       "      <td>...</td>\n",
       "      <td>...</td>\n",
       "      <td>...</td>\n",
       "      <td>...</td>\n",
       "      <td>...</td>\n",
       "      <td>...</td>\n",
       "      <td>...</td>\n",
       "      <td>...</td>\n",
       "      <td>...</td>\n",
       "      <td>...</td>\n",
       "      <td>...</td>\n",
       "      <td>...</td>\n",
       "      <td>...</td>\n",
       "    </tr>\n",
       "    <tr>\n",
       "      <th>%T.101</th>\n",
       "      <td>62.483829</td>\n",
       "      <td>67.367767</td>\n",
       "      <td>65.049255</td>\n",
       "      <td>65.096191</td>\n",
       "      <td>70.633224</td>\n",
       "      <td>69.351250</td>\n",
       "      <td>66.493034</td>\n",
       "      <td>67.655632</td>\n",
       "      <td>68.316307</td>\n",
       "      <td>64.498734</td>\n",
       "      <td>63.117027</td>\n",
       "      <td>64.335403</td>\n",
       "      <td>64.846596</td>\n",
       "      <td>66.498085</td>\n",
       "      <td>64.704140</td>\n",
       "      <td>67.510841</td>\n",
       "      <td>64.886597</td>\n",
       "      <td>64.019730</td>\n",
       "      <td>64.733955</td>\n",
       "      <td>64.375839</td>\n",
       "      <td>63.082283</td>\n",
       "      <td>64.865608</td>\n",
       "      <td>63.743381</td>\n",
       "      <td>64.460968</td>\n",
       "      <td>63.628132</td>\n",
       "      <td>63.120205</td>\n",
       "      <td>64.160667</td>\n",
       "      <td>61.551209</td>\n",
       "      <td>62.969582</td>\n",
       "      <td>59.279476</td>\n",
       "      <td>62.160091</td>\n",
       "      <td>64.271446</td>\n",
       "      <td>61.193596</td>\n",
       "      <td>60.555817</td>\n",
       "      <td>61.262119</td>\n",
       "      <td>61.755157</td>\n",
       "      <td>61.497974</td>\n",
       "      <td>60.273968</td>\n",
       "      <td>60.711624</td>\n",
       "      <td>60.923344</td>\n",
       "      <td>58.501892</td>\n",
       "      <td>61.760502</td>\n",
       "      <td>57.901836</td>\n",
       "      <td>59.521507</td>\n",
       "      <td>58.514572</td>\n",
       "      <td>58.041309</td>\n",
       "      <td>57.891064</td>\n",
       "      <td>57.404942</td>\n",
       "      <td>58.448868</td>\n",
       "      <td>57.605286</td>\n",
       "      <td>...</td>\n",
       "      <td>0.019037</td>\n",
       "      <td>0.013582</td>\n",
       "      <td>0.021078</td>\n",
       "      <td>0.027460</td>\n",
       "      <td>0.024666</td>\n",
       "      <td>0.032688</td>\n",
       "      <td>0.021969</td>\n",
       "      <td>0.028445</td>\n",
       "      <td>0.021213</td>\n",
       "      <td>0.035502</td>\n",
       "      <td>0.015476</td>\n",
       "      <td>0.021136</td>\n",
       "      <td>0.025333</td>\n",
       "      <td>0.026453</td>\n",
       "      <td>0.023574</td>\n",
       "      <td>0.019265</td>\n",
       "      <td>0.017427</td>\n",
       "      <td>0.026385</td>\n",
       "      <td>0.040211</td>\n",
       "      <td>0.038724</td>\n",
       "      <td>0.042043</td>\n",
       "      <td>0.040766</td>\n",
       "      <td>0.039367</td>\n",
       "      <td>0.031937</td>\n",
       "      <td>0.039529</td>\n",
       "      <td>0.033801</td>\n",
       "      <td>0.035758</td>\n",
       "      <td>0.036596</td>\n",
       "      <td>0.035577</td>\n",
       "      <td>0.039063</td>\n",
       "      <td>0.033995</td>\n",
       "      <td>0.041593</td>\n",
       "      <td>0.040728</td>\n",
       "      <td>0.049618</td>\n",
       "      <td>0.037891</td>\n",
       "      <td>0.044380</td>\n",
       "      <td>0.046815</td>\n",
       "      <td>0.051705</td>\n",
       "      <td>0.053878</td>\n",
       "      <td>0.044519</td>\n",
       "      <td>0.053282</td>\n",
       "      <td>0.064846</td>\n",
       "      <td>0.064514</td>\n",
       "      <td>0.075150</td>\n",
       "      <td>0.068457</td>\n",
       "      <td>0.074078</td>\n",
       "      <td>0.067131</td>\n",
       "      <td>0.101928</td>\n",
       "      <td>golden_seed</td>\n",
       "      <td>0</td>\n",
       "    </tr>\n",
       "    <tr>\n",
       "      <th>%T.102</th>\n",
       "      <td>64.238235</td>\n",
       "      <td>65.222137</td>\n",
       "      <td>67.091049</td>\n",
       "      <td>65.591011</td>\n",
       "      <td>68.188927</td>\n",
       "      <td>66.658401</td>\n",
       "      <td>66.259926</td>\n",
       "      <td>63.490265</td>\n",
       "      <td>68.961914</td>\n",
       "      <td>66.225021</td>\n",
       "      <td>63.895191</td>\n",
       "      <td>66.507172</td>\n",
       "      <td>65.342880</td>\n",
       "      <td>64.193352</td>\n",
       "      <td>67.558327</td>\n",
       "      <td>68.349403</td>\n",
       "      <td>65.772285</td>\n",
       "      <td>64.642670</td>\n",
       "      <td>65.495743</td>\n",
       "      <td>66.320793</td>\n",
       "      <td>64.990601</td>\n",
       "      <td>64.070633</td>\n",
       "      <td>63.744556</td>\n",
       "      <td>62.708099</td>\n",
       "      <td>64.307388</td>\n",
       "      <td>60.753601</td>\n",
       "      <td>63.426792</td>\n",
       "      <td>62.443752</td>\n",
       "      <td>62.670612</td>\n",
       "      <td>60.349552</td>\n",
       "      <td>62.791763</td>\n",
       "      <td>63.000153</td>\n",
       "      <td>62.138187</td>\n",
       "      <td>59.836704</td>\n",
       "      <td>61.022770</td>\n",
       "      <td>62.480988</td>\n",
       "      <td>59.662521</td>\n",
       "      <td>61.350029</td>\n",
       "      <td>61.134869</td>\n",
       "      <td>59.999687</td>\n",
       "      <td>60.301773</td>\n",
       "      <td>60.930027</td>\n",
       "      <td>58.859970</td>\n",
       "      <td>58.444477</td>\n",
       "      <td>58.562164</td>\n",
       "      <td>59.027458</td>\n",
       "      <td>58.268875</td>\n",
       "      <td>57.753857</td>\n",
       "      <td>57.726307</td>\n",
       "      <td>57.762974</td>\n",
       "      <td>...</td>\n",
       "      <td>0.025425</td>\n",
       "      <td>0.014711</td>\n",
       "      <td>0.022431</td>\n",
       "      <td>0.014957</td>\n",
       "      <td>0.026149</td>\n",
       "      <td>0.023609</td>\n",
       "      <td>0.014390</td>\n",
       "      <td>0.018856</td>\n",
       "      <td>0.018649</td>\n",
       "      <td>0.038585</td>\n",
       "      <td>0.018401</td>\n",
       "      <td>0.022781</td>\n",
       "      <td>0.032374</td>\n",
       "      <td>0.032296</td>\n",
       "      <td>0.022333</td>\n",
       "      <td>0.021068</td>\n",
       "      <td>0.026240</td>\n",
       "      <td>0.026233</td>\n",
       "      <td>0.026346</td>\n",
       "      <td>0.042248</td>\n",
       "      <td>0.027773</td>\n",
       "      <td>0.041208</td>\n",
       "      <td>0.041399</td>\n",
       "      <td>0.034614</td>\n",
       "      <td>0.039711</td>\n",
       "      <td>0.039482</td>\n",
       "      <td>0.037362</td>\n",
       "      <td>0.038154</td>\n",
       "      <td>0.047922</td>\n",
       "      <td>0.037376</td>\n",
       "      <td>0.040696</td>\n",
       "      <td>0.040866</td>\n",
       "      <td>0.039680</td>\n",
       "      <td>0.039423</td>\n",
       "      <td>0.049915</td>\n",
       "      <td>0.044046</td>\n",
       "      <td>0.048013</td>\n",
       "      <td>0.071761</td>\n",
       "      <td>0.041536</td>\n",
       "      <td>0.052526</td>\n",
       "      <td>0.051680</td>\n",
       "      <td>0.065605</td>\n",
       "      <td>0.062851</td>\n",
       "      <td>0.077970</td>\n",
       "      <td>0.059734</td>\n",
       "      <td>0.067464</td>\n",
       "      <td>0.069644</td>\n",
       "      <td>0.106984</td>\n",
       "      <td>golden_seed</td>\n",
       "      <td>0</td>\n",
       "    </tr>\n",
       "    <tr>\n",
       "      <th>%T.103</th>\n",
       "      <td>65.439514</td>\n",
       "      <td>65.719048</td>\n",
       "      <td>64.888306</td>\n",
       "      <td>62.751526</td>\n",
       "      <td>68.990028</td>\n",
       "      <td>69.074509</td>\n",
       "      <td>68.301117</td>\n",
       "      <td>67.360115</td>\n",
       "      <td>66.949097</td>\n",
       "      <td>66.492836</td>\n",
       "      <td>65.036774</td>\n",
       "      <td>65.278473</td>\n",
       "      <td>65.174034</td>\n",
       "      <td>64.288651</td>\n",
       "      <td>66.030914</td>\n",
       "      <td>66.749344</td>\n",
       "      <td>64.527290</td>\n",
       "      <td>65.543900</td>\n",
       "      <td>63.786610</td>\n",
       "      <td>63.735287</td>\n",
       "      <td>64.684982</td>\n",
       "      <td>64.424599</td>\n",
       "      <td>63.949657</td>\n",
       "      <td>63.214188</td>\n",
       "      <td>63.191605</td>\n",
       "      <td>63.439507</td>\n",
       "      <td>61.813004</td>\n",
       "      <td>62.458206</td>\n",
       "      <td>62.805222</td>\n",
       "      <td>61.907059</td>\n",
       "      <td>62.420547</td>\n",
       "      <td>64.578125</td>\n",
       "      <td>63.341057</td>\n",
       "      <td>60.678780</td>\n",
       "      <td>61.288410</td>\n",
       "      <td>62.405743</td>\n",
       "      <td>61.573376</td>\n",
       "      <td>60.940426</td>\n",
       "      <td>60.741104</td>\n",
       "      <td>59.942139</td>\n",
       "      <td>60.155487</td>\n",
       "      <td>59.529209</td>\n",
       "      <td>58.233368</td>\n",
       "      <td>58.778137</td>\n",
       "      <td>59.970600</td>\n",
       "      <td>58.675480</td>\n",
       "      <td>57.747948</td>\n",
       "      <td>57.672615</td>\n",
       "      <td>58.637016</td>\n",
       "      <td>58.011826</td>\n",
       "      <td>...</td>\n",
       "      <td>0.030980</td>\n",
       "      <td>0.025762</td>\n",
       "      <td>0.021018</td>\n",
       "      <td>0.018787</td>\n",
       "      <td>0.021939</td>\n",
       "      <td>0.035928</td>\n",
       "      <td>0.017327</td>\n",
       "      <td>0.019108</td>\n",
       "      <td>0.025166</td>\n",
       "      <td>0.025436</td>\n",
       "      <td>0.019117</td>\n",
       "      <td>0.019796</td>\n",
       "      <td>0.028058</td>\n",
       "      <td>0.029754</td>\n",
       "      <td>0.025906</td>\n",
       "      <td>0.025199</td>\n",
       "      <td>0.025612</td>\n",
       "      <td>0.031377</td>\n",
       "      <td>0.030509</td>\n",
       "      <td>0.031773</td>\n",
       "      <td>0.030803</td>\n",
       "      <td>0.044872</td>\n",
       "      <td>0.033134</td>\n",
       "      <td>0.037749</td>\n",
       "      <td>0.044682</td>\n",
       "      <td>0.038642</td>\n",
       "      <td>0.038021</td>\n",
       "      <td>0.032902</td>\n",
       "      <td>0.052216</td>\n",
       "      <td>0.041545</td>\n",
       "      <td>0.035633</td>\n",
       "      <td>0.032325</td>\n",
       "      <td>0.036143</td>\n",
       "      <td>0.038369</td>\n",
       "      <td>0.046973</td>\n",
       "      <td>0.044113</td>\n",
       "      <td>0.056034</td>\n",
       "      <td>0.062635</td>\n",
       "      <td>0.056081</td>\n",
       "      <td>0.042871</td>\n",
       "      <td>0.050208</td>\n",
       "      <td>0.061437</td>\n",
       "      <td>0.068177</td>\n",
       "      <td>0.069646</td>\n",
       "      <td>0.049462</td>\n",
       "      <td>0.054768</td>\n",
       "      <td>0.069927</td>\n",
       "      <td>0.086314</td>\n",
       "      <td>golden_seed</td>\n",
       "      <td>0</td>\n",
       "    </tr>\n",
       "    <tr>\n",
       "      <th>%T.104</th>\n",
       "      <td>66.591347</td>\n",
       "      <td>66.561119</td>\n",
       "      <td>67.538795</td>\n",
       "      <td>66.653931</td>\n",
       "      <td>67.369759</td>\n",
       "      <td>65.627243</td>\n",
       "      <td>68.426559</td>\n",
       "      <td>68.364243</td>\n",
       "      <td>67.959564</td>\n",
       "      <td>65.293976</td>\n",
       "      <td>64.067230</td>\n",
       "      <td>65.937134</td>\n",
       "      <td>65.334137</td>\n",
       "      <td>66.063995</td>\n",
       "      <td>65.642349</td>\n",
       "      <td>66.866058</td>\n",
       "      <td>63.739033</td>\n",
       "      <td>65.393715</td>\n",
       "      <td>65.808228</td>\n",
       "      <td>63.026684</td>\n",
       "      <td>62.686245</td>\n",
       "      <td>65.616661</td>\n",
       "      <td>65.293671</td>\n",
       "      <td>63.204620</td>\n",
       "      <td>64.018646</td>\n",
       "      <td>63.243782</td>\n",
       "      <td>63.427269</td>\n",
       "      <td>63.245903</td>\n",
       "      <td>63.238747</td>\n",
       "      <td>61.112057</td>\n",
       "      <td>62.396790</td>\n",
       "      <td>62.288647</td>\n",
       "      <td>62.215389</td>\n",
       "      <td>61.259483</td>\n",
       "      <td>62.183605</td>\n",
       "      <td>62.058849</td>\n",
       "      <td>60.406864</td>\n",
       "      <td>60.570465</td>\n",
       "      <td>61.685707</td>\n",
       "      <td>59.665276</td>\n",
       "      <td>60.290974</td>\n",
       "      <td>60.890381</td>\n",
       "      <td>58.900841</td>\n",
       "      <td>58.160816</td>\n",
       "      <td>59.532524</td>\n",
       "      <td>58.548313</td>\n",
       "      <td>58.880035</td>\n",
       "      <td>57.966965</td>\n",
       "      <td>57.700493</td>\n",
       "      <td>57.811295</td>\n",
       "      <td>...</td>\n",
       "      <td>0.024260</td>\n",
       "      <td>0.032127</td>\n",
       "      <td>0.025303</td>\n",
       "      <td>0.021815</td>\n",
       "      <td>0.019565</td>\n",
       "      <td>0.039146</td>\n",
       "      <td>0.016210</td>\n",
       "      <td>0.014977</td>\n",
       "      <td>0.023155</td>\n",
       "      <td>0.024353</td>\n",
       "      <td>0.019012</td>\n",
       "      <td>0.019352</td>\n",
       "      <td>0.022189</td>\n",
       "      <td>0.028785</td>\n",
       "      <td>0.021513</td>\n",
       "      <td>0.021511</td>\n",
       "      <td>0.032146</td>\n",
       "      <td>0.026928</td>\n",
       "      <td>0.034603</td>\n",
       "      <td>0.035587</td>\n",
       "      <td>0.036176</td>\n",
       "      <td>0.041940</td>\n",
       "      <td>0.039567</td>\n",
       "      <td>0.054055</td>\n",
       "      <td>0.038357</td>\n",
       "      <td>0.035812</td>\n",
       "      <td>0.039115</td>\n",
       "      <td>0.038748</td>\n",
       "      <td>0.039076</td>\n",
       "      <td>0.038037</td>\n",
       "      <td>0.032489</td>\n",
       "      <td>0.031143</td>\n",
       "      <td>0.036114</td>\n",
       "      <td>0.035407</td>\n",
       "      <td>0.038857</td>\n",
       "      <td>0.043331</td>\n",
       "      <td>0.048623</td>\n",
       "      <td>0.063447</td>\n",
       "      <td>0.057266</td>\n",
       "      <td>0.039577</td>\n",
       "      <td>0.045788</td>\n",
       "      <td>0.067753</td>\n",
       "      <td>0.071227</td>\n",
       "      <td>0.075370</td>\n",
       "      <td>0.077768</td>\n",
       "      <td>0.066088</td>\n",
       "      <td>0.081253</td>\n",
       "      <td>0.101675</td>\n",
       "      <td>golden_seed</td>\n",
       "      <td>0</td>\n",
       "    </tr>\n",
       "    <tr>\n",
       "      <th>%T.105</th>\n",
       "      <td>63.068729</td>\n",
       "      <td>68.487991</td>\n",
       "      <td>67.816315</td>\n",
       "      <td>65.460823</td>\n",
       "      <td>67.950233</td>\n",
       "      <td>65.380455</td>\n",
       "      <td>64.539734</td>\n",
       "      <td>66.533989</td>\n",
       "      <td>66.348038</td>\n",
       "      <td>66.682472</td>\n",
       "      <td>64.467880</td>\n",
       "      <td>64.632477</td>\n",
       "      <td>65.071640</td>\n",
       "      <td>65.770164</td>\n",
       "      <td>63.691288</td>\n",
       "      <td>64.441536</td>\n",
       "      <td>65.602753</td>\n",
       "      <td>65.209770</td>\n",
       "      <td>65.194992</td>\n",
       "      <td>64.561020</td>\n",
       "      <td>63.879955</td>\n",
       "      <td>63.822407</td>\n",
       "      <td>66.090462</td>\n",
       "      <td>63.932930</td>\n",
       "      <td>63.801010</td>\n",
       "      <td>62.901062</td>\n",
       "      <td>62.494011</td>\n",
       "      <td>62.778378</td>\n",
       "      <td>62.212444</td>\n",
       "      <td>61.283737</td>\n",
       "      <td>62.672592</td>\n",
       "      <td>64.992813</td>\n",
       "      <td>62.501450</td>\n",
       "      <td>62.285233</td>\n",
       "      <td>62.086124</td>\n",
       "      <td>61.732174</td>\n",
       "      <td>59.495319</td>\n",
       "      <td>60.634392</td>\n",
       "      <td>61.209393</td>\n",
       "      <td>59.319698</td>\n",
       "      <td>59.624611</td>\n",
       "      <td>60.070602</td>\n",
       "      <td>58.130062</td>\n",
       "      <td>58.436741</td>\n",
       "      <td>59.114544</td>\n",
       "      <td>58.913349</td>\n",
       "      <td>58.651257</td>\n",
       "      <td>57.053238</td>\n",
       "      <td>58.342278</td>\n",
       "      <td>58.096920</td>\n",
       "      <td>...</td>\n",
       "      <td>0.016932</td>\n",
       "      <td>0.019195</td>\n",
       "      <td>0.020778</td>\n",
       "      <td>0.017475</td>\n",
       "      <td>0.030437</td>\n",
       "      <td>0.018486</td>\n",
       "      <td>0.017912</td>\n",
       "      <td>0.013443</td>\n",
       "      <td>0.027788</td>\n",
       "      <td>0.039050</td>\n",
       "      <td>0.019343</td>\n",
       "      <td>0.022640</td>\n",
       "      <td>0.025488</td>\n",
       "      <td>0.031652</td>\n",
       "      <td>0.023047</td>\n",
       "      <td>0.025107</td>\n",
       "      <td>0.026006</td>\n",
       "      <td>0.034372</td>\n",
       "      <td>0.033200</td>\n",
       "      <td>0.026433</td>\n",
       "      <td>0.030123</td>\n",
       "      <td>0.034527</td>\n",
       "      <td>0.043869</td>\n",
       "      <td>0.033547</td>\n",
       "      <td>0.031755</td>\n",
       "      <td>0.038123</td>\n",
       "      <td>0.041047</td>\n",
       "      <td>0.043765</td>\n",
       "      <td>0.032170</td>\n",
       "      <td>0.042251</td>\n",
       "      <td>0.046884</td>\n",
       "      <td>0.042421</td>\n",
       "      <td>0.035092</td>\n",
       "      <td>0.033782</td>\n",
       "      <td>0.048713</td>\n",
       "      <td>0.049242</td>\n",
       "      <td>0.057391</td>\n",
       "      <td>0.057274</td>\n",
       "      <td>0.056346</td>\n",
       "      <td>0.043269</td>\n",
       "      <td>0.045639</td>\n",
       "      <td>0.066421</td>\n",
       "      <td>0.087725</td>\n",
       "      <td>0.064185</td>\n",
       "      <td>0.061289</td>\n",
       "      <td>0.049389</td>\n",
       "      <td>0.079932</td>\n",
       "      <td>0.105367</td>\n",
       "      <td>golden_seed</td>\n",
       "      <td>0</td>\n",
       "    </tr>\n",
       "  </tbody>\n",
       "</table>\n",
       "<p>215 rows × 913 columns</p>\n",
       "</div>"
      ],
      "text/plain": [
       "                0           1          2          3           4           5  \\\n",
       "%T      99.337090  100.249802  98.177658  97.640030  102.129456  100.725746   \n",
       "%T.1    99.337090  100.249802  98.177658  97.640030  102.129456  100.725746   \n",
       "%T.2    99.337090  100.249802  98.177658  97.640030  102.129456  100.725746   \n",
       "%T.3    99.337090  100.249802  98.177658  97.640030  102.129456  100.725746   \n",
       "%T.4    99.337090  100.249802  98.177658  97.640030  102.129456  100.725746   \n",
       "...           ...         ...        ...        ...         ...         ...   \n",
       "%T.101  62.483829   67.367767  65.049255  65.096191   70.633224   69.351250   \n",
       "%T.102  64.238235   65.222137  67.091049  65.591011   68.188927   66.658401   \n",
       "%T.103  65.439514   65.719048  64.888306  62.751526   68.990028   69.074509   \n",
       "%T.104  66.591347   66.561119  67.538795  66.653931   67.369759   65.627243   \n",
       "%T.105  63.068729   68.487991  67.816315  65.460823   67.950233   65.380455   \n",
       "\n",
       "                6           7          8          9          10         11  \\\n",
       "%T      97.896927  103.310608  98.907608  99.889305  100.818047  99.599586   \n",
       "%T.1    97.896927  103.310608  98.907608  99.889305  100.818047  99.599586   \n",
       "%T.2    97.896927  103.310608  98.907608  99.889305  100.818047  99.599586   \n",
       "%T.3    97.896927  103.310608  98.907608  99.889305  100.818047  99.599586   \n",
       "%T.4    97.896927  103.310608  98.907608  99.889305  100.818047  99.599586   \n",
       "...           ...         ...        ...        ...         ...        ...   \n",
       "%T.101  66.493034   67.655632  68.316307  64.498734   63.117027  64.335403   \n",
       "%T.102  66.259926   63.490265  68.961914  66.225021   63.895191  66.507172   \n",
       "%T.103  68.301117   67.360115  66.949097  66.492836   65.036774  65.278473   \n",
       "%T.104  68.426559   68.364243  67.959564  65.293976   64.067230  65.937134   \n",
       "%T.105  64.539734   66.533989  66.348038  66.682472   64.467880  64.632477   \n",
       "\n",
       "                12         13          14          15         16          17  \\\n",
       "%T      101.023758  98.572319  101.100815  101.036278  98.960754  101.472092   \n",
       "%T.1    101.023758  98.572319  101.100815  101.036278  98.960754  101.472092   \n",
       "%T.2    101.023758  98.572319  101.100815  101.036278  98.960754  101.472092   \n",
       "%T.3    101.023758  98.572319  101.100815  101.036278  98.960754  101.472092   \n",
       "%T.4    101.023758  98.572319  101.100815  101.036278  98.960754  101.472092   \n",
       "...            ...        ...         ...         ...        ...         ...   \n",
       "%T.101   64.846596  66.498085   64.704140   67.510841  64.886597   64.019730   \n",
       "%T.102   65.342880  64.193352   67.558327   68.349403  65.772285   64.642670   \n",
       "%T.103   65.174034  64.288651   66.030914   66.749344  64.527290   65.543900   \n",
       "%T.104   65.334137  66.063995   65.642349   66.866058  63.739033   65.393715   \n",
       "%T.105   65.071640  65.770164   63.691288   64.441536  65.602753   65.209770   \n",
       "\n",
       "               18          19          20          21         22          23  \\\n",
       "%T      98.959923  100.572456  101.594231  100.222443  98.781944  102.984085   \n",
       "%T.1    98.959923  100.572456  101.594231  100.222443  98.781944  102.984085   \n",
       "%T.2    98.959923  100.572456  101.594231  100.222443  98.781944  102.984085   \n",
       "%T.3    98.959923  100.572456  101.594231  100.222443  98.781944  102.984085   \n",
       "%T.4    98.959923  100.572456  101.594231  100.222443  98.781944  102.984085   \n",
       "...           ...         ...         ...         ...        ...         ...   \n",
       "%T.101  64.733955   64.375839   63.082283   64.865608  63.743381   64.460968   \n",
       "%T.102  65.495743   66.320793   64.990601   64.070633  63.744556   62.708099   \n",
       "%T.103  63.786610   63.735287   64.684982   64.424599  63.949657   63.214188   \n",
       "%T.104  65.808228   63.026684   62.686245   65.616661  65.293671   63.204620   \n",
       "%T.105  65.194992   64.561020   63.879955   63.822407  66.090462   63.932930   \n",
       "\n",
       "                24         25          26         27         28         29  \\\n",
       "%T      100.827980  99.582977  101.087250  99.527252  99.184128  99.938736   \n",
       "%T.1    100.827980  99.582977  101.087250  99.527252  99.184128  99.938736   \n",
       "%T.2    100.827980  99.582977  101.087250  99.527252  99.184128  99.938736   \n",
       "%T.3    100.827980  99.582977  101.087250  99.527252  99.184128  99.938736   \n",
       "%T.4    100.827980  99.582977  101.087250  99.527252  99.184128  99.938736   \n",
       "...            ...        ...         ...        ...        ...        ...   \n",
       "%T.101   63.628132  63.120205   64.160667  61.551209  62.969582  59.279476   \n",
       "%T.102   64.307388  60.753601   63.426792  62.443752  62.670612  60.349552   \n",
       "%T.103   63.191605  63.439507   61.813004  62.458206  62.805222  61.907059   \n",
       "%T.104   64.018646  63.243782   63.427269  63.245903  63.238747  61.112057   \n",
       "%T.105   63.801010  62.901062   62.494011  62.778378  62.212444  61.283737   \n",
       "\n",
       "                30          31          32          33          34  \\\n",
       "%T      102.308342  101.987144  100.781082  101.035454  102.068245   \n",
       "%T.1    102.308342  101.987144  100.781082  101.035454  102.068245   \n",
       "%T.2    102.308342  101.987144  100.781082  101.035454  102.068245   \n",
       "%T.3    102.308342  101.987144  100.781082  101.035454  102.068245   \n",
       "%T.4    102.308342  101.987144  100.781082  101.035454  102.068245   \n",
       "...            ...         ...         ...         ...         ...   \n",
       "%T.101   62.160091   64.271446   61.193596   60.555817   61.262119   \n",
       "%T.102   62.791763   63.000153   62.138187   59.836704   61.022770   \n",
       "%T.103   62.420547   64.578125   63.341057   60.678780   61.288410   \n",
       "%T.104   62.396790   62.288647   62.215389   61.259483   62.183605   \n",
       "%T.105   62.672592   64.992813   62.501450   62.285233   62.086124   \n",
       "\n",
       "                35          36          37          38          39  \\\n",
       "%T      101.017487  100.762711  101.211525  101.291206  100.892219   \n",
       "%T.1    101.017487  100.762711  101.211525  101.291206  100.892219   \n",
       "%T.2    101.017487  100.762711  101.211525  101.291206  100.892219   \n",
       "%T.3    101.017487  100.762711  101.211525  101.291206  100.892219   \n",
       "%T.4    101.017487  100.762711  101.211525  101.291206  100.892219   \n",
       "...            ...         ...         ...         ...         ...   \n",
       "%T.101   61.755157   61.497974   60.273968   60.711624   60.923344   \n",
       "%T.102   62.480988   59.662521   61.350029   61.134869   59.999687   \n",
       "%T.103   62.405743   61.573376   60.940426   60.741104   59.942139   \n",
       "%T.104   62.058849   60.406864   60.570465   61.685707   59.665276   \n",
       "%T.105   61.732174   59.495319   60.634392   61.209393   59.319698   \n",
       "\n",
       "                40          41          42          43          44  \\\n",
       "%T      101.262543  100.699890  100.227989  100.621185  101.849655   \n",
       "%T.1    101.262543  100.699890  100.227989  100.621185  101.849655   \n",
       "%T.2    101.262543  100.699890  100.227989  100.621185  101.849655   \n",
       "%T.3    101.262543  100.699890  100.227989  100.621185  101.849655   \n",
       "%T.4    101.262543  100.699890  100.227989  100.621185  101.849655   \n",
       "...            ...         ...         ...         ...         ...   \n",
       "%T.101   58.501892   61.760502   57.901836   59.521507   58.514572   \n",
       "%T.102   60.301773   60.930027   58.859970   58.444477   58.562164   \n",
       "%T.103   60.155487   59.529209   58.233368   58.778137   59.970600   \n",
       "%T.104   60.290974   60.890381   58.900841   58.160816   59.532524   \n",
       "%T.105   59.624611   60.070602   58.130062   58.436741   59.114544   \n",
       "\n",
       "                45          46          47          48          49  ...  \\\n",
       "%T      100.765945  101.958107  102.638878  101.775429  101.234032  ...   \n",
       "%T.1    100.765945  101.958107  102.638878  101.775429  101.234032  ...   \n",
       "%T.2    100.765945  101.958107  102.638878  101.775429  101.234032  ...   \n",
       "%T.3    100.765945  101.958107  102.638878  101.775429  101.234032  ...   \n",
       "%T.4    100.765945  101.958107  102.638878  101.775429  101.234032  ...   \n",
       "...            ...         ...         ...         ...         ...  ...   \n",
       "%T.101   58.041309   57.891064   57.404942   58.448868   57.605286  ...   \n",
       "%T.102   59.027458   58.268875   57.753857   57.726307   57.762974  ...   \n",
       "%T.103   58.675480   57.747948   57.672615   58.637016   58.011826  ...   \n",
       "%T.104   58.548313   58.880035   57.966965   57.700493   57.811295  ...   \n",
       "%T.105   58.913349   58.651257   57.053238   58.342278   58.096920  ...   \n",
       "\n",
       "              863        864        865        866        867        868  \\\n",
       "%T      96.924141  96.973640  97.022408  97.007874  97.015884  97.047791   \n",
       "%T.1    96.924141  96.973640  97.022408  97.007874  97.015884  97.047791   \n",
       "%T.2    96.924141  96.973640  97.022408  97.007874  97.015884  97.047791   \n",
       "%T.3    96.924141  96.973640  97.022408  97.007874  97.015884  97.047791   \n",
       "%T.4    96.924141  96.973640  97.022408  97.007874  97.015884  97.047791   \n",
       "...           ...        ...        ...        ...        ...        ...   \n",
       "%T.101   0.019037   0.013582   0.021078   0.027460   0.024666   0.032688   \n",
       "%T.102   0.025425   0.014711   0.022431   0.014957   0.026149   0.023609   \n",
       "%T.103   0.030980   0.025762   0.021018   0.018787   0.021939   0.035928   \n",
       "%T.104   0.024260   0.032127   0.025303   0.021815   0.019565   0.039146   \n",
       "%T.105   0.016932   0.019195   0.020778   0.017475   0.030437   0.018486   \n",
       "\n",
       "              869        870        871        872        873        874  \\\n",
       "%T      97.025993  97.067467  97.064178  97.057228  97.138557  97.132919   \n",
       "%T.1    97.025993  97.067467  97.064178  97.057228  97.138557  97.132919   \n",
       "%T.2    97.025993  97.067467  97.064178  97.057228  97.138557  97.132919   \n",
       "%T.3    97.025993  97.067467  97.064178  97.057228  97.138557  97.132919   \n",
       "%T.4    97.025993  97.067467  97.064178  97.057228  97.138557  97.132919   \n",
       "...           ...        ...        ...        ...        ...        ...   \n",
       "%T.101   0.021969   0.028445   0.021213   0.035502   0.015476   0.021136   \n",
       "%T.102   0.014390   0.018856   0.018649   0.038585   0.018401   0.022781   \n",
       "%T.103   0.017327   0.019108   0.025166   0.025436   0.019117   0.019796   \n",
       "%T.104   0.016210   0.014977   0.023155   0.024353   0.019012   0.019352   \n",
       "%T.105   0.017912   0.013443   0.027788   0.039050   0.019343   0.022640   \n",
       "\n",
       "              875        876        877        878        879        880  \\\n",
       "%T      97.156570  97.179428  97.207130  97.245537  97.292358  97.345360   \n",
       "%T.1    97.156570  97.179428  97.207130  97.245537  97.292358  97.345360   \n",
       "%T.2    97.156570  97.179428  97.207130  97.245537  97.292358  97.345360   \n",
       "%T.3    97.156570  97.179428  97.207130  97.245537  97.292358  97.345360   \n",
       "%T.4    97.156570  97.179428  97.207130  97.245537  97.292358  97.345360   \n",
       "...           ...        ...        ...        ...        ...        ...   \n",
       "%T.101   0.025333   0.026453   0.023574   0.019265   0.017427   0.026385   \n",
       "%T.102   0.032374   0.032296   0.022333   0.021068   0.026240   0.026233   \n",
       "%T.103   0.028058   0.029754   0.025906   0.025199   0.025612   0.031377   \n",
       "%T.104   0.022189   0.028785   0.021513   0.021511   0.032146   0.026928   \n",
       "%T.105   0.025488   0.031652   0.023047   0.025107   0.026006   0.034372   \n",
       "\n",
       "              881        882        883        884        885        886  \\\n",
       "%T      97.441963  97.514069  97.599442  97.663567  97.674149  97.658417   \n",
       "%T.1    97.441963  97.514069  97.599442  97.663567  97.674149  97.658417   \n",
       "%T.2    97.441963  97.514069  97.599442  97.663567  97.674149  97.658417   \n",
       "%T.3    97.441963  97.514069  97.599442  97.663567  97.674149  97.658417   \n",
       "%T.4    97.441963  97.514069  97.599442  97.663567  97.674149  97.658417   \n",
       "...           ...        ...        ...        ...        ...        ...   \n",
       "%T.101   0.040211   0.038724   0.042043   0.040766   0.039367   0.031937   \n",
       "%T.102   0.026346   0.042248   0.027773   0.041208   0.041399   0.034614   \n",
       "%T.103   0.030509   0.031773   0.030803   0.044872   0.033134   0.037749   \n",
       "%T.104   0.034603   0.035587   0.036176   0.041940   0.039567   0.054055   \n",
       "%T.105   0.033200   0.026433   0.030123   0.034527   0.043869   0.033547   \n",
       "\n",
       "              887        888        889        890        891        892  \\\n",
       "%T      97.596268  97.485443  97.375107  97.175476  96.959152  96.711700   \n",
       "%T.1    97.596268  97.485443  97.375107  97.175476  96.959152  96.711700   \n",
       "%T.2    97.596268  97.485443  97.375107  97.175476  96.959152  96.711700   \n",
       "%T.3    97.596268  97.485443  97.375107  97.175476  96.959152  96.711700   \n",
       "%T.4    97.596268  97.485443  97.375107  97.175476  96.959152  96.711700   \n",
       "...           ...        ...        ...        ...        ...        ...   \n",
       "%T.101   0.039529   0.033801   0.035758   0.036596   0.035577   0.039063   \n",
       "%T.102   0.039711   0.039482   0.037362   0.038154   0.047922   0.037376   \n",
       "%T.103   0.044682   0.038642   0.038021   0.032902   0.052216   0.041545   \n",
       "%T.104   0.038357   0.035812   0.039115   0.038748   0.039076   0.038037   \n",
       "%T.105   0.031755   0.038123   0.041047   0.043765   0.032170   0.042251   \n",
       "\n",
       "              893        894        895        896        897        898  \\\n",
       "%T      96.355103  95.967651  95.570099  95.191406  94.836639  94.475403   \n",
       "%T.1    96.355103  95.967651  95.570099  95.191406  94.836639  94.475403   \n",
       "%T.2    96.355103  95.967651  95.570099  95.191406  94.836639  94.475403   \n",
       "%T.3    96.355103  95.967651  95.570099  95.191406  94.836639  94.475403   \n",
       "%T.4    96.355103  95.967651  95.570099  95.191406  94.836639  94.475403   \n",
       "...           ...        ...        ...        ...        ...        ...   \n",
       "%T.101   0.033995   0.041593   0.040728   0.049618   0.037891   0.044380   \n",
       "%T.102   0.040696   0.040866   0.039680   0.039423   0.049915   0.044046   \n",
       "%T.103   0.035633   0.032325   0.036143   0.038369   0.046973   0.044113   \n",
       "%T.104   0.032489   0.031143   0.036114   0.035407   0.038857   0.043331   \n",
       "%T.105   0.046884   0.042421   0.035092   0.033782   0.048713   0.049242   \n",
       "\n",
       "              899        900        901        902        903        904  \\\n",
       "%T      94.090805  93.743607  93.474838  93.132202  92.727028  92.505508   \n",
       "%T.1    94.090805  93.743607  93.474838  93.132202  92.727028  92.505508   \n",
       "%T.2    94.090805  93.743607  93.474838  93.132202  92.727028  92.505508   \n",
       "%T.3    94.090805  93.743607  93.474838  93.132202  92.727028  92.505508   \n",
       "%T.4    94.090805  93.743607  93.474838  93.132202  92.727028  92.505508   \n",
       "...           ...        ...        ...        ...        ...        ...   \n",
       "%T.101   0.046815   0.051705   0.053878   0.044519   0.053282   0.064846   \n",
       "%T.102   0.048013   0.071761   0.041536   0.052526   0.051680   0.065605   \n",
       "%T.103   0.056034   0.062635   0.056081   0.042871   0.050208   0.061437   \n",
       "%T.104   0.048623   0.063447   0.057266   0.039577   0.045788   0.067753   \n",
       "%T.105   0.057391   0.057274   0.056346   0.043269   0.045639   0.066421   \n",
       "\n",
       "              905        906        907        908        909        910  \\\n",
       "%T      91.481812  91.429367  90.301964  89.043396  89.710884  87.991386   \n",
       "%T.1    91.481812  91.429367  90.301964  89.043396  89.710884  87.991386   \n",
       "%T.2    91.481812  91.429367  90.301964  89.043396  89.710884  87.991386   \n",
       "%T.3    91.481812  91.429367  90.301964  89.043396  89.710884  87.991386   \n",
       "%T.4    91.481812  91.429367  90.301964  89.043396  89.710884  87.991386   \n",
       "...           ...        ...        ...        ...        ...        ...   \n",
       "%T.101   0.064514   0.075150   0.068457   0.074078   0.067131   0.101928   \n",
       "%T.102   0.062851   0.077970   0.059734   0.067464   0.069644   0.106984   \n",
       "%T.103   0.068177   0.069646   0.049462   0.054768   0.069927   0.086314   \n",
       "%T.104   0.071227   0.075370   0.077768   0.066088   0.081253   0.101675   \n",
       "%T.105   0.087725   0.064185   0.061289   0.049389   0.079932   0.105367   \n",
       "\n",
       "             target  target_bin  \n",
       "%T        red_price           1  \n",
       "%T.1      red_price           1  \n",
       "%T.2      red_price           1  \n",
       "%T.3      red_price           1  \n",
       "%T.4      red_price           1  \n",
       "...             ...         ...  \n",
       "%T.101  golden_seed           0  \n",
       "%T.102  golden_seed           0  \n",
       "%T.103  golden_seed           0  \n",
       "%T.104  golden_seed           0  \n",
       "%T.105  golden_seed           0  \n",
       "\n",
       "[215 rows x 913 columns]"
      ]
     },
     "execution_count": 30,
     "metadata": {},
     "output_type": "execute_result"
    }
   ],
   "source": [
    "dictionary ={'golden_seed' : 0, 'red_price' : 1}\n",
    "\n",
    "df['target_bin'] = df.target.map(dictionary)\n",
    "df"
   ]
  },
  {
   "cell_type": "code",
   "execution_count": 32,
   "metadata": {},
   "outputs": [],
   "source": [
    "X = df.iloc[:,:-2]\n",
    "y = df.target_bin\n",
    "X_train, X_test, y_train, y_test = train_test_split(X, y, train_size=0.8, stratify=y)"
   ]
  },
  {
   "cell_type": "markdown",
   "metadata": {},
   "source": [
    "Using CatBoost Classifier"
   ]
  },
  {
   "cell_type": "code",
   "execution_count": 15,
   "metadata": {},
   "outputs": [],
   "source": [
    "cb = CatBoostClassifier(\n",
    "   #iterations = 1000,\n",
    "   #custom_loss=['AUC'],\n",
    "   loss_function = 'Logloss',\n",
    "    #eval_metric = 'AUC',\n",
    "    #random_seed = 20190128,\n",
    "    #scale_pos_weight = 0.8,\n",
    "    #class_weights= (100, 1),\n",
    "    #learning_rate = 0.2,\n",
    "    #auto_class_weights = 'Balanced',\n",
    "    #depth = 10, \n",
    "    #l2_leaf_reg = 25,\n",
    "    verbose=100,\n",
    "    #ignored_features = ignored\n",
    ")"
   ]
  },
  {
   "cell_type": "code",
   "execution_count": 16,
   "metadata": {},
   "outputs": [
    {
     "data": {
      "application/vnd.jupyter.widget-view+json": {
       "model_id": "4a29308680a34c7f8a2acf9f9cf27f87",
       "version_major": 2,
       "version_minor": 0
      },
      "text/plain": [
       "MetricVisualizer(layout=Layout(align_self='stretch', height='500px'))"
      ]
     },
     "metadata": {},
     "output_type": "display_data"
    },
    {
     "name": "stdout",
     "output_type": "stream",
     "text": [
      "Learning rate set to 0.020516\n",
      "0:\tlearn: 0.6530025\ttest: 0.6551784\tbest: 0.6551784 (0)\ttotal: 423ms\tremaining: 7m 2s\n",
      "100:\tlearn: 0.0213494\ttest: 0.0216932\tbest: 0.0216932 (100)\ttotal: 24.4s\tremaining: 3m 36s\n",
      "200:\tlearn: 0.0069522\ttest: 0.0068668\tbest: 0.0068668 (200)\ttotal: 46.6s\tremaining: 3m 5s\n",
      "300:\tlearn: 0.0038627\ttest: 0.0038080\tbest: 0.0038080 (300)\ttotal: 1m 7s\tremaining: 2m 37s\n",
      "400:\tlearn: 0.0028816\ttest: 0.0028726\tbest: 0.0028726 (400)\ttotal: 1m 31s\tremaining: 2m 16s\n",
      "500:\tlearn: 0.0024833\ttest: 0.0025330\tbest: 0.0025330 (500)\ttotal: 1m 57s\tremaining: 1m 56s\n",
      "600:\tlearn: 0.0022488\ttest: 0.0023462\tbest: 0.0023462 (600)\ttotal: 2m 26s\tremaining: 1m 36s\n",
      "700:\tlearn: 0.0020601\ttest: 0.0021905\tbest: 0.0021905 (700)\ttotal: 2m 53s\tremaining: 1m 13s\n",
      "800:\tlearn: 0.0018865\ttest: 0.0020327\tbest: 0.0020327 (800)\ttotal: 3m 20s\tremaining: 49.9s\n",
      "900:\tlearn: 0.0017087\ttest: 0.0018587\tbest: 0.0018587 (900)\ttotal: 3m 44s\tremaining: 24.7s\n",
      "999:\tlearn: 0.0015589\ttest: 0.0017147\tbest: 0.0017147 (999)\ttotal: 4m 10s\tremaining: 0us\n",
      "\n",
      "bestTest = 0.001714699385\n",
      "bestIteration = 999\n",
      "\n"
     ]
    },
    {
     "data": {
      "text/plain": [
       "<catboost.core.CatBoostClassifier at 0x7ff0543a5310>"
      ]
     },
     "execution_count": 16,
     "metadata": {},
     "output_type": "execute_result"
    }
   ],
   "source": [
    "cb.fit(X_train, y_train, \n",
    "       plot = True, \n",
    "       eval_set=(X_test, y_test), \n",
    "       use_best_model = True\n",
    "      )"
   ]
  },
  {
   "cell_type": "code",
   "execution_count": 17,
   "metadata": {},
   "outputs": [],
   "source": [
    "Y_pred_df = pd.DataFrame(data = y_test)\n",
    "Y_pred_df['forecast'] = cb.predict(X_test)\n",
    "prediction = Y_pred_df[['forecast']]\n",
    "prediction.columns = ['forecast']"
   ]
  },
  {
   "cell_type": "markdown",
   "metadata": {},
   "source": [
    "Learning quality control:"
   ]
  },
  {
   "cell_type": "code",
   "execution_count": 18,
   "metadata": {},
   "outputs": [
    {
     "name": "stdout",
     "output_type": "stream",
     "text": [
      "              precision    recall  f1-score   support\n",
      "\n",
      "           0       1.00      1.00      1.00        21\n",
      "           1       1.00      1.00      1.00        22\n",
      "\n",
      "    accuracy                           1.00        43\n",
      "   macro avg       1.00      1.00      1.00        43\n",
      "weighted avg       1.00      1.00      1.00        43\n",
      "\n",
      "Confusion Matrix: \n",
      " [[21  0]\n",
      " [ 0 22]]\n",
      "Accuracy:  1.0\n",
      "Roc-auc:  1.0\n"
     ]
    }
   ],
   "source": [
    "pred = cb.predict(X_test)\n",
    "print(classification_report(y_test ,pred))\n",
    "print('Confusion Matrix: \\n',confusion_matrix(y_test,pred))\n",
    "print('Accuracy: ', accuracy_score(y_test,pred))\n",
    "print('Roc-auc: ',roc_auc_score(y_test ,pred))"
   ]
  },
  {
   "cell_type": "markdown",
   "metadata": {},
   "source": [
    "Determining the most influential wavelengths:"
   ]
  },
  {
   "cell_type": "code",
   "execution_count": 33,
   "metadata": {},
   "outputs": [
    {
     "data": {
      "image/png": "[encoded data removed]",
      "text/plain": [
       "<Figure size 3000x1500 with 1 Axes>"
      ]
     },
     "metadata": {},
     "output_type": "display_data"
    },
    {
     "data": {
      "text/plain": [
       "None"
      ]
     },
     "metadata": {},
     "output_type": "display_data"
    },
    {
     "data": {
      "text/html": [
       "<div>\n",
       "<style scoped>\n",
       "    .dataframe tbody tr th:only-of-type {\n",
       "        vertical-align: middle;\n",
       "    }\n",
       "\n",
       "    .dataframe tbody tr th {\n",
       "        vertical-align: top;\n",
       "    }\n",
       "\n",
       "    .dataframe thead th {\n",
       "        text-align: right;\n",
       "    }\n",
       "</style>\n",
       "<table border=\"1\" class=\"dataframe\">\n",
       "  <thead>\n",
       "    <tr style=\"text-align: right;\">\n",
       "      <th></th>\n",
       "      <th>Features</th>\n",
       "      <th>Gini-Importance</th>\n",
       "    </tr>\n",
       "  </thead>\n",
       "  <tbody>\n",
       "    <tr>\n",
       "      <th>0</th>\n",
       "      <td>679</td>\n",
       "      <td>5.354061</td>\n",
       "    </tr>\n",
       "    <tr>\n",
       "      <th>1</th>\n",
       "      <td>595</td>\n",
       "      <td>4.192313</td>\n",
       "    </tr>\n",
       "    <tr>\n",
       "      <th>2</th>\n",
       "      <td>721</td>\n",
       "      <td>3.516427</td>\n",
       "    </tr>\n",
       "    <tr>\n",
       "      <th>3</th>\n",
       "      <td>581</td>\n",
       "      <td>3.402705</td>\n",
       "    </tr>\n",
       "    <tr>\n",
       "      <th>4</th>\n",
       "      <td>645</td>\n",
       "      <td>3.037462</td>\n",
       "    </tr>\n",
       "    <tr>\n",
       "      <th>...</th>\n",
       "      <td>...</td>\n",
       "      <td>...</td>\n",
       "    </tr>\n",
       "    <tr>\n",
       "      <th>906</th>\n",
       "      <td>382</td>\n",
       "      <td>0.000000</td>\n",
       "    </tr>\n",
       "    <tr>\n",
       "      <th>907</th>\n",
       "      <td>41</td>\n",
       "      <td>0.000000</td>\n",
       "    </tr>\n",
       "    <tr>\n",
       "      <th>908</th>\n",
       "      <td>383</td>\n",
       "      <td>0.000000</td>\n",
       "    </tr>\n",
       "    <tr>\n",
       "      <th>909</th>\n",
       "      <td>593</td>\n",
       "      <td>0.000000</td>\n",
       "    </tr>\n",
       "    <tr>\n",
       "      <th>910</th>\n",
       "      <td>310</td>\n",
       "      <td>0.000000</td>\n",
       "    </tr>\n",
       "  </tbody>\n",
       "</table>\n",
       "<p>911 rows × 2 columns</p>\n",
       "</div>"
      ],
      "text/plain": [
       "     Features  Gini-Importance\n",
       "0         679         5.354061\n",
       "1         595         4.192313\n",
       "2         721         3.516427\n",
       "3         581         3.402705\n",
       "4         645         3.037462\n",
       "..        ...              ...\n",
       "906       382         0.000000\n",
       "907        41         0.000000\n",
       "908       383         0.000000\n",
       "909       593         0.000000\n",
       "910       310         0.000000\n",
       "\n",
       "[911 rows x 2 columns]"
      ]
     },
     "metadata": {},
     "output_type": "display_data"
    }
   ],
   "source": [
    "feats = {}\n",
    "for feature, importance in zip(X_train.columns, cb.feature_importances_):\n",
    "    feats[feature] = importance\n",
    "importances = pd.DataFrame.from_dict(feats, orient='index').rename(columns={0: 'Gini-Importance'})\n",
    "importances = importances.sort_values(by='Gini-Importance', ascending=False)\n",
    "importances = importances.reset_index()\n",
    "importances = importances.rename(columns={'index': 'Features'})\n",
    "sns.set(font_scale = 5)\n",
    "sns.set(style=\"whitegrid\", color_codes=True, font_scale = 1.7)\n",
    "fig, ax = plt.subplots()\n",
    "fig.set_size_inches(30,15)\n",
    "sns.barplot(x=importances['Gini-Importance'], y=importances['Features'], data=importances, color='skyblue')\n",
    "plt.xlabel('Importance', fontsize=25, weight = 'bold')\n",
    "plt.ylabel('Features', fontsize=25, weight = 'bold')\n",
    "plt.title('Feature Importance', fontsize=25, weight = 'bold')\n",
    "display(plt.show())\n",
    "display(importances)"
   ]
  },
  {
   "cell_type": "markdown",
   "metadata": {},
   "source": [
    "Saving the current model as a pickle file:"
   ]
  },
  {
   "cell_type": "code",
   "execution_count": 20,
   "metadata": {},
   "outputs": [],
   "source": [
    "import pickle"
   ]
  },
  {
   "cell_type": "code",
   "execution_count": 21,
   "metadata": {},
   "outputs": [],
   "source": [
    "with open('catboost_oils.pickle', 'wb') as picklefile:\n",
    "    pickle.dump(cb,picklefile)\n"
   ]
  },
  {
   "cell_type": "code",
   "execution_count": 22,
   "metadata": {},
   "outputs": [
    {
     "data": {
      "text/plain": [
       "array([1.09635265e-03, 9.98428498e-01, 1.24350034e-03, 1.12234306e-03,\n",
       "       7.82210131e-04, 1.00401217e-03, 1.13660867e-03, 9.96797750e-01,\n",
       "       1.98825904e-03, 9.98631883e-01, 4.14396442e-03, 9.97627297e-01,\n",
       "       9.21521687e-04, 2.57290697e-03, 9.98372498e-01, 9.98705189e-01,\n",
       "       2.72470540e-03, 9.96205617e-01, 9.98837283e-01, 9.98180445e-01,\n",
       "       9.92701071e-04, 4.66876831e-03, 9.98832682e-01, 9.99234459e-01,\n",
       "       9.36152220e-04, 9.97875234e-01, 9.99183585e-01, 1.53520529e-03,\n",
       "       8.08738747e-04, 9.46513110e-04, 9.99229894e-01, 9.97758759e-01,\n",
       "       9.97627297e-01, 7.80642826e-04, 9.98906229e-01, 1.01119641e-03,\n",
       "       9.97891651e-01, 2.06045232e-03, 9.55204200e-04, 9.97516951e-01,\n",
       "       9.97448556e-01, 9.99015492e-01, 9.97475262e-01])"
      ]
     },
     "execution_count": 22,
     "metadata": {},
     "output_type": "execute_result"
    }
   ],
   "source": [
    "with open('catboost_oils.pickle', 'rb') as training_model:\n",
    "    binar_classifier_1 = pickle.load(training_model)\n",
    "y_pred = binar_classifier_1.predict_proba(X_test)\n",
    "y_pred[:, 1]"
   ]
  },
  {
   "cell_type": "markdown",
   "metadata": {},
   "source": [
    "Adding PCA and PLS algorythms:"
   ]
  },
  {
   "cell_type": "code",
   "execution_count": 34,
   "metadata": {},
   "outputs": [],
   "source": [
    "from sklearn.svm import SVC\n",
    "from sklearn import  datasets, linear_model, metrics \n",
    "from sklearn.model_selection import cross_val_score\n",
    "from sklearn import model_selection\n",
    "from sklearn.model_selection import train_test_split\n",
    "from sklearn import datasets\n",
    "from sklearn import svm\n",
    "from sklearn.ensemble import RandomForestClassifier\n",
    "from sklearn.metrics import recall_score\n",
    "from sklearn.metrics import precision_recall_fscore_support\n",
    "from sklearn.metrics import classification_report\n",
    "from sklearn.cross_decomposition import PLSRegression\n",
    "from sklearn.decomposition import PCA"
   ]
  },
  {
   "cell_type": "markdown",
   "metadata": {},
   "source": [
    "PCA (principal component analysis)- an algorythm which transforms frame to a less-dimension tensor.\n",
    "\n",
    "Here we are going to extract 3-dimension data:"
   ]
  },
  {
   "cell_type": "code",
   "execution_count": 36,
   "metadata": {},
   "outputs": [],
   "source": [
    "pca_model = PCA(n_components=3)\n",
    "PCA_X_train = pca_model.fit_transform(X_train) \n",
    "PCA_X_test = pca_model.transform(X_test)"
   ]
  },
  {
   "cell_type": "markdown",
   "metadata": {},
   "source": [
    "Some visualising of the result:"
   ]
  },
  {
   "cell_type": "code",
   "execution_count": 42,
   "metadata": {},
   "outputs": [
    {
     "data": {
      "text/plain": [
       "<matplotlib.collections.PathCollection at 0x7ff02357ba00>"
      ]
     },
     "execution_count": 42,
     "metadata": {},
     "output_type": "execute_result"
    },
    {
     "data": {
      "image/png": "[encoded data removed]",
      "text/plain": [
       "<Figure size 1200x600 with 6 Axes>"
      ]
     },
     "metadata": {},
     "output_type": "display_data"
    }
   ],
   "source": [
    "fig, axes = plt.subplots(2,3,figsize=(12,6))\n",
    "\n",
    "axes[0, 0].scatter(PCA_X_train[:,0], PCA_X_train[:,1], c= y_train) #train\n",
    "axes[0, 1].scatter(PCA_X_train[:,1], PCA_X_train[:,2], c= y_train)\n",
    "axes[0, 2].scatter(PCA_X_train[:,0], PCA_X_train[:,2], c= y_train)\n",
    "\n",
    "axes[1, 0].scatter(PCA_X_test[:,0], PCA_X_test[:,1], c= y_test) #test\n",
    "axes[1, 1].scatter(PCA_X_test[:,1], PCA_X_test[:,2], c= y_test)\n",
    "axes[1, 2].scatter(PCA_X_test[:,0], PCA_X_test[:,2], c= y_test)"
   ]
  },
  {
   "cell_type": "code",
   "execution_count": 45,
   "metadata": {},
   "outputs": [
    {
     "data": {
      "application/vnd.plotly.v1+json": {
       "config": {
        "plotlyServerURL": "https://plot.ly"
       },
       "data": [
        {
         "hovertemplate": "x=%{x}<br>y=%{y}<br>z=%{z}<br>color=%{marker.color}<extra></extra>",
         "legendgroup": "",
         "marker": {
          "color": [
           1,
           0,
           0,
           0,
           0,
           0,
           1,
           0,
           1,
           0,
           1,
           1,
           0,
           1,
           1,
           1,
           0,
           0,
           1,
           0,
           1,
           1,
           0,
           1,
           1,
           0,
           1,
           1,
           1,
           0,
           0,
           1,
           0,
           1,
           1,
           1,
           0,
           1,
           0,
           1,
           1,
           1,
           0,
           1,
           1,
           1,
           1,
           1,
           0,
           1,
           1,
           1,
           0,
           0,
           1,
           0,
           0,
           0,
           0,
           0,
           1,
           1,
           1,
           1,
           1,
           1,
           1,
           1,
           0,
           1,
           1,
           1,
           1,
           1,
           0,
           0,
           0,
           0,
           1,
           1,
           1,
           1,
           0,
           0,
           1,
           1,
           1,
           0,
           0,
           1,
           0,
           0,
           0,
           0,
           1,
           1,
           0,
           1,
           0,
           0,
           1,
           0,
           1,
           1,
           0,
           0,
           0,
           0,
           1,
           0,
           0,
           0,
           0,
           0,
           0,
           0,
           1,
           0,
           0,
           1,
           1,
           0,
           0,
           1,
           0,
           0,
           0,
           1,
           1,
           0,
           0,
           1,
           0,
           1,
           0,
           1,
           1,
           0,
           0,
           1,
           0,
           1,
           1,
           0,
           0,
           1,
           0,
           0,
           0,
           1,
           0,
           1,
           0,
           0,
           1,
           1,
           1,
           0,
           0,
           1,
           1,
           0,
           0,
           1,
           0,
           1,
           1,
           0,
           1,
           1,
           0,
           0
          ],
          "coloraxis": "coloraxis",
          "symbol": "circle"
         },
         "mode": "markers",
         "name": "",
         "scene": "scene",
         "showlegend": false,
         "type": "scatter3d",
         "x": [
          90.92941731455814,
          -435.37103972707973,
          -139.98489255193002,
          -135.58998126977633,
          -137.3817188325389,
          -437.7740758454518,
          -90.06953537085339,
          -130.87777735065535,
          134.1063284792987,
          -156.76184034719006,
          95.24410389160444,
          93.43642845754734,
          -128.0248593169582,
          46.8355650759666,
          94.19245596822009,
          92.85529856048139,
          -437.21490120365223,
          -93.36765595413176,
          91.95599701341922,
          -127.73795429395886,
          133.03105598603068,
          86.28882941096202,
          -135.49882468264718,
          46.624213290464304,
          -87.68419673303798,
          -155.4855553432799,
          130.81746085761247,
          131.5065702181783,
          130.7823538832725,
          -138.95148671846408,
          -139.5321483943642,
          87.35818438534396,
          -156.0285256012198,
          43.64247537127794,
          87.47804543023122,
          1345.4495210651712,
          -153.51883981106332,
          128.94320703491067,
          -436.51401956661806,
          1345.4495210651712,
          43.5247239891835,
          43.38430327531035,
          -437.1573904797691,
          93.77602601808752,
          94.39193519496578,
          134.07748936315056,
          46.16003868958061,
          91.01308030926403,
          -131.6552328728598,
          41.91560118227948,
          91.01812055995674,
          92.97074690196438,
          -435.6276416173087,
          -138.8558830949197,
          46.750026424319586,
          -89.82098878889634,
          -93.65349290223415,
          -156.92323298133587,
          -94.12832597426933,
          908.0731415363399,
          46.127176397635,
          -87.1672306065709,
          128.73066858903232,
          1345.4495210651712,
          94.82271105677012,
          -88.52322077945345,
          -87.05735232752946,
          133.45476877075424,
          -140.67806477693702,
          1345.4495210651712,
          93.99685924063189,
          92.27882795263744,
          130.91281195361532,
          93.63271371929132,
          -435.64059307773425,
          -156.35180401479172,
          -435.4089818136423,
          -157.61018753075297,
          -87.62703503908355,
          94.4218236208729,
          93.52405703853901,
          44.10275653431069,
          -141.5401756765894,
          -91.3484620173548,
          89.39728099958003,
          43.14130202866315,
          133.5433153105288,
          -128.25973084009226,
          -158.36266254462194,
          -88.07000699493213,
          -126.27904252465338,
          -138.27758005594674,
          -92.44851826047989,
          -92.97315462591197,
          93.55517360487033,
          -87.3380405685893,
          -91.89346825089096,
          92.24625278888838,
          -136.6187325037741,
          -438.4848361324006,
          133.4989846702726,
          -156.8932189480511,
          82.6523951502634,
          129.07481605885377,
          -150.9396229363303,
          -130.5478235859806,
          -126.35765806868906,
          -140.5791028295465,
          91.16053824517415,
          -437.1482622517898,
          -438.16880009599015,
          -127.49507486841588,
          -154.71458432431612,
          -155.1466516206713,
          -90.8400217715443,
          -441.6050978877568,
          92.37621596484527,
          -436.2432134104924,
          -434.2485357227058,
          92.57121576981878,
          1345.4495210651712,
          -93.84971505843963,
          -435.8612151926413,
          46.06570810761169,
          -126.88611463796836,
          -92.97134276924878,
          -127.59244849292071,
          128.97912120718274,
          88.77823127100575,
          -93.87444684258983,
          -93.95004486196963,
          134.10329676220837,
          -91.19568465705572,
          133.8166165078719,
          -90.70619228426888,
          43.34094794976581,
          91.93539457815254,
          -126.28703925033801,
          -91.29537910291155,
          130.43026214634517,
          -141.62352140001394,
          -89.51653936522786,
          1345.4495210651712,
          -131.3925568244505,
          -128.556029440695,
          126.38807834014462,
          -92.12933799193728,
          -138.51437184278518,
          -93.64135400496853,
          45.74405132052266,
          -152.55964467589598,
          -95.75711702712793,
          -129.69363229990591,
          -437.7348590187229,
          1345.4495210651712,
          1345.4495210651712,
          94.44077742580181,
          -157.0776522798435,
          -137.06403965468346,
          89.3584293424404,
          -103.35541971145699,
          -439.8064083353757,
          -150.9335004286905,
          44.48366835868562,
          -435.92419968763284,
          44.151474836082414,
          46.50194662708129,
          -437.10862423396475,
          88.16092372263557,
          93.61300994027528,
          -436.9307602912838,
          -92.32623792832332
         ],
         "y": [
          -206.89059604223334,
          513.5582182378674,
          -5.033244307854328,
          -13.106342095990724,
          -9.667736788788368,
          519.6980443398612,
          85.60925521402878,
          -20.145872360242784,
          -279.10741881356756,
          24.648407742251475,
          -213.7469852761733,
          -210.65426899146766,
          -25.660179564890022,
          -132.43173139212706,
          -211.98801689663387,
          -209.5889212259251,
          517.4721908911633,
          -85.84006489416153,
          -208.3347676912949,
          -24.689334822246714,
          -277.31533224109836,
          -198.6954815181855,
          -13.207507780928772,
          -132.691886427238,
          82.00090571214348,
          22.21424910415143,
          -273.97031186316826,
          -275.16186189174704,
          -273.9085773328825,
          -7.472375164473058,
          -7.0030912443147,
          -200.9523202541812,
          23.09441398222979,
          -127.89733505905039,
          -201.19382675142108,
          486.5864980268557,
          18.44719519490437,
          -271.1150357518232,
          515.0727038937338,
          486.5864980268557,
          -128.02446787842982,
          -127.80805728671588,
          516.2268117339142,
          -211.28975649443768,
          -211.82174699914114,
          -278.989157582281,
          -132.14963122719647,
          -206.8733938758657,
          -19.23730718851958,
          -124.29568895737367,
          -207.2608016929346,
          -209.90357007363818,
          514.603674125172,
          -7.185340356779863,
          -133.18607310411613,
          -90.49332119105925,
          -82.64974455732255,
          24.948489166796165,
          -83.42065726334557,
          639.7691196075707,
          -131.12491859625842,
          81.72864231552028,
          -270.8763618046905,
          486.5864980268557,
          -212.7216669812978,
          82.93717366457079,
          81.86767174906628,
          -278.1672902198381,
          -3.793856501715713,
          486.5864980268557,
          -211.41717878875136,
          -208.78945730800248,
          -274.226832370486,
          -211.15510368994458,
          514.4636991103417,
          23.906076928087465,
          513.7703027738496,
          26.22537670258139,
          82.32988264476799,
          -212.29722220749483,
          -210.48028294377823,
          -128.85482265402226,
          -2.492935235307371,
          -87.9498936858915,
          -205.08736129072537,
          -127.45415869128578,
          -278.4553113423905,
          -25.364573683926523,
          27.19835428977784,
          83.43258551194107,
          -28.028674988376107,
          -8.190433558809984,
          -86.55917465455943,
          -86.04439533385975,
          -210.91003229657832,
          81.35963424522507,
          -86.23646849196214,
          -209.46748831006727,
          -11.071656295080995,
          519.1970640773976,
          -278.2941054935198,
          24.67292999652247,
          -191.38065185311922,
          -271.37925916436285,
          14.559103439970222,
          -21.123748384748993,
          -27.953178490967154,
          -4.44165572861877,
          -207.2278587091064,
          516.9635212772668,
          518.9377279011095,
          -25.96670944408437,
          21.16833172173959,
          21.5539040418845,
          -88.49596950813273,
          526.0846552814984,
          -209.18826953032257,
          515.5293474819525,
          511.7885317479445,
          -209.10607927960916,
          486.5864980268557,
          -84.8219182250819,
          514.935026854897,
          -131.78880304896794,
          -27.174213644666192,
          -86.24496281431011,
          -25.912286289593435,
          -271.2373242280614,
          -203.2707858990955,
          -84.84087304295835,
          -84.19599866997437,
          -278.95505277981954,
          -89.1964252866695,
          -278.7247986224164,
          -89.82663787060712,
          -127.8623785013303,
          -208.7210134157162,
          -27.92238037946327,
          -89.42052872933218,
          -273.2428803233401,
          -2.0956465841599505,
          84.69303955890034,
          486.5864980268557,
          -19.488119278744264,
          -24.14170347241876,
          -267.870595351249,
          -87.29928775794336,
          -7.988402725455069,
          -84.6317232351747,
          -131.44679513902724,
          17.144962803100082,
          95.98262980242765,
          -22.392386543473958,
          517.4669321066333,
          486.5864980268557,
          486.5864980268557,
          -212.1387712733392,
          25.13899232664115,
          -10.028076098161419,
          -204.62103228295086,
          103.80730845544545,
          521.5145291563026,
          14.764393414137393,
          -129.53768441615316,
          514.8988073319339,
          -129.1412272526056,
          -132.28401143378537,
          516.3004398201982,
          -201.67958194514313,
          -211.14357081999916,
          516.1902359783837,
          -87.44542260649877
         ],
         "z": [
          76.00891786910388,
          73.24486819970092,
          -116.19929077163549,
          -119.5337330581819,
          -119.03384669446793,
          75.97686446289856,
          152.79271304936614,
          -118.42030216482546,
          45.91626991723713,
          -106.29834949820736,
          74.34213448972449,
          75.29527495080583,
          -121.6695433791445,
          101.06554403187519,
          74.43429404657093,
          75.81430884934703,
          73.26107104017733,
          -140.08448743847217,
          76.29368950353921,
          -120.20215042718664,
          46.650478210765094,
          77.93773257355592,
          -120.38323856001254,
          101.10691442114822,
          154.1959180741228,
          -107.99587512953896,
          47.4542196776817,
          47.83856279244105,
          47.852812182857264,
          -119.23024048731057,
          -114.95984355767067,
          76.87607147662806,
          -108.00203661693149,
          103.02765151532067,
          77.4576308910771,
          -58.24129465014878,
          -109.40961516334318,
          48.73627062086263,
          73.67724222453207,
          -58.24129465014878,
          102.32804090995222,
          103.12907652394084,
          73.95588360479256,
          75.46160603621226,
          75.60584885454901,
          46.009108214643504,
          100.09999302628303,
          76.3272745031535,
          -118.39001791055968,
          102.7246095673452,
          75.37888865582495,
          74.55246666336011,
          73.08678752174976,
          -118.4478703639803,
          100.91645498905592,
          -142.71011650606332,
          -140.14833071654797,
          -105.9458932999264,
          -141.01590660249025,
          44.592871734902275,
          101.58811570697969,
          154.25531656307012,
          48.55889387800108,
          -58.24129465014878,
          74.13368752212608,
          152.99316085389086,
          155.20532391529557,
          47.19105718563247,
          -117.96434965774333,
          -58.24129465014878,
          75.36747138186486,
          75.81009492726466,
          47.92011611409697,
          74.42801177536646,
          73.7647200264304,
          -108.01746676444644,
          75.12834674846047,
          -107.31563794309888,
          154.57461503241575,
          74.91158914570163,
          74.60661426994145,
          101.86404642254736,
          -115.82219551130257,
          -143.8531679986538,
          73.26665219579375,
          102.29545692000383,
          45.78087938939063,
          -120.67929774687289,
          -105.69435493721146,
          153.12719168035412,
          -121.99869238589865,
          -118.12564417346954,
          -140.75243578065474,
          -140.76868881007866,
          74.91987337550628,
          153.3533339798745,
          -140.47849135218354,
          73.1233434491172,
          -119.61927431552579,
          75.64178523004782,
          46.18905749445994,
          -106.78914702144563,
          83.03457200529479,
          48.87904948042551,
          -110.72119510858177,
          -118.00720450303562,
          -121.13090721210591,
          -117.57009195927016,
          74.7747010637828,
          75.82595165253622,
          75.68688178787902,
          -121.56891276752373,
          -106.8204483246989,
          -107.94936551540013,
          -142.8600775773232,
          77.91984214547168,
          75.61314845039485,
          75.63850392943759,
          73.96266284553721,
          76.07209672993913,
          -58.24129465014878,
          -139.30067508697536,
          73.83243301818932,
          102.33838762993805,
          -120.94256941115106,
          -141.17366038602933,
          -122.15317367328814,
          49.07721441292822,
          77.69679612122829,
          -140.22675670353104,
          -141.54033436981007,
          46.13780714105224,
          -141.8855101389796,
          46.49582028816973,
          -143.33599107109293,
          101.5146415615843,
          75.20580516648249,
          -122.55247315707173,
          -144.17621013728476,
          50.138069789534256,
          -118.85466730062537,
          154.960270744941,
          -58.24129465014878,
          -118.78698508429974,
          -120.12184411378442,
          49.30437652730446,
          -141.87831956788884,
          -118.0420545628898,
          -141.331550731897,
          100.90920596184836,
          -109.48707542958051,
          157.91464997986438,
          -119.06265619599252,
          74.67908226838762,
          -58.24129465014878,
          -58.24129465014878,
          74.73958660687151,
          -107.83162600559918,
          -118.97637126683033,
          77.30416222669965,
          178.02979580282184,
          79.53437600042268,
          -111.1422346104646,
          101.51277730407652,
          73.13311677099405,
          101.79583104969085,
          101.3678071743945,
          75.66098535350318,
          79.68683445413664,
          75.33507743559434,
          75.5759814436908,
          -141.39259146651293
         ]
        }
       ],
       "layout": {
        "coloraxis": {
         "colorbar": {
          "title": {
           "text": "color"
          }
         },
         "colorscale": [
          [
           0,
           "#0d0887"
          ],
          [
           0.1111111111111111,
           "#46039f"
          ],
          [
           0.2222222222222222,
           "#7201a8"
          ],
          [
           0.3333333333333333,
           "#9c179e"
          ],
          [
           0.4444444444444444,
           "#bd3786"
          ],
          [
           0.5555555555555556,
           "#d8576b"
          ],
          [
           0.6666666666666666,
           "#ed7953"
          ],
          [
           0.7777777777777778,
           "#fb9f3a"
          ],
          [
           0.8888888888888888,
           "#fdca26"
          ],
          [
           1,
           "#f0f921"
          ]
         ]
        },
        "legend": {
         "tracegroupgap": 0
        },
        "margin": {
         "t": 60
        },
        "scene": {
         "domain": {
          "x": [
           0,
           1
          ],
          "y": [
           0,
           1
          ]
         },
         "xaxis": {
          "title": {
           "text": "x"
          }
         },
         "yaxis": {
          "title": {
           "text": "y"
          }
         },
         "zaxis": {
          "title": {
           "text": "z"
          }
         }
        },
        "template": {
         "data": {
          "bar": [
           {
            "error_x": {
             "color": "#2a3f5f"
            },
            "error_y": {
             "color": "#2a3f5f"
            },
            "marker": {
             "line": {
              "color": "#E5ECF6",
              "width": 0.5
             },
             "pattern": {
              "fillmode": "overlay",
              "size": 10,
              "solidity": 0.2
             }
            },
            "type": "bar"
           }
          ],
          "barpolar": [
           {
            "marker": {
             "line": {
              "color": "#E5ECF6",
              "width": 0.5
             },
             "pattern": {
              "fillmode": "overlay",
              "size": 10,
              "solidity": 0.2
             }
            },
            "type": "barpolar"
           }
          ],
          "carpet": [
           {
            "aaxis": {
             "endlinecolor": "#2a3f5f",
             "gridcolor": "white",
             "linecolor": "white",
             "minorgridcolor": "white",
             "startlinecolor": "#2a3f5f"
            },
            "baxis": {
             "endlinecolor": "#2a3f5f",
             "gridcolor": "white",
             "linecolor": "white",
             "minorgridcolor": "white",
             "startlinecolor": "#2a3f5f"
            },
            "type": "carpet"
           }
          ],
          "choropleth": [
           {
            "colorbar": {
             "outlinewidth": 0,
             "ticks": ""
            },
            "type": "choropleth"
           }
          ],
          "contour": [
           {
            "colorbar": {
             "outlinewidth": 0,
             "ticks": ""
            },
            "colorscale": [
             [
              0,
              "#0d0887"
             ],
             [
              0.1111111111111111,
              "#46039f"
             ],
             [
              0.2222222222222222,
              "#7201a8"
             ],
             [
              0.3333333333333333,
              "#9c179e"
             ],
             [
              0.4444444444444444,
              "#bd3786"
             ],
             [
              0.5555555555555556,
              "#d8576b"
             ],
             [
              0.6666666666666666,
              "#ed7953"
             ],
             [
              0.7777777777777778,
              "#fb9f3a"
             ],
             [
              0.8888888888888888,
              "#fdca26"
             ],
             [
              1,
              "#f0f921"
             ]
            ],
            "type": "contour"
           }
          ],
          "contourcarpet": [
           {
            "colorbar": {
             "outlinewidth": 0,
             "ticks": ""
            },
            "type": "contourcarpet"
           }
          ],
          "heatmap": [
           {
            "colorbar": {
             "outlinewidth": 0,
             "ticks": ""
            },
            "colorscale": [
             [
              0,
              "#0d0887"
             ],
             [
              0.1111111111111111,
              "#46039f"
             ],
             [
              0.2222222222222222,
              "#7201a8"
             ],
             [
              0.3333333333333333,
              "#9c179e"
             ],
             [
              0.4444444444444444,
              "#bd3786"
             ],
             [
              0.5555555555555556,
              "#d8576b"
             ],
             [
              0.6666666666666666,
              "#ed7953"
             ],
             [
              0.7777777777777778,
              "#fb9f3a"
             ],
             [
              0.8888888888888888,
              "#fdca26"
             ],
             [
              1,
              "#f0f921"
             ]
            ],
            "type": "heatmap"
           }
          ],
          "heatmapgl": [
           {
            "colorbar": {
             "outlinewidth": 0,
             "ticks": ""
            },
            "colorscale": [
             [
              0,
              "#0d0887"
             ],
             [
              0.1111111111111111,
              "#46039f"
             ],
             [
              0.2222222222222222,
              "#7201a8"
             ],
             [
              0.3333333333333333,
              "#9c179e"
             ],
             [
              0.4444444444444444,
              "#bd3786"
             ],
             [
              0.5555555555555556,
              "#d8576b"
             ],
             [
              0.6666666666666666,
              "#ed7953"
             ],
             [
              0.7777777777777778,
              "#fb9f3a"
             ],
             [
              0.8888888888888888,
              "#fdca26"
             ],
             [
              1,
              "#f0f921"
             ]
            ],
            "type": "heatmapgl"
           }
          ],
          "histogram": [
           {
            "marker": {
             "pattern": {
              "fillmode": "overlay",
              "size": 10,
              "solidity": 0.2
             }
            },
            "type": "histogram"
           }
          ],
          "histogram2d": [
           {
            "colorbar": {
             "outlinewidth": 0,
             "ticks": ""
            },
            "colorscale": [
             [
              0,
              "#0d0887"
             ],
             [
              0.1111111111111111,
              "#46039f"
             ],
             [
              0.2222222222222222,
              "#7201a8"
             ],
             [
              0.3333333333333333,
              "#9c179e"
             ],
             [
              0.4444444444444444,
              "#bd3786"
             ],
             [
              0.5555555555555556,
              "#d8576b"
             ],
             [
              0.6666666666666666,
              "#ed7953"
             ],
             [
              0.7777777777777778,
              "#fb9f3a"
             ],
             [
              0.8888888888888888,
              "#fdca26"
             ],
             [
              1,
              "#f0f921"
             ]
            ],
            "type": "histogram2d"
           }
          ],
          "histogram2dcontour": [
           {
            "colorbar": {
             "outlinewidth": 0,
             "ticks": ""
            },
            "colorscale": [
             [
              0,
              "#0d0887"
             ],
             [
              0.1111111111111111,
              "#46039f"
             ],
             [
              0.2222222222222222,
              "#7201a8"
             ],
             [
              0.3333333333333333,
              "#9c179e"
             ],
             [
              0.4444444444444444,
              "#bd3786"
             ],
             [
              0.5555555555555556,
              "#d8576b"
             ],
             [
              0.6666666666666666,
              "#ed7953"
             ],
             [
              0.7777777777777778,
              "#fb9f3a"
             ],
             [
              0.8888888888888888,
              "#fdca26"
             ],
             [
              1,
              "#f0f921"
             ]
            ],
            "type": "histogram2dcontour"
           }
          ],
          "mesh3d": [
           {
            "colorbar": {
             "outlinewidth": 0,
             "ticks": ""
            },
            "type": "mesh3d"
           }
          ],
          "parcoords": [
           {
            "line": {
             "colorbar": {
              "outlinewidth": 0,
              "ticks": ""
             }
            },
            "type": "parcoords"
           }
          ],
          "pie": [
           {
            "automargin": true,
            "type": "pie"
           }
          ],
          "scatter": [
           {
            "fillpattern": {
             "fillmode": "overlay",
             "size": 10,
             "solidity": 0.2
            },
            "type": "scatter"
           }
          ],
          "scatter3d": [
           {
            "line": {
             "colorbar": {
              "outlinewidth": 0,
              "ticks": ""
             }
            },
            "marker": {
             "colorbar": {
              "outlinewidth": 0,
              "ticks": ""
             }
            },
            "type": "scatter3d"
           }
          ],
          "scattercarpet": [
           {
            "marker": {
             "colorbar": {
              "outlinewidth": 0,
              "ticks": ""
             }
            },
            "type": "scattercarpet"
           }
          ],
          "scattergeo": [
           {
            "marker": {
             "colorbar": {
              "outlinewidth": 0,
              "ticks": ""
             }
            },
            "type": "scattergeo"
           }
          ],
          "scattergl": [
           {
            "marker": {
             "colorbar": {
              "outlinewidth": 0,
              "ticks": ""
             }
            },
            "type": "scattergl"
           }
          ],
          "scattermapbox": [
           {
            "marker": {
             "colorbar": {
              "outlinewidth": 0,
              "ticks": ""
             }
            },
            "type": "scattermapbox"
           }
          ],
          "scatterpolar": [
           {
            "marker": {
             "colorbar": {
              "outlinewidth": 0,
              "ticks": ""
             }
            },
            "type": "scatterpolar"
           }
          ],
          "scatterpolargl": [
           {
            "marker": {
             "colorbar": {
              "outlinewidth": 0,
              "ticks": ""
             }
            },
            "type": "scatterpolargl"
           }
          ],
          "scatterternary": [
           {
            "marker": {
             "colorbar": {
              "outlinewidth": 0,
              "ticks": ""
             }
            },
            "type": "scatterternary"
           }
          ],
          "surface": [
           {
            "colorbar": {
             "outlinewidth": 0,
             "ticks": ""
            },
            "colorscale": [
             [
              0,
              "#0d0887"
             ],
             [
              0.1111111111111111,
              "#46039f"
             ],
             [
              0.2222222222222222,
              "#7201a8"
             ],
             [
              0.3333333333333333,
              "#9c179e"
             ],
             [
              0.4444444444444444,
              "#bd3786"
             ],
             [
              0.5555555555555556,
              "#d8576b"
             ],
             [
              0.6666666666666666,
              "#ed7953"
             ],
             [
              0.7777777777777778,
              "#fb9f3a"
             ],
             [
              0.8888888888888888,
              "#fdca26"
             ],
             [
              1,
              "#f0f921"
             ]
            ],
            "type": "surface"
           }
          ],
          "table": [
           {
            "cells": {
             "fill": {
              "color": "#EBF0F8"
             },
             "line": {
              "color": "white"
             }
            },
            "header": {
             "fill": {
              "color": "#C8D4E3"
             },
             "line": {
              "color": "white"
             }
            },
            "type": "table"
           }
          ]
         },
         "layout": {
          "annotationdefaults": {
           "arrowcolor": "#2a3f5f",
           "arrowhead": 0,
           "arrowwidth": 1
          },
          "autotypenumbers": "strict",
          "coloraxis": {
           "colorbar": {
            "outlinewidth": 0,
            "ticks": ""
           }
          },
          "colorscale": {
           "diverging": [
            [
             0,
             "#8e0152"
            ],
            [
             0.1,
             "#c51b7d"
            ],
            [
             0.2,
             "#de77ae"
            ],
            [
             0.3,
             "#f1b6da"
            ],
            [
             0.4,
             "#fde0ef"
            ],
            [
             0.5,
             "#f7f7f7"
            ],
            [
             0.6,
             "#e6f5d0"
            ],
            [
             0.7,
             "#b8e186"
            ],
            [
             0.8,
             "#7fbc41"
            ],
            [
             0.9,
             "#4d9221"
            ],
            [
             1,
             "#276419"
            ]
           ],
           "sequential": [
            [
             0,
             "#0d0887"
            ],
            [
             0.1111111111111111,
             "#46039f"
            ],
            [
             0.2222222222222222,
             "#7201a8"
            ],
            [
             0.3333333333333333,
             "#9c179e"
            ],
            [
             0.4444444444444444,
             "#bd3786"
            ],
            [
             0.5555555555555556,
             "#d8576b"
            ],
            [
             0.6666666666666666,
             "#ed7953"
            ],
            [
             0.7777777777777778,
             "#fb9f3a"
            ],
            [
             0.8888888888888888,
             "#fdca26"
            ],
            [
             1,
             "#f0f921"
            ]
           ],
           "sequentialminus": [
            [
             0,
             "#0d0887"
            ],
            [
             0.1111111111111111,
             "#46039f"
            ],
            [
             0.2222222222222222,
             "#7201a8"
            ],
            [
             0.3333333333333333,
             "#9c179e"
            ],
            [
             0.4444444444444444,
             "#bd3786"
            ],
            [
             0.5555555555555556,
             "#d8576b"
            ],
            [
             0.6666666666666666,
             "#ed7953"
            ],
            [
             0.7777777777777778,
             "#fb9f3a"
            ],
            [
             0.8888888888888888,
             "#fdca26"
            ],
            [
             1,
             "#f0f921"
            ]
           ]
          },
          "colorway": [
           "#636efa",
           "#EF553B",
           "#00cc96",
           "#ab63fa",
           "#FFA15A",
           "#19d3f3",
           "#FF6692",
           "#B6E880",
           "#FF97FF",
           "#FECB52"
          ],
          "font": {
           "color": "#2a3f5f"
          },
          "geo": {
           "bgcolor": "white",
           "lakecolor": "white",
           "landcolor": "#E5ECF6",
           "showlakes": true,
           "showland": true,
           "subunitcolor": "white"
          },
          "hoverlabel": {
           "align": "left"
          },
          "hovermode": "closest",
          "mapbox": {
           "style": "light"
          },
          "paper_bgcolor": "white",
          "plot_bgcolor": "#E5ECF6",
          "polar": {
           "angularaxis": {
            "gridcolor": "white",
            "linecolor": "white",
            "ticks": ""
           },
           "bgcolor": "#E5ECF6",
           "radialaxis": {
            "gridcolor": "white",
            "linecolor": "white",
            "ticks": ""
           }
          },
          "scene": {
           "xaxis": {
            "backgroundcolor": "#E5ECF6",
            "gridcolor": "white",
            "gridwidth": 2,
            "linecolor": "white",
            "showbackground": true,
            "ticks": "",
            "zerolinecolor": "white"
           },
           "yaxis": {
            "backgroundcolor": "#E5ECF6",
            "gridcolor": "white",
            "gridwidth": 2,
            "linecolor": "white",
            "showbackground": true,
            "ticks": "",
            "zerolinecolor": "white"
           },
           "zaxis": {
            "backgroundcolor": "#E5ECF6",
            "gridcolor": "white",
            "gridwidth": 2,
            "linecolor": "white",
            "showbackground": true,
            "ticks": "",
            "zerolinecolor": "white"
           }
          },
          "shapedefaults": {
           "line": {
            "color": "#2a3f5f"
           }
          },
          "ternary": {
           "aaxis": {
            "gridcolor": "white",
            "linecolor": "white",
            "ticks": ""
           },
           "baxis": {
            "gridcolor": "white",
            "linecolor": "white",
            "ticks": ""
           },
           "bgcolor": "#E5ECF6",
           "caxis": {
            "gridcolor": "white",
            "linecolor": "white",
            "ticks": ""
           }
          },
          "title": {
           "x": 0.05
          },
          "xaxis": {
           "automargin": true,
           "gridcolor": "white",
           "linecolor": "white",
           "ticks": "",
           "title": {
            "standoff": 15
           },
           "zerolinecolor": "white",
           "zerolinewidth": 2
          },
          "yaxis": {
           "automargin": true,
           "gridcolor": "white",
           "linecolor": "white",
           "ticks": "",
           "title": {
            "standoff": 15
           },
           "zerolinecolor": "white",
           "zerolinewidth": 2
          }
         }
        }
       }
      }
     },
     "metadata": {},
     "output_type": "display_data"
    },
    {
     "data": {
      "application/vnd.plotly.v1+json": {
       "config": {
        "plotlyServerURL": "https://plot.ly"
       },
       "data": [
        {
         "hovertemplate": "x=%{x}<br>y=%{y}<br>z=%{z}<br>color=%{marker.color}<extra></extra>",
         "legendgroup": "",
         "marker": {
          "color": [
           0,
           1,
           0,
           1,
           0,
           1,
           1,
           1,
           0,
           0,
           1,
           1,
           1,
           0,
           0,
           1,
           0,
           1,
           1,
           1,
           0,
           0,
           0,
           0,
           0,
           1,
           1,
           0,
           0,
           1,
           1,
           1,
           1,
           1,
           1,
           0,
           0,
           1,
           0,
           0,
           1,
           0,
           0
          ],
          "coloraxis": "coloraxis",
          "symbol": "circle"
         },
         "mode": "markers",
         "name": "",
         "scene": "scene",
         "showlegend": false,
         "type": "scatter3d",
         "x": [
          -128.46869353819662,
          89.78953637921305,
          -130.635547832339,
          93.91381373519813,
          -439.61911025660845,
          -88.94593038325802,
          -90.5576874348902,
          91.10028704670806,
          -127.29587223014002,
          -154.68667194714155,
          -88.70191095982995,
          -88.41470837263256,
          130.35211384744233,
          -140.75407822227007,
          -436.5406165739249,
          1345.4495210651703,
          -139.40105342301194,
          43.67555147023997,
          44.28471000060779,
          -88.1782492281491,
          -150.11797087518067,
          -149.31069707187584,
          -151.35393493736942,
          -93.28048233347036,
          -438.17996601635144,
          -87.76412051273297,
          -87.99327929021706,
          -92.35755645429917,
          -135.96492021330812,
          90.29456179087137,
          88.31020827082602,
          90.39957387836219,
          134.17090679376338,
          -86.57001557602635,
          46.59767852655381,
          -437.0933379638192,
          -150.33419410023367,
          -88.04006773126702,
          -92.89304137598629,
          -137.65099635083146,
          93.16947765109953,
          -436.71529827849645,
          -138.48226217086886
         ],
         "y": [
          -24.950886502704137,
          -204.84752716243844,
          -21.097567007685214,
          -211.34716839985242,
          522.1546567922704,
          84.024996417446,
          86.02842800719844,
          -206.92625004689714,
          -26.939422243475374,
          20.791178172979283,
          84.30867617643787,
          83.01895767262064,
          -273.30087936424223,
          -3.9257609483980893,
          515.641947811565,
          486.58649802685534,
          -5.939060895525785,
          -128.1964087907958,
          -129.23154280992358,
          82.80121732700584,
          12.821765341790925,
          11.784931126019242,
          15.576853137509769,
          -85.82880767099155,
          518.290961975353,
          82.31275486712924,
          82.41640466133828,
          -87.12547158605854,
          -12.273189729949621,
          -205.49539233134942,
          -202.5719861807678,
          -206.72245794504101,
          -279.076817719859,
          80.69531413984674,
          -132.36188202045037,
          516.851090467129,
          13.995287343632747,
          82.46990417337321,
          -86.4671047273815,
          -9.147249030739921,
          -210.22183034986693,
          515.9648432237436,
          -7.991175979608251
         ],
         "z": [
          -120.33970183156121,
          76.7378704235358,
          -120.273608076377,
          75.9486394948626,
          74.65351534470611,
          153.78985200620141,
          156.38447944332086,
          77.51743258082222,
          -121.76675925653905,
          -109.6696109225523,
          156.09869203117572,
          153.26600028406963,
          47.675367664926576,
          -118.24530334558335,
          74.45893887279233,
          -58.24129465014846,
          -116.15151891271105,
          102.19028355569516,
          102.10509230421286,
          154.09570232315656,
          -110.3795621668241,
          -110.26197862985578,
          -109.97717760976306,
          -140.31822013733958,
          74.98813077722967,
          154.91167424109562,
          153.92544016619735,
          -140.67533702900536,
          -119.64661556563368,
          76.53731422921827,
          77.26871521563206,
          74.89827108881701,
          45.79987841004257,
          154.8172265746416,
          101.0729071620344,
          74.75451092495558,
          -110.66620037805667,
          153.63985318716738,
          -140.68691770356952,
          -119.12479418330051,
          75.48371451154006,
          74.63488770956462,
          -119.44410465502318
         ]
        }
       ],
       "layout": {
        "coloraxis": {
         "colorbar": {
          "title": {
           "text": "color"
          }
         },
         "colorscale": [
          [
           0,
           "#0d0887"
          ],
          [
           0.1111111111111111,
           "#46039f"
          ],
          [
           0.2222222222222222,
           "#7201a8"
          ],
          [
           0.3333333333333333,
           "#9c179e"
          ],
          [
           0.4444444444444444,
           "#bd3786"
          ],
          [
           0.5555555555555556,
           "#d8576b"
          ],
          [
           0.6666666666666666,
           "#ed7953"
          ],
          [
           0.7777777777777778,
           "#fb9f3a"
          ],
          [
           0.8888888888888888,
           "#fdca26"
          ],
          [
           1,
           "#f0f921"
          ]
         ]
        },
        "legend": {
         "tracegroupgap": 0
        },
        "margin": {
         "t": 60
        },
        "scene": {
         "domain": {
          "x": [
           0,
           1
          ],
          "y": [
           0,
           1
          ]
         },
         "xaxis": {
          "title": {
           "text": "x"
          }
         },
         "yaxis": {
          "title": {
           "text": "y"
          }
         },
         "zaxis": {
          "title": {
           "text": "z"
          }
         }
        },
        "template": {
         "data": {
          "bar": [
           {
            "error_x": {
             "color": "#2a3f5f"
            },
            "error_y": {
             "color": "#2a3f5f"
            },
            "marker": {
             "line": {
              "color": "#E5ECF6",
              "width": 0.5
             },
             "pattern": {
              "fillmode": "overlay",
              "size": 10,
              "solidity": 0.2
             }
            },
            "type": "bar"
           }
          ],
          "barpolar": [
           {
            "marker": {
             "line": {
              "color": "#E5ECF6",
              "width": 0.5
             },
             "pattern": {
              "fillmode": "overlay",
              "size": 10,
              "solidity": 0.2
             }
            },
            "type": "barpolar"
           }
          ],
          "carpet": [
           {
            "aaxis": {
             "endlinecolor": "#2a3f5f",
             "gridcolor": "white",
             "linecolor": "white",
             "minorgridcolor": "white",
             "startlinecolor": "#2a3f5f"
            },
            "baxis": {
             "endlinecolor": "#2a3f5f",
             "gridcolor": "white",
             "linecolor": "white",
             "minorgridcolor": "white",
             "startlinecolor": "#2a3f5f"
            },
            "type": "carpet"
           }
          ],
          "choropleth": [
           {
            "colorbar": {
             "outlinewidth": 0,
             "ticks": ""
            },
            "type": "choropleth"
           }
          ],
          "contour": [
           {
            "colorbar": {
             "outlinewidth": 0,
             "ticks": ""
            },
            "colorscale": [
             [
              0,
              "#0d0887"
             ],
             [
              0.1111111111111111,
              "#46039f"
             ],
             [
              0.2222222222222222,
              "#7201a8"
             ],
             [
              0.3333333333333333,
              "#9c179e"
             ],
             [
              0.4444444444444444,
              "#bd3786"
             ],
             [
              0.5555555555555556,
              "#d8576b"
             ],
             [
              0.6666666666666666,
              "#ed7953"
             ],
             [
              0.7777777777777778,
              "#fb9f3a"
             ],
             [
              0.8888888888888888,
              "#fdca26"
             ],
             [
              1,
              "#f0f921"
             ]
            ],
            "type": "contour"
           }
          ],
          "contourcarpet": [
           {
            "colorbar": {
             "outlinewidth": 0,
             "ticks": ""
            },
            "type": "contourcarpet"
           }
          ],
          "heatmap": [
           {
            "colorbar": {
             "outlinewidth": 0,
             "ticks": ""
            },
            "colorscale": [
             [
              0,
              "#0d0887"
             ],
             [
              0.1111111111111111,
              "#46039f"
             ],
             [
              0.2222222222222222,
              "#7201a8"
             ],
             [
              0.3333333333333333,
              "#9c179e"
             ],
             [
              0.4444444444444444,
              "#bd3786"
             ],
             [
              0.5555555555555556,
              "#d8576b"
             ],
             [
              0.6666666666666666,
              "#ed7953"
             ],
             [
              0.7777777777777778,
              "#fb9f3a"
             ],
             [
              0.8888888888888888,
              "#fdca26"
             ],
             [
              1,
              "#f0f921"
             ]
            ],
            "type": "heatmap"
           }
          ],
          "heatmapgl": [
           {
            "colorbar": {
             "outlinewidth": 0,
             "ticks": ""
            },
            "colorscale": [
             [
              0,
              "#0d0887"
             ],
             [
              0.1111111111111111,
              "#46039f"
             ],
             [
              0.2222222222222222,
              "#7201a8"
             ],
             [
              0.3333333333333333,
              "#9c179e"
             ],
             [
              0.4444444444444444,
              "#bd3786"
             ],
             [
              0.5555555555555556,
              "#d8576b"
             ],
             [
              0.6666666666666666,
              "#ed7953"
             ],
             [
              0.7777777777777778,
              "#fb9f3a"
             ],
             [
              0.8888888888888888,
              "#fdca26"
             ],
             [
              1,
              "#f0f921"
             ]
            ],
            "type": "heatmapgl"
           }
          ],
          "histogram": [
           {
            "marker": {
             "pattern": {
              "fillmode": "overlay",
              "size": 10,
              "solidity": 0.2
             }
            },
            "type": "histogram"
           }
          ],
          "histogram2d": [
           {
            "colorbar": {
             "outlinewidth": 0,
             "ticks": ""
            },
            "colorscale": [
             [
              0,
              "#0d0887"
             ],
             [
              0.1111111111111111,
              "#46039f"
             ],
             [
              0.2222222222222222,
              "#7201a8"
             ],
             [
              0.3333333333333333,
              "#9c179e"
             ],
             [
              0.4444444444444444,
              "#bd3786"
             ],
             [
              0.5555555555555556,
              "#d8576b"
             ],
             [
              0.6666666666666666,
              "#ed7953"
             ],
             [
              0.7777777777777778,
              "#fb9f3a"
             ],
             [
              0.8888888888888888,
              "#fdca26"
             ],
             [
              1,
              "#f0f921"
             ]
            ],
            "type": "histogram2d"
           }
          ],
          "histogram2dcontour": [
           {
            "colorbar": {
             "outlinewidth": 0,
             "ticks": ""
            },
            "colorscale": [
             [
              0,
              "#0d0887"
             ],
             [
              0.1111111111111111,
              "#46039f"
             ],
             [
              0.2222222222222222,
              "#7201a8"
             ],
             [
              0.3333333333333333,
              "#9c179e"
             ],
             [
              0.4444444444444444,
              "#bd3786"
             ],
             [
              0.5555555555555556,
              "#d8576b"
             ],
             [
              0.6666666666666666,
              "#ed7953"
             ],
             [
              0.7777777777777778,
              "#fb9f3a"
             ],
             [
              0.8888888888888888,
              "#fdca26"
             ],
             [
              1,
              "#f0f921"
             ]
            ],
            "type": "histogram2dcontour"
           }
          ],
          "mesh3d": [
           {
            "colorbar": {
             "outlinewidth": 0,
             "ticks": ""
            },
            "type": "mesh3d"
           }
          ],
          "parcoords": [
           {
            "line": {
             "colorbar": {
              "outlinewidth": 0,
              "ticks": ""
             }
            },
            "type": "parcoords"
           }
          ],
          "pie": [
           {
            "automargin": true,
            "type": "pie"
           }
          ],
          "scatter": [
           {
            "fillpattern": {
             "fillmode": "overlay",
             "size": 10,
             "solidity": 0.2
            },
            "type": "scatter"
           }
          ],
          "scatter3d": [
           {
            "line": {
             "colorbar": {
              "outlinewidth": 0,
              "ticks": ""
             }
            },
            "marker": {
             "colorbar": {
              "outlinewidth": 0,
              "ticks": ""
             }
            },
            "type": "scatter3d"
           }
          ],
          "scattercarpet": [
           {
            "marker": {
             "colorbar": {
              "outlinewidth": 0,
              "ticks": ""
             }
            },
            "type": "scattercarpet"
           }
          ],
          "scattergeo": [
           {
            "marker": {
             "colorbar": {
              "outlinewidth": 0,
              "ticks": ""
             }
            },
            "type": "scattergeo"
           }
          ],
          "scattergl": [
           {
            "marker": {
             "colorbar": {
              "outlinewidth": 0,
              "ticks": ""
             }
            },
            "type": "scattergl"
           }
          ],
          "scattermapbox": [
           {
            "marker": {
             "colorbar": {
              "outlinewidth": 0,
              "ticks": ""
             }
            },
            "type": "scattermapbox"
           }
          ],
          "scatterpolar": [
           {
            "marker": {
             "colorbar": {
              "outlinewidth": 0,
              "ticks": ""
             }
            },
            "type": "scatterpolar"
           }
          ],
          "scatterpolargl": [
           {
            "marker": {
             "colorbar": {
              "outlinewidth": 0,
              "ticks": ""
             }
            },
            "type": "scatterpolargl"
           }
          ],
          "scatterternary": [
           {
            "marker": {
             "colorbar": {
              "outlinewidth": 0,
              "ticks": ""
             }
            },
            "type": "scatterternary"
           }
          ],
          "surface": [
           {
            "colorbar": {
             "outlinewidth": 0,
             "ticks": ""
            },
            "colorscale": [
             [
              0,
              "#0d0887"
             ],
             [
              0.1111111111111111,
              "#46039f"
             ],
             [
              0.2222222222222222,
              "#7201a8"
             ],
             [
              0.3333333333333333,
              "#9c179e"
             ],
             [
              0.4444444444444444,
              "#bd3786"
             ],
             [
              0.5555555555555556,
              "#d8576b"
             ],
             [
              0.6666666666666666,
              "#ed7953"
             ],
             [
              0.7777777777777778,
              "#fb9f3a"
             ],
             [
              0.8888888888888888,
              "#fdca26"
             ],
             [
              1,
              "#f0f921"
             ]
            ],
            "type": "surface"
           }
          ],
          "table": [
           {
            "cells": {
             "fill": {
              "color": "#EBF0F8"
             },
             "line": {
              "color": "white"
             }
            },
            "header": {
             "fill": {
              "color": "#C8D4E3"
             },
             "line": {
              "color": "white"
             }
            },
            "type": "table"
           }
          ]
         },
         "layout": {
          "annotationdefaults": {
           "arrowcolor": "#2a3f5f",
           "arrowhead": 0,
           "arrowwidth": 1
          },
          "autotypenumbers": "strict",
          "coloraxis": {
           "colorbar": {
            "outlinewidth": 0,
            "ticks": ""
           }
          },
          "colorscale": {
           "diverging": [
            [
             0,
             "#8e0152"
            ],
            [
             0.1,
             "#c51b7d"
            ],
            [
             0.2,
             "#de77ae"
            ],
            [
             0.3,
             "#f1b6da"
            ],
            [
             0.4,
             "#fde0ef"
            ],
            [
             0.5,
             "#f7f7f7"
            ],
            [
             0.6,
             "#e6f5d0"
            ],
            [
             0.7,
             "#b8e186"
            ],
            [
             0.8,
             "#7fbc41"
            ],
            [
             0.9,
             "#4d9221"
            ],
            [
             1,
             "#276419"
            ]
           ],
           "sequential": [
            [
             0,
             "#0d0887"
            ],
            [
             0.1111111111111111,
             "#46039f"
            ],
            [
             0.2222222222222222,
             "#7201a8"
            ],
            [
             0.3333333333333333,
             "#9c179e"
            ],
            [
             0.4444444444444444,
             "#bd3786"
            ],
            [
             0.5555555555555556,
             "#d8576b"
            ],
            [
             0.6666666666666666,
             "#ed7953"
            ],
            [
             0.7777777777777778,
             "#fb9f3a"
            ],
            [
             0.8888888888888888,
             "#fdca26"
            ],
            [
             1,
             "#f0f921"
            ]
           ],
           "sequentialminus": [
            [
             0,
             "#0d0887"
            ],
            [
             0.1111111111111111,
             "#46039f"
            ],
            [
             0.2222222222222222,
             "#7201a8"
            ],
            [
             0.3333333333333333,
             "#9c179e"
            ],
            [
             0.4444444444444444,
             "#bd3786"
            ],
            [
             0.5555555555555556,
             "#d8576b"
            ],
            [
             0.6666666666666666,
             "#ed7953"
            ],
            [
             0.7777777777777778,
             "#fb9f3a"
            ],
            [
             0.8888888888888888,
             "#fdca26"
            ],
            [
             1,
             "#f0f921"
            ]
           ]
          },
          "colorway": [
           "#636efa",
           "#EF553B",
           "#00cc96",
           "#ab63fa",
           "#FFA15A",
           "#19d3f3",
           "#FF6692",
           "#B6E880",
           "#FF97FF",
           "#FECB52"
          ],
          "font": {
           "color": "#2a3f5f"
          },
          "geo": {
           "bgcolor": "white",
           "lakecolor": "white",
           "landcolor": "#E5ECF6",
           "showlakes": true,
           "showland": true,
           "subunitcolor": "white"
          },
          "hoverlabel": {
           "align": "left"
          },
          "hovermode": "closest",
          "mapbox": {
           "style": "light"
          },
          "paper_bgcolor": "white",
          "plot_bgcolor": "#E5ECF6",
          "polar": {
           "angularaxis": {
            "gridcolor": "white",
            "linecolor": "white",
            "ticks": ""
           },
           "bgcolor": "#E5ECF6",
           "radialaxis": {
            "gridcolor": "white",
            "linecolor": "white",
            "ticks": ""
           }
          },
          "scene": {
           "xaxis": {
            "backgroundcolor": "#E5ECF6",
            "gridcolor": "white",
            "gridwidth": 2,
            "linecolor": "white",
            "showbackground": true,
            "ticks": "",
            "zerolinecolor": "white"
           },
           "yaxis": {
            "backgroundcolor": "#E5ECF6",
            "gridcolor": "white",
            "gridwidth": 2,
            "linecolor": "white",
            "showbackground": true,
            "ticks": "",
            "zerolinecolor": "white"
           },
           "zaxis": {
            "backgroundcolor": "#E5ECF6",
            "gridcolor": "white",
            "gridwidth": 2,
            "linecolor": "white",
            "showbackground": true,
            "ticks": "",
            "zerolinecolor": "white"
           }
          },
          "shapedefaults": {
           "line": {
            "color": "#2a3f5f"
           }
          },
          "ternary": {
           "aaxis": {
            "gridcolor": "white",
            "linecolor": "white",
            "ticks": ""
           },
           "baxis": {
            "gridcolor": "white",
            "linecolor": "white",
            "ticks": ""
           },
           "bgcolor": "#E5ECF6",
           "caxis": {
            "gridcolor": "white",
            "linecolor": "white",
            "ticks": ""
           }
          },
          "title": {
           "x": 0.05
          },
          "xaxis": {
           "automargin": true,
           "gridcolor": "white",
           "linecolor": "white",
           "ticks": "",
           "title": {
            "standoff": 15
           },
           "zerolinecolor": "white",
           "zerolinewidth": 2
          },
          "yaxis": {
           "automargin": true,
           "gridcolor": "white",
           "linecolor": "white",
           "ticks": "",
           "title": {
            "standoff": 15
           },
           "zerolinecolor": "white",
           "zerolinewidth": 2
          }
         }
        }
       }
      }
     },
     "metadata": {},
     "output_type": "display_data"
    }
   ],
   "source": [
    "import plotly.express as px\n",
    "\n",
    "fig = px.scatter_3d(x=PCA_X_train[:,0], # 3d train visualisation\n",
    "                    y=PCA_X_train[:,1],\n",
    "                    z=PCA_X_train[:,2],\n",
    "                    color=y_train)\n",
    "fig.show()\n",
    "\n",
    "\n",
    "fig = px.scatter_3d(x=PCA_X_test[:,0], # 3d test visualisation\n",
    "                    y=PCA_X_test[:,1],\n",
    "                    z=PCA_X_test[:,2],\n",
    "                    color=y_test)\n",
    "fig.show()"
   ]
  },
  {
   "cell_type": "markdown",
   "metadata": {},
   "source": [
    "Using Random Forest Classifier MOdel this time:"
   ]
  },
  {
   "cell_type": "code",
   "execution_count": 47,
   "metadata": {},
   "outputs": [
    {
     "data": {
      "text/plain": [
       "1.0"
      ]
     },
     "metadata": {},
     "output_type": "display_data"
    },
    {
     "name": "stdout",
     "output_type": "stream",
     "text": [
      "              precision    recall  f1-score   support\n",
      "\n",
      "           0       1.00      1.00      1.00        21\n",
      "           1       1.00      1.00      1.00        22\n",
      "\n",
      "    accuracy                           1.00        43\n",
      "   macro avg       1.00      1.00      1.00        43\n",
      "weighted avg       1.00      1.00      1.00        43\n",
      "\n"
     ]
    }
   ],
   "source": [
    "rfc = RandomForestClassifier( max_depth=None,) #обучение модели и ее тест на данных\n",
    "rfc.fit(PCA_X_train, y_train)\n",
    "display(rfc.score(PCA_X_test, y_test))\n",
    "print(classification_report(y_test, rfc.predict(PCA_X_test))) "
   ]
  },
  {
   "cell_type": "markdown",
   "metadata": {},
   "source": [
    "Again we got an excellent quality"
   ]
  },
  {
   "cell_type": "markdown",
   "metadata": {},
   "source": [
    "PLS(Partial latent squares) - an algorythm which selects variables which have a maximal hidden dependecies with the predictors. Then it's possible to decrease the dimension of the feature frame."
   ]
  },
  {
   "cell_type": "code",
   "execution_count": 48,
   "metadata": {},
   "outputs": [],
   "source": [
    "pls_model = PLSRegression(n_components=3)\n",
    "PLS_X_train = pls_model.fit_transform(X_train, y_train)[0] \n",
    "PLS_X_test = pls_model.transform(X_test) "
   ]
  },
  {
   "cell_type": "code",
   "execution_count": 50,
   "metadata": {},
   "outputs": [
    {
     "data": {
      "text/plain": [
       "<matplotlib.collections.PathCollection at 0x7ff0218d5670>"
      ]
     },
     "execution_count": 50,
     "metadata": {},
     "output_type": "execute_result"
    },
    {
     "data": {
      "image/png": "[encoded data removed]",
      "text/plain": [
       "<Figure size 1200x600 with 6 Axes>"
      ]
     },
     "metadata": {},
     "output_type": "display_data"
    }
   ],
   "source": [
    "fig, axes = plt.subplots(2,3,figsize=(12,6))\n",
    "\n",
    "axes[0, 0].scatter(PLS_X_train[:,0], PLS_X_train[:,1], c=y_train)\n",
    "axes[0, 1].scatter(PLS_X_train[:,1], PLS_X_train[:,2], c=y_train)\n",
    "axes[0, 2].scatter(PLS_X_train[:,0], PLS_X_train[:,2], c=y_train)\n",
    "\n",
    "axes[1, 0].scatter(PLS_X_test[:,0], PLS_X_test[:,1], c=y_test)\n",
    "axes[1, 1].scatter(PLS_X_test[:,1], PLS_X_test[:,2], c=y_test)\n",
    "axes[1, 2].scatter(PLS_X_test[:,0], PLS_X_test[:,2], c=y_test)"
   ]
  },
  {
   "cell_type": "code",
   "execution_count": 51,
   "metadata": {},
   "outputs": [
    {
     "data": {
      "application/vnd.plotly.v1+json": {
       "config": {
        "plotlyServerURL": "https://plot.ly"
       },
       "data": [
        {
         "hovertemplate": "x=%{x}<br>y=%{y}<br>z=%{z}<br>color=%{marker.color}<extra></extra>",
         "legendgroup": "",
         "marker": {
          "color": [
           1,
           0,
           0,
           0,
           0,
           0,
           1,
           0,
           1,
           0,
           1,
           1,
           0,
           1,
           1,
           1,
           0,
           0,
           1,
           0,
           1,
           1,
           0,
           1,
           1,
           0,
           1,
           1,
           1,
           0,
           0,
           1,
           0,
           1,
           1,
           1,
           0,
           1,
           0,
           1,
           1,
           1,
           0,
           1,
           1,
           1,
           1,
           1,
           0,
           1,
           1,
           1,
           0,
           0,
           1,
           0,
           0,
           0,
           0,
           0,
           1,
           1,
           1,
           1,
           1,
           1,
           1,
           1,
           0,
           1,
           1,
           1,
           1,
           1,
           0,
           0,
           0,
           0,
           1,
           1,
           1,
           1,
           0,
           0,
           1,
           1,
           1,
           0,
           0,
           1,
           0,
           0,
           0,
           0,
           1,
           1,
           0,
           1,
           0,
           0,
           1,
           0,
           1,
           1,
           0,
           0,
           0,
           0,
           1,
           0,
           0,
           0,
           0,
           0,
           0,
           0,
           1,
           0,
           0,
           1,
           1,
           0,
           0,
           1,
           0,
           0,
           0,
           1,
           1,
           0,
           0,
           1,
           0,
           1,
           0,
           1,
           1,
           0,
           0,
           1,
           0,
           1,
           1,
           0,
           0,
           1,
           0,
           0,
           0,
           1,
           0,
           1,
           0,
           0,
           1,
           1,
           1,
           0,
           0,
           1,
           1,
           0,
           0,
           1,
           0,
           1,
           1,
           0,
           1,
           1,
           0,
           0
          ],
          "coloraxis": "coloraxis",
          "symbol": "circle"
         },
         "mode": "markers",
         "name": "",
         "scene": "scene",
         "showlegend": false,
         "type": "scatter3d",
         "x": [
          16.501850683221605,
          -53.26992827723634,
          -6.402544097759928,
          -5.694764195413839,
          -5.982331061178369,
          -53.75394362441997,
          -10.516630104513538,
          -4.989758789622774,
          23.165671170411816,
          -9.07260806752448,
          17.12888443109205,
          16.851975642154553,
          -4.525634565784839,
          9.721162857661836,
          16.970109731399816,
          16.75881897813908,
          -53.59386667612805,
          0.9399088700425197,
          16.640781947865495,
          -4.550985233482164,
          23.00058528930815,
          15.769134847824878,
          -5.682096087604423,
          9.718854355266252,
          -10.17814071826675,
          -8.86175538957477,
          22.684904068325928,
          22.789181349171184,
          22.669021211922416,
          -6.207677863721226,
          -6.296610494795519,
          15.955591593902923,
          -8.944120350569852,
          9.277345191168642,
          15.97866107370826,
          41.723724930346705,
          -8.529592595596707,
          22.40896175023294,
          -53.43017893236611,
          41.723724930346705,
          9.276299152466173,
          9.249538398520677,
          -53.528441953939065,
          16.903236973520787,
          16.971374014159473,
          23.15481325508864,
          9.672242210958059,
          16.50134335249031,
          -5.114866155769535,
          8.977368160066517,
          16.51284652969436,
          16.78592561952766,
          -53.33709972059376,
          -6.2203836003736095,
          9.7521909341892,
          1.4402108475963948,
          0.7760111859094436,
          -9.099029284420935,
          0.7727947283833174,
          9.500664799945591,
          9.59969445018995,
          -10.140276568189167,
          22.38326860043934,
          41.723724930346705,
          17.054430775873715,
          -10.278587502338848,
          -10.134469957470108,
          23.07066628829095,
          -6.5163026434305085,
          41.723724930346705,
          16.933188197658616,
          16.688174990722214,
          22.701994540589762,
          16.89149112458531,
          -53.33570071295561,
          -8.999710224725487,
          -53.28173199473535,
          -9.203325684319084,
          -10.194623368340583,
          17.00215177358434,
          16.847798241114752,
          9.357402100040382,
          -6.640790573728206,
          1.2096381510093246,
          16.32172645003954,
          9.221395662247401,
          23.10281129333986,
          -4.553725554957238,
          -9.316481967854427,
          -10.286026886649712,
          -4.277677280519315,
          -6.120897941254847,
          1.0515907128431032,
          0.9834645541127904,
          16.876572599524284,
          -10.128678378102517,
          1.068910526798715,
          16.72105380776279,
          -5.863446534971166,
          -53.77860573569376,
          23.079143662651152,
          -9.076637090968285,
          15.144932042999816,
          22.427806852108816,
          -8.15445769081905,
          -4.932202775301583,
          -4.29031694335074,
          -6.472604907690335,
          16.534664970350928,
          -53.575520770363966,
          -53.74580765684547,
          -4.463971531834933,
          -8.756701285096312,
          -8.805723415305323,
          1.2662822514921894,
          -54.34001157094146,
          16.70582633132234,
          -53.43439549165189,
          -53.10152829794565,
          16.71843572423069,
          41.723724930346705,
          0.8572059565970835,
          -53.37807591769942,
          9.635688387960105,
          -4.365241916439048,
          0.9972582996857828,
          -4.477197924686124,
          22.411500180237542,
          16.16671287346507,
          0.8538183007110034,
          0.827039929472255,
          23.165287782432532,
          1.2723662624864474,
          23.123355737642516,
          1.339736457474238,
          9.260008603337285,
          16.66372682432044,
          -4.280190995133628,
          1.2731706951061748,
          22.61017200200904,
          -6.657546392717947,
          -10.442893835104497,
          41.723724930346705,
          -5.067522759707662,
          -4.642588657091235,
          22.08157999746721,
          1.107323243193231,
          -6.157853622937892,
          0.8749867596266067,
          9.60052083202141,
          -8.401171919380914,
          -11.437657230072587,
          -4.808517970103638,
          -53.64042505866992,
          41.723724930346705,
          41.723724930346705,
          16.99588761446368,
          -9.119785367432813,
          -5.943547438979574,
          16.264060914407718,
          -12.431123419304132,
          -53.99166547804054,
          -8.161716322597902,
          9.416786039580662,
          -53.379831691352045,
          9.381599997405822,
          9.695024532467297,
          -53.546737433153844,
          16.0394630329702,
          16.885539896120616,
          -53.51716867892867,
          1.0999843318456928
         ],
         "y": [
          -4.103634585945365,
          -6.576530835823964,
          8.662538905105887,
          8.944645023260708,
          8.917972253219004,
          -6.735764191027496,
          -10.696354545571577,
          8.76424005505353,
          -1.423358981112206,
          7.902032157972307,
          -3.9527835672631544,
          -4.029631537199756,
          9.069135221375571,
          -6.214113927299814,
          -3.946261525227252,
          -4.0791500365968325,
          -6.514354732562527,
          10.474005628246662,
          -4.1351832782422875,
          8.968197020690694,
          -1.4924780509285724,
          -4.233744515067439,
          9.040070856488944,
          -6.234728366603831,
          -10.84972597974891,
          8.055015034448873,
          -1.5709874116825286,
          -1.6195165100544928,
          -1.6024265843261207,
          8.947626324074673,
          8.49705198917516,
          -4.147195218649241,
          8.067809025200344,
          -6.443228597144096,
          -4.216374817305418,
          -6.544879146198953,
          8.152610722422992,
          -1.6893202238978335,
          -6.624171471693346,
          -6.544879146198953,
          -6.3626305979755235,
          -6.441502194723715,
          -6.644020046971619,
          -4.048662810270927,
          -4.0573603991145095,
          -1.4315944097523983,
          -6.146264228967898,
          -4.125682170507569,
          8.792439885333797,
          -6.35151857895095,
          -4.030130543466518,
          -3.946013685905077,
          -6.531760849203025,
          8.893200860571818,
          -6.228369744940901,
          10.746279644705735,
          10.591810195877795,
          7.866123961273193,
          10.635061890383,
          -11.631005664314538,
          -6.2535572521161225,
          -10.823280894974493,
          -1.6782678899010621,
          -6.544879146198953,
          -3.9142011302578457,
          -10.732584749178214,
          -10.92815445084838,
          -1.5604121173695307,
          8.874362667742291,
          -6.544879146198953,
          -4.047039837548689,
          -4.09358468495044,
          -1.6237818863059736,
          -3.942950996256237,
          -6.604142214947221,
          8.07676301862577,
          -6.782106253225691,
          8.023156837528001,
          -10.870771598447721,
          -3.996793370865869,
          -3.9455222750584333,
          -6.307831738078975,
          8.64691459075986,
          10.89509401837043,
          -3.8361141291568397,
          -6.3552273807922495,
          -1.42872055544649,
          8.951715932179573,
          7.861720068912882,
          -10.678423974717697,
          9.103894065237538,
          8.826627463107334,
          10.553009023782039,
          10.555663795171863,
          -3.9953077249410938,
          -10.754281620670492,
          10.590689056181276,
          -3.821667006399573,
          8.972898638707743,
          -6.767974907719408,
          -1.4456630864214568,
          7.936589429209949,
          -4.685839692095907,
          -1.707907780322911,
          8.283628177432353,
          8.719346932593874,
          9.007218511949104,
          8.796074090388647,
          -3.9712839160571956,
          -6.80559839477843,
          -6.760660319230478,
          9.071398031523183,
          7.924064472110406,
          8.041911143986516,
          10.802141281208206,
          -6.895644837179302,
          -4.057351818734439,
          -6.799318096833233,
          -6.6710657590484335,
          -4.1065978120880455,
          -6.544879146198953,
          10.396778223819636,
          -6.600552832675208,
          -6.365511799804542,
          8.98529418895087,
          10.585853382614093,
          9.126667577709274,
          -1.728392832967593,
          -4.2566536610687775,
          10.503755444376468,
          10.660188584317849,
          -1.4574611079053599,
          10.638382753018169,
          -1.4828448377760242,
          10.798269897363742,
          -6.274982643514059,
          -4.041456703206021,
          9.151326974430143,
          10.880888706466065,
          -1.849996233906228,
          8.979002561270782,
          -10.925604174399654,
          -6.544879146198953,
          8.815170080140348,
          8.940921148853793,
          -1.7864825444317456,
          10.67313624921018,
          8.829048807508032,
          10.634764201447961,
          -6.223188303250553,
          8.165579218673505,
          -11.132567247751274,
          8.830668221518147,
          -6.694079563536702,
          -6.544879146198953,
          -6.544879146198953,
          -3.973904402350387,
          8.075022895334499,
          8.913049336376858,
          -4.222544383802192,
          -13.265989152086345,
          -7.1693196538830275,
          8.345278472738425,
          -6.27956528803439,
          -6.524884118054098,
          -6.318790256588568,
          -6.264112560959414,
          -6.799551681005129,
          -4.434411771396558,
          -4.037464714104246,
          -6.804284281973434,
          10.59900266129927
         ],
         "z": [
          -10.268531475867416,
          7.412426302795936,
          2.043748440867409,
          1.9755066764169218,
          2.097442508779262,
          7.611655609713471,
          -6.242198114805322,
          1.6774037124192782,
          -10.34658214984638,
          2.4712659545989086,
          -10.374928115737918,
          -10.324942998558623,
          1.6968043010849412,
          -9.473693797073848,
          -10.300884820677766,
          -10.32194139249709,
          7.654638498461949,
          0.8074166916095398,
          -10.342511285138805,
          1.7384892113733423,
          -10.350160942769662,
          -10.075175909970579,
          2.05720294226063,
          -9.527853250347942,
          -6.4819370878665605,
          2.4978133586344016,
          -10.315451596079726,
          -10.40482451954815,
          -10.345888160723183,
          2.1669754936257326,
          1.7395437198087684,
          -10.098464963316447,
          2.539948349081062,
          -9.542790604135716,
          -10.170188100203227,
          56.19297098878422,
          2.4354477255375544,
          -10.33959157542056,
          7.394292379990635,
          56.19297098878422,
          -9.50146881036755,
          -9.568659416989037,
          7.420656451892066,
          -10.372300111921575,
          -10.372004616124727,
          -10.34567897021925,
          -9.4313089091202,
          -10.284937498967308,
          1.6808842175235132,
          -9.31411834113449,
          -10.244624907779333,
          -10.222525116926136,
          7.533056220643677,
          2.1497747251519037,
          -9.557177576074535,
          0.9987364382215431,
          1.2123235374395813,
          2.450850617403106,
          1.1114674733657282,
          48.23644914418786,
          -9.460331919844933,
          -6.443174453639971,
          -10.325218834605776,
          56.19297098878422,
          -10.287346462799851,
          -6.366233958864461,
          -6.507474607840209,
          -10.452848516555484,
          2.2700687252339784,
          56.19297098878422,
          -10.358045355570244,
          -10.310843338186015,
          -10.379192131518682,
          -10.27834868753435,
          7.4495916043682335,
          2.597269073763587,
          7.2527633024200115,
          2.6416812430767935,
          -6.468689568598957,
          -10.357853910225792,
          -10.234152923276643,
          -9.473737133957933,
          2.1063178938732645,
          1.1997503863432097,
          -10.004027931014214,
          -9.480089911477876,
          -10.342405448909956,
          1.5965878755218759,
          2.506211658477862,
          -6.249866851053538,
          1.6840856869954393,
          2.059514078475181,
          0.9217250772051226,
          0.908876065238482,
          -10.303419271304014,
          -6.42719935655463,
          1.0364556912052243,
          -10.143948552253567,
          2.083754329657848,
          7.450446032078543,
          -10.351834873017335,
          2.48557761337374,
          -10.127429884409066,
          -10.368300359537155,
          2.445412995566299,
          1.555815482269193,
          1.6040543417747313,
          2.149976917287318,
          -10.168515471870764,
          7.3534923166610495,
          7.467975899911193,
          1.7293675616686115,
          2.367847750905849,
          2.4584678086248903,
          1.1218961984798308,
          7.683050613747785,
          -10.316760491254758,
          7.311903033377659,
          7.282218796010142,
          -10.330047415133423,
          56.19297098878422,
          0.787440104003307,
          7.4650731700165025,
          -9.617568656392393,
          1.604300166993189,
          0.9173582215587257,
          1.7716715663733105,
          -10.390052905094791,
          -10.274874537172364,
          0.8777031498447219,
          1.0775993453493418,
          -10.360644225557298,
          0.8709419376952017,
          -10.39664729286401,
          1.0021416303063453,
          -9.422874428724041,
          -10.292684517457143,
          1.7428437782287332,
          1.0377632497809208,
          -10.54452118295979,
          2.4279213400969524,
          -6.476198624071781,
          56.19297098878422,
          1.713059410601221,
          1.6707366431341324,
          -10.361543634298194,
          0.9817512805380706,
          2.050226892891503,
          1.051188234626263,
          -9.48189164735782,
          2.4219365680097846,
          -6.209854139352612,
          1.6262969630755522,
          7.429023347552672,
          56.19297098878422,
          56.19297098878422,
          -10.321854876249875,
          2.6332270636153683,
          2.0897131645344444,
          -10.33703074392339,
          -8.212747268705467,
          7.196155174387829,
          2.5234926626782657,
          -9.477606229685184,
          7.530197430242301,
          -9.505212296219353,
          -9.52435293446071,
          7.2863531732062174,
          -10.341910655122536,
          -10.366280920405266,
          7.295102147913557,
          0.8776719890832645
         ]
        }
       ],
       "layout": {
        "coloraxis": {
         "colorbar": {
          "title": {
           "text": "color"
          }
         },
         "colorscale": [
          [
           0,
           "#0d0887"
          ],
          [
           0.1111111111111111,
           "#46039f"
          ],
          [
           0.2222222222222222,
           "#7201a8"
          ],
          [
           0.3333333333333333,
           "#9c179e"
          ],
          [
           0.4444444444444444,
           "#bd3786"
          ],
          [
           0.5555555555555556,
           "#d8576b"
          ],
          [
           0.6666666666666666,
           "#ed7953"
          ],
          [
           0.7777777777777778,
           "#fb9f3a"
          ],
          [
           0.8888888888888888,
           "#fdca26"
          ],
          [
           1,
           "#f0f921"
          ]
         ]
        },
        "legend": {
         "tracegroupgap": 0
        },
        "margin": {
         "t": 60
        },
        "scene": {
         "domain": {
          "x": [
           0,
           1
          ],
          "y": [
           0,
           1
          ]
         },
         "xaxis": {
          "title": {
           "text": "x"
          }
         },
         "yaxis": {
          "title": {
           "text": "y"
          }
         },
         "zaxis": {
          "title": {
           "text": "z"
          }
         }
        },
        "template": {
         "data": {
          "bar": [
           {
            "error_x": {
             "color": "#2a3f5f"
            },
            "error_y": {
             "color": "#2a3f5f"
            },
            "marker": {
             "line": {
              "color": "#E5ECF6",
              "width": 0.5
             },
             "pattern": {
              "fillmode": "overlay",
              "size": 10,
              "solidity": 0.2
             }
            },
            "type": "bar"
           }
          ],
          "barpolar": [
           {
            "marker": {
             "line": {
              "color": "#E5ECF6",
              "width": 0.5
             },
             "pattern": {
              "fillmode": "overlay",
              "size": 10,
              "solidity": 0.2
             }
            },
            "type": "barpolar"
           }
          ],
          "carpet": [
           {
            "aaxis": {
             "endlinecolor": "#2a3f5f",
             "gridcolor": "white",
             "linecolor": "white",
             "minorgridcolor": "white",
             "startlinecolor": "#2a3f5f"
            },
            "baxis": {
             "endlinecolor": "#2a3f5f",
             "gridcolor": "white",
             "linecolor": "white",
             "minorgridcolor": "white",
             "startlinecolor": "#2a3f5f"
            },
            "type": "carpet"
           }
          ],
          "choropleth": [
           {
            "colorbar": {
             "outlinewidth": 0,
             "ticks": ""
            },
            "type": "choropleth"
           }
          ],
          "contour": [
           {
            "colorbar": {
             "outlinewidth": 0,
             "ticks": ""
            },
            "colorscale": [
             [
              0,
              "#0d0887"
             ],
             [
              0.1111111111111111,
              "#46039f"
             ],
             [
              0.2222222222222222,
              "#7201a8"
             ],
             [
              0.3333333333333333,
              "#9c179e"
             ],
             [
              0.4444444444444444,
              "#bd3786"
             ],
             [
              0.5555555555555556,
              "#d8576b"
             ],
             [
              0.6666666666666666,
              "#ed7953"
             ],
             [
              0.7777777777777778,
              "#fb9f3a"
             ],
             [
              0.8888888888888888,
              "#fdca26"
             ],
             [
              1,
              "#f0f921"
             ]
            ],
            "type": "contour"
           }
          ],
          "contourcarpet": [
           {
            "colorbar": {
             "outlinewidth": 0,
             "ticks": ""
            },
            "type": "contourcarpet"
           }
          ],
          "heatmap": [
           {
            "colorbar": {
             "outlinewidth": 0,
             "ticks": ""
            },
            "colorscale": [
             [
              0,
              "#0d0887"
             ],
             [
              0.1111111111111111,
              "#46039f"
             ],
             [
              0.2222222222222222,
              "#7201a8"
             ],
             [
              0.3333333333333333,
              "#9c179e"
             ],
             [
              0.4444444444444444,
              "#bd3786"
             ],
             [
              0.5555555555555556,
              "#d8576b"
             ],
             [
              0.6666666666666666,
              "#ed7953"
             ],
             [
              0.7777777777777778,
              "#fb9f3a"
             ],
             [
              0.8888888888888888,
              "#fdca26"
             ],
             [
              1,
              "#f0f921"
             ]
            ],
            "type": "heatmap"
           }
          ],
          "heatmapgl": [
           {
            "colorbar": {
             "outlinewidth": 0,
             "ticks": ""
            },
            "colorscale": [
             [
              0,
              "#0d0887"
             ],
             [
              0.1111111111111111,
              "#46039f"
             ],
             [
              0.2222222222222222,
              "#7201a8"
             ],
             [
              0.3333333333333333,
              "#9c179e"
             ],
             [
              0.4444444444444444,
              "#bd3786"
             ],
             [
              0.5555555555555556,
              "#d8576b"
             ],
             [
              0.6666666666666666,
              "#ed7953"
             ],
             [
              0.7777777777777778,
              "#fb9f3a"
             ],
             [
              0.8888888888888888,
              "#fdca26"
             ],
             [
              1,
              "#f0f921"
             ]
            ],
            "type": "heatmapgl"
           }
          ],
          "histogram": [
           {
            "marker": {
             "pattern": {
              "fillmode": "overlay",
              "size": 10,
              "solidity": 0.2
             }
            },
            "type": "histogram"
           }
          ],
          "histogram2d": [
           {
            "colorbar": {
             "outlinewidth": 0,
             "ticks": ""
            },
            "colorscale": [
             [
              0,
              "#0d0887"
             ],
             [
              0.1111111111111111,
              "#46039f"
             ],
             [
              0.2222222222222222,
              "#7201a8"
             ],
             [
              0.3333333333333333,
              "#9c179e"
             ],
             [
              0.4444444444444444,
              "#bd3786"
             ],
             [
              0.5555555555555556,
              "#d8576b"
             ],
             [
              0.6666666666666666,
              "#ed7953"
             ],
             [
              0.7777777777777778,
              "#fb9f3a"
             ],
             [
              0.8888888888888888,
              "#fdca26"
             ],
             [
              1,
              "#f0f921"
             ]
            ],
            "type": "histogram2d"
           }
          ],
          "histogram2dcontour": [
           {
            "colorbar": {
             "outlinewidth": 0,
             "ticks": ""
            },
            "colorscale": [
             [
              0,
              "#0d0887"
             ],
             [
              0.1111111111111111,
              "#46039f"
             ],
             [
              0.2222222222222222,
              "#7201a8"
             ],
             [
              0.3333333333333333,
              "#9c179e"
             ],
             [
              0.4444444444444444,
              "#bd3786"
             ],
             [
              0.5555555555555556,
              "#d8576b"
             ],
             [
              0.6666666666666666,
              "#ed7953"
             ],
             [
              0.7777777777777778,
              "#fb9f3a"
             ],
             [
              0.8888888888888888,
              "#fdca26"
             ],
             [
              1,
              "#f0f921"
             ]
            ],
            "type": "histogram2dcontour"
           }
          ],
          "mesh3d": [
           {
            "colorbar": {
             "outlinewidth": 0,
             "ticks": ""
            },
            "type": "mesh3d"
           }
          ],
          "parcoords": [
           {
            "line": {
             "colorbar": {
              "outlinewidth": 0,
              "ticks": ""
             }
            },
            "type": "parcoords"
           }
          ],
          "pie": [
           {
            "automargin": true,
            "type": "pie"
           }
          ],
          "scatter": [
           {
            "fillpattern": {
             "fillmode": "overlay",
             "size": 10,
             "solidity": 0.2
            },
            "type": "scatter"
           }
          ],
          "scatter3d": [
           {
            "line": {
             "colorbar": {
              "outlinewidth": 0,
              "ticks": ""
             }
            },
            "marker": {
             "colorbar": {
              "outlinewidth": 0,
              "ticks": ""
             }
            },
            "type": "scatter3d"
           }
          ],
          "scattercarpet": [
           {
            "marker": {
             "colorbar": {
              "outlinewidth": 0,
              "ticks": ""
             }
            },
            "type": "scattercarpet"
           }
          ],
          "scattergeo": [
           {
            "marker": {
             "colorbar": {
              "outlinewidth": 0,
              "ticks": ""
             }
            },
            "type": "scattergeo"
           }
          ],
          "scattergl": [
           {
            "marker": {
             "colorbar": {
              "outlinewidth": 0,
              "ticks": ""
             }
            },
            "type": "scattergl"
           }
          ],
          "scattermapbox": [
           {
            "marker": {
             "colorbar": {
              "outlinewidth": 0,
              "ticks": ""
             }
            },
            "type": "scattermapbox"
           }
          ],
          "scatterpolar": [
           {
            "marker": {
             "colorbar": {
              "outlinewidth": 0,
              "ticks": ""
             }
            },
            "type": "scatterpolar"
           }
          ],
          "scatterpolargl": [
           {
            "marker": {
             "colorbar": {
              "outlinewidth": 0,
              "ticks": ""
             }
            },
            "type": "scatterpolargl"
           }
          ],
          "scatterternary": [
           {
            "marker": {
             "colorbar": {
              "outlinewidth": 0,
              "ticks": ""
             }
            },
            "type": "scatterternary"
           }
          ],
          "surface": [
           {
            "colorbar": {
             "outlinewidth": 0,
             "ticks": ""
            },
            "colorscale": [
             [
              0,
              "#0d0887"
             ],
             [
              0.1111111111111111,
              "#46039f"
             ],
             [
              0.2222222222222222,
              "#7201a8"
             ],
             [
              0.3333333333333333,
              "#9c179e"
             ],
             [
              0.4444444444444444,
              "#bd3786"
             ],
             [
              0.5555555555555556,
              "#d8576b"
             ],
             [
              0.6666666666666666,
              "#ed7953"
             ],
             [
              0.7777777777777778,
              "#fb9f3a"
             ],
             [
              0.8888888888888888,
              "#fdca26"
             ],
             [
              1,
              "#f0f921"
             ]
            ],
            "type": "surface"
           }
          ],
          "table": [
           {
            "cells": {
             "fill": {
              "color": "#EBF0F8"
             },
             "line": {
              "color": "white"
             }
            },
            "header": {
             "fill": {
              "color": "#C8D4E3"
             },
             "line": {
              "color": "white"
             }
            },
            "type": "table"
           }
          ]
         },
         "layout": {
          "annotationdefaults": {
           "arrowcolor": "#2a3f5f",
           "arrowhead": 0,
           "arrowwidth": 1
          },
          "autotypenumbers": "strict",
          "coloraxis": {
           "colorbar": {
            "outlinewidth": 0,
            "ticks": ""
           }
          },
          "colorscale": {
           "diverging": [
            [
             0,
             "#8e0152"
            ],
            [
             0.1,
             "#c51b7d"
            ],
            [
             0.2,
             "#de77ae"
            ],
            [
             0.3,
             "#f1b6da"
            ],
            [
             0.4,
             "#fde0ef"
            ],
            [
             0.5,
             "#f7f7f7"
            ],
            [
             0.6,
             "#e6f5d0"
            ],
            [
             0.7,
             "#b8e186"
            ],
            [
             0.8,
             "#7fbc41"
            ],
            [
             0.9,
             "#4d9221"
            ],
            [
             1,
             "#276419"
            ]
           ],
           "sequential": [
            [
             0,
             "#0d0887"
            ],
            [
             0.1111111111111111,
             "#46039f"
            ],
            [
             0.2222222222222222,
             "#7201a8"
            ],
            [
             0.3333333333333333,
             "#9c179e"
            ],
            [
             0.4444444444444444,
             "#bd3786"
            ],
            [
             0.5555555555555556,
             "#d8576b"
            ],
            [
             0.6666666666666666,
             "#ed7953"
            ],
            [
             0.7777777777777778,
             "#fb9f3a"
            ],
            [
             0.8888888888888888,
             "#fdca26"
            ],
            [
             1,
             "#f0f921"
            ]
           ],
           "sequentialminus": [
            [
             0,
             "#0d0887"
            ],
            [
             0.1111111111111111,
             "#46039f"
            ],
            [
             0.2222222222222222,
             "#7201a8"
            ],
            [
             0.3333333333333333,
             "#9c179e"
            ],
            [
             0.4444444444444444,
             "#bd3786"
            ],
            [
             0.5555555555555556,
             "#d8576b"
            ],
            [
             0.6666666666666666,
             "#ed7953"
            ],
            [
             0.7777777777777778,
             "#fb9f3a"
            ],
            [
             0.8888888888888888,
             "#fdca26"
            ],
            [
             1,
             "#f0f921"
            ]
           ]
          },
          "colorway": [
           "#636efa",
           "#EF553B",
           "#00cc96",
           "#ab63fa",
           "#FFA15A",
           "#19d3f3",
           "#FF6692",
           "#B6E880",
           "#FF97FF",
           "#FECB52"
          ],
          "font": {
           "color": "#2a3f5f"
          },
          "geo": {
           "bgcolor": "white",
           "lakecolor": "white",
           "landcolor": "#E5ECF6",
           "showlakes": true,
           "showland": true,
           "subunitcolor": "white"
          },
          "hoverlabel": {
           "align": "left"
          },
          "hovermode": "closest",
          "mapbox": {
           "style": "light"
          },
          "paper_bgcolor": "white",
          "plot_bgcolor": "#E5ECF6",
          "polar": {
           "angularaxis": {
            "gridcolor": "white",
            "linecolor": "white",
            "ticks": ""
           },
           "bgcolor": "#E5ECF6",
           "radialaxis": {
            "gridcolor": "white",
            "linecolor": "white",
            "ticks": ""
           }
          },
          "scene": {
           "xaxis": {
            "backgroundcolor": "#E5ECF6",
            "gridcolor": "white",
            "gridwidth": 2,
            "linecolor": "white",
            "showbackground": true,
            "ticks": "",
            "zerolinecolor": "white"
           },
           "yaxis": {
            "backgroundcolor": "#E5ECF6",
            "gridcolor": "white",
            "gridwidth": 2,
            "linecolor": "white",
            "showbackground": true,
            "ticks": "",
            "zerolinecolor": "white"
           },
           "zaxis": {
            "backgroundcolor": "#E5ECF6",
            "gridcolor": "white",
            "gridwidth": 2,
            "linecolor": "white",
            "showbackground": true,
            "ticks": "",
            "zerolinecolor": "white"
           }
          },
          "shapedefaults": {
           "line": {
            "color": "#2a3f5f"
           }
          },
          "ternary": {
           "aaxis": {
            "gridcolor": "white",
            "linecolor": "white",
            "ticks": ""
           },
           "baxis": {
            "gridcolor": "white",
            "linecolor": "white",
            "ticks": ""
           },
           "bgcolor": "#E5ECF6",
           "caxis": {
            "gridcolor": "white",
            "linecolor": "white",
            "ticks": ""
           }
          },
          "title": {
           "x": 0.05
          },
          "xaxis": {
           "automargin": true,
           "gridcolor": "white",
           "linecolor": "white",
           "ticks": "",
           "title": {
            "standoff": 15
           },
           "zerolinecolor": "white",
           "zerolinewidth": 2
          },
          "yaxis": {
           "automargin": true,
           "gridcolor": "white",
           "linecolor": "white",
           "ticks": "",
           "title": {
            "standoff": 15
           },
           "zerolinecolor": "white",
           "zerolinewidth": 2
          }
         }
        }
       }
      }
     },
     "metadata": {},
     "output_type": "display_data"
    },
    {
     "data": {
      "application/vnd.plotly.v1+json": {
       "config": {
        "plotlyServerURL": "https://plot.ly"
       },
       "data": [
        {
         "hovertemplate": "x=%{x}<br>y=%{y}<br>z=%{z}<br>color=%{marker.color}<extra></extra>",
         "legendgroup": "",
         "marker": {
          "color": [
           0,
           1,
           0,
           1,
           0,
           1,
           1,
           1,
           0,
           0,
           1,
           1,
           1,
           0,
           0,
           1,
           0,
           1,
           1,
           1,
           0,
           0,
           0,
           0,
           0,
           1,
           1,
           0,
           0,
           1,
           1,
           1,
           1,
           1,
           1,
           0,
           0,
           1,
           0,
           0,
           1,
           0,
           0
          ],
          "coloraxis": "coloraxis",
          "symbol": "circle"
         },
         "mode": "markers",
         "name": "",
         "scene": "scene",
         "showlegend": false,
         "type": "scatter3d",
         "x": [
          -4.588678088696616,
          16.31762189125144,
          -4.93492315202834,
          16.920532243472216,
          -54.01379571564333,
          -10.368218042486665,
          -10.598470722744723,
          16.50566763268456,
          -4.406530347996997,
          -8.723487443035108,
          -10.388638863745534,
          -10.281388375702663,
          22.616488459004078,
          -6.51753011575003,
          -53.45861939348007,
          41.723724930346705,
          -6.323819010405858,
          9.294994759786707,
          9.382381160563767,
          -10.255639583490279,
          -8.008916338378418,
          -7.902830636631799,
          -8.232303129746233,
          0.9505152096990057,
          -53.70484506220346,
          -10.2020898658608,
          -10.225847875845334,
          1.0828674480150629,
          -5.756969454062304,
          16.385951026508586,
          16.10717414072812,
          16.465863676163313,
          23.16875073605402,
          -10.046795056335213,
          9.705016379780409,
          -53.56121921297443,
          -8.091897740807735,
          -10.22459548647809,
          1.013653295645141,
          -6.038457805999843,
          16.815196435318967,
          -53.48982911982066,
          -6.150024344605772
         ],
         "y": [
          8.920134157120621,
          -4.16100896678034,
          8.954550185955656,
          -4.104019869883156,
          -6.577862927754708,
          -10.791281538407741,
          -11.062384658734642,
          -4.254466570537843,
          9.060059844639339,
          8.212009718698889,
          -10.997007800749914,
          -10.746328661966437,
          -1.5854407960128811,
          8.898412665305269,
          -6.68396379588896,
          -6.544879146198953,
          8.666847808355104,
          -6.3477642854913645,
          -6.343563743443817,
          -10.836664702172683,
          8.218550571436934,
          8.21400686894478,
          8.224566968080339,
          10.49773767045308,
          -6.728964213948384,
          -10.925015548870668,
          -10.817828513288207,
          10.530895019884717,
          8.962544108004304,
          -4.133717405893105,
          -4.211234927301766,
          -4.017390088485877,
          -1.4052359437755284,
          -10.902260761908119,
          -6.231375176333658,
          -6.688688635204828,
          8.302692081860442,
          -10.787930545081236,
          10.527027803066185,
          8.957040191939951,
          -4.049200994839076,
          -6.696765291911203,
          8.979397589417028
         ],
         "z": [
          1.587150825630967,
          -10.239646156880308,
          1.759641093164186,
          -10.411668253390271,
          7.772680536204612,
          -6.362674452043187,
          -6.605005935605998,
          -10.402762458683707,
          1.6467069754784585,
          2.591747213324963,
          -6.517759552307744,
          -6.363439163337575,
          -10.309979453706228,
          2.266924426561094,
          7.38948074519542,
          56.19297098878422,
          2.0209864110719913,
          -9.490588932618959,
          -9.527829432257082,
          -6.443019911959011,
          2.3114517033130237,
          2.292052884044225,
          2.4518213554922954,
          0.8430424742749758,
          7.437205426185258,
          -6.530532009800281,
          -6.4483418101685785,
          0.8489805590111206,
          2.0321793136791566,
          -10.228759590640529,
          -10.215712176705681,
          -10.218423350505445,
          -10.321577505888825,
          -6.560201818359467,
          -9.496921421572843,
          7.44741082255939,
          2.467914967452995,
          -6.411860017548831,
          0.8493746566050566,
          2.146204698126434,
          -10.328315359966563,
          7.390888648544184,
          2.186380425635769
         ]
        }
       ],
       "layout": {
        "coloraxis": {
         "colorbar": {
          "title": {
           "text": "color"
          }
         },
         "colorscale": [
          [
           0,
           "#0d0887"
          ],
          [
           0.1111111111111111,
           "#46039f"
          ],
          [
           0.2222222222222222,
           "#7201a8"
          ],
          [
           0.3333333333333333,
           "#9c179e"
          ],
          [
           0.4444444444444444,
           "#bd3786"
          ],
          [
           0.5555555555555556,
           "#d8576b"
          ],
          [
           0.6666666666666666,
           "#ed7953"
          ],
          [
           0.7777777777777778,
           "#fb9f3a"
          ],
          [
           0.8888888888888888,
           "#fdca26"
          ],
          [
           1,
           "#f0f921"
          ]
         ]
        },
        "legend": {
         "tracegroupgap": 0
        },
        "margin": {
         "t": 60
        },
        "scene": {
         "domain": {
          "x": [
           0,
           1
          ],
          "y": [
           0,
           1
          ]
         },
         "xaxis": {
          "title": {
           "text": "x"
          }
         },
         "yaxis": {
          "title": {
           "text": "y"
          }
         },
         "zaxis": {
          "title": {
           "text": "z"
          }
         }
        },
        "template": {
         "data": {
          "bar": [
           {
            "error_x": {
             "color": "#2a3f5f"
            },
            "error_y": {
             "color": "#2a3f5f"
            },
            "marker": {
             "line": {
              "color": "#E5ECF6",
              "width": 0.5
             },
             "pattern": {
              "fillmode": "overlay",
              "size": 10,
              "solidity": 0.2
             }
            },
            "type": "bar"
           }
          ],
          "barpolar": [
           {
            "marker": {
             "line": {
              "color": "#E5ECF6",
              "width": 0.5
             },
             "pattern": {
              "fillmode": "overlay",
              "size": 10,
              "solidity": 0.2
             }
            },
            "type": "barpolar"
           }
          ],
          "carpet": [
           {
            "aaxis": {
             "endlinecolor": "#2a3f5f",
             "gridcolor": "white",
             "linecolor": "white",
             "minorgridcolor": "white",
             "startlinecolor": "#2a3f5f"
            },
            "baxis": {
             "endlinecolor": "#2a3f5f",
             "gridcolor": "white",
             "linecolor": "white",
             "minorgridcolor": "white",
             "startlinecolor": "#2a3f5f"
            },
            "type": "carpet"
           }
          ],
          "choropleth": [
           {
            "colorbar": {
             "outlinewidth": 0,
             "ticks": ""
            },
            "type": "choropleth"
           }
          ],
          "contour": [
           {
            "colorbar": {
             "outlinewidth": 0,
             "ticks": ""
            },
            "colorscale": [
             [
              0,
              "#0d0887"
             ],
             [
              0.1111111111111111,
              "#46039f"
             ],
             [
              0.2222222222222222,
              "#7201a8"
             ],
             [
              0.3333333333333333,
              "#9c179e"
             ],
             [
              0.4444444444444444,
              "#bd3786"
             ],
             [
              0.5555555555555556,
              "#d8576b"
             ],
             [
              0.6666666666666666,
              "#ed7953"
             ],
             [
              0.7777777777777778,
              "#fb9f3a"
             ],
             [
              0.8888888888888888,
              "#fdca26"
             ],
             [
              1,
              "#f0f921"
             ]
            ],
            "type": "contour"
           }
          ],
          "contourcarpet": [
           {
            "colorbar": {
             "outlinewidth": 0,
             "ticks": ""
            },
            "type": "contourcarpet"
           }
          ],
          "heatmap": [
           {
            "colorbar": {
             "outlinewidth": 0,
             "ticks": ""
            },
            "colorscale": [
             [
              0,
              "#0d0887"
             ],
             [
              0.1111111111111111,
              "#46039f"
             ],
             [
              0.2222222222222222,
              "#7201a8"
             ],
             [
              0.3333333333333333,
              "#9c179e"
             ],
             [
              0.4444444444444444,
              "#bd3786"
             ],
             [
              0.5555555555555556,
              "#d8576b"
             ],
             [
              0.6666666666666666,
              "#ed7953"
             ],
             [
              0.7777777777777778,
              "#fb9f3a"
             ],
             [
              0.8888888888888888,
              "#fdca26"
             ],
             [
              1,
              "#f0f921"
             ]
            ],
            "type": "heatmap"
           }
          ],
          "heatmapgl": [
           {
            "colorbar": {
             "outlinewidth": 0,
             "ticks": ""
            },
            "colorscale": [
             [
              0,
              "#0d0887"
             ],
             [
              0.1111111111111111,
              "#46039f"
             ],
             [
              0.2222222222222222,
              "#7201a8"
             ],
             [
              0.3333333333333333,
              "#9c179e"
             ],
             [
              0.4444444444444444,
              "#bd3786"
             ],
             [
              0.5555555555555556,
              "#d8576b"
             ],
             [
              0.6666666666666666,
              "#ed7953"
             ],
             [
              0.7777777777777778,
              "#fb9f3a"
             ],
             [
              0.8888888888888888,
              "#fdca26"
             ],
             [
              1,
              "#f0f921"
             ]
            ],
            "type": "heatmapgl"
           }
          ],
          "histogram": [
           {
            "marker": {
             "pattern": {
              "fillmode": "overlay",
              "size": 10,
              "solidity": 0.2
             }
            },
            "type": "histogram"
           }
          ],
          "histogram2d": [
           {
            "colorbar": {
             "outlinewidth": 0,
             "ticks": ""
            },
            "colorscale": [
             [
              0,
              "#0d0887"
             ],
             [
              0.1111111111111111,
              "#46039f"
             ],
             [
              0.2222222222222222,
              "#7201a8"
             ],
             [
              0.3333333333333333,
              "#9c179e"
             ],
             [
              0.4444444444444444,
              "#bd3786"
             ],
             [
              0.5555555555555556,
              "#d8576b"
             ],
             [
              0.6666666666666666,
              "#ed7953"
             ],
             [
              0.7777777777777778,
              "#fb9f3a"
             ],
             [
              0.8888888888888888,
              "#fdca26"
             ],
             [
              1,
              "#f0f921"
             ]
            ],
            "type": "histogram2d"
           }
          ],
          "histogram2dcontour": [
           {
            "colorbar": {
             "outlinewidth": 0,
             "ticks": ""
            },
            "colorscale": [
             [
              0,
              "#0d0887"
             ],
             [
              0.1111111111111111,
              "#46039f"
             ],
             [
              0.2222222222222222,
              "#7201a8"
             ],
             [
              0.3333333333333333,
              "#9c179e"
             ],
             [
              0.4444444444444444,
              "#bd3786"
             ],
             [
              0.5555555555555556,
              "#d8576b"
             ],
             [
              0.6666666666666666,
              "#ed7953"
             ],
             [
              0.7777777777777778,
              "#fb9f3a"
             ],
             [
              0.8888888888888888,
              "#fdca26"
             ],
             [
              1,
              "#f0f921"
             ]
            ],
            "type": "histogram2dcontour"
           }
          ],
          "mesh3d": [
           {
            "colorbar": {
             "outlinewidth": 0,
             "ticks": ""
            },
            "type": "mesh3d"
           }
          ],
          "parcoords": [
           {
            "line": {
             "colorbar": {
              "outlinewidth": 0,
              "ticks": ""
             }
            },
            "type": "parcoords"
           }
          ],
          "pie": [
           {
            "automargin": true,
            "type": "pie"
           }
          ],
          "scatter": [
           {
            "fillpattern": {
             "fillmode": "overlay",
             "size": 10,
             "solidity": 0.2
            },
            "type": "scatter"
           }
          ],
          "scatter3d": [
           {
            "line": {
             "colorbar": {
              "outlinewidth": 0,
              "ticks": ""
             }
            },
            "marker": {
             "colorbar": {
              "outlinewidth": 0,
              "ticks": ""
             }
            },
            "type": "scatter3d"
           }
          ],
          "scattercarpet": [
           {
            "marker": {
             "colorbar": {
              "outlinewidth": 0,
              "ticks": ""
             }
            },
            "type": "scattercarpet"
           }
          ],
          "scattergeo": [
           {
            "marker": {
             "colorbar": {
              "outlinewidth": 0,
              "ticks": ""
             }
            },
            "type": "scattergeo"
           }
          ],
          "scattergl": [
           {
            "marker": {
             "colorbar": {
              "outlinewidth": 0,
              "ticks": ""
             }
            },
            "type": "scattergl"
           }
          ],
          "scattermapbox": [
           {
            "marker": {
             "colorbar": {
              "outlinewidth": 0,
              "ticks": ""
             }
            },
            "type": "scattermapbox"
           }
          ],
          "scatterpolar": [
           {
            "marker": {
             "colorbar": {
              "outlinewidth": 0,
              "ticks": ""
             }
            },
            "type": "scatterpolar"
           }
          ],
          "scatterpolargl": [
           {
            "marker": {
             "colorbar": {
              "outlinewidth": 0,
              "ticks": ""
             }
            },
            "type": "scatterpolargl"
           }
          ],
          "scatterternary": [
           {
            "marker": {
             "colorbar": {
              "outlinewidth": 0,
              "ticks": ""
             }
            },
            "type": "scatterternary"
           }
          ],
          "surface": [
           {
            "colorbar": {
             "outlinewidth": 0,
             "ticks": ""
            },
            "colorscale": [
             [
              0,
              "#0d0887"
             ],
             [
              0.1111111111111111,
              "#46039f"
             ],
             [
              0.2222222222222222,
              "#7201a8"
             ],
             [
              0.3333333333333333,
              "#9c179e"
             ],
             [
              0.4444444444444444,
              "#bd3786"
             ],
             [
              0.5555555555555556,
              "#d8576b"
             ],
             [
              0.6666666666666666,
              "#ed7953"
             ],
             [
              0.7777777777777778,
              "#fb9f3a"
             ],
             [
              0.8888888888888888,
              "#fdca26"
             ],
             [
              1,
              "#f0f921"
             ]
            ],
            "type": "surface"
           }
          ],
          "table": [
           {
            "cells": {
             "fill": {
              "color": "#EBF0F8"
             },
             "line": {
              "color": "white"
             }
            },
            "header": {
             "fill": {
              "color": "#C8D4E3"
             },
             "line": {
              "color": "white"
             }
            },
            "type": "table"
           }
          ]
         },
         "layout": {
          "annotationdefaults": {
           "arrowcolor": "#2a3f5f",
           "arrowhead": 0,
           "arrowwidth": 1
          },
          "autotypenumbers": "strict",
          "coloraxis": {
           "colorbar": {
            "outlinewidth": 0,
            "ticks": ""
           }
          },
          "colorscale": {
           "diverging": [
            [
             0,
             "#8e0152"
            ],
            [
             0.1,
             "#c51b7d"
            ],
            [
             0.2,
             "#de77ae"
            ],
            [
             0.3,
             "#f1b6da"
            ],
            [
             0.4,
             "#fde0ef"
            ],
            [
             0.5,
             "#f7f7f7"
            ],
            [
             0.6,
             "#e6f5d0"
            ],
            [
             0.7,
             "#b8e186"
            ],
            [
             0.8,
             "#7fbc41"
            ],
            [
             0.9,
             "#4d9221"
            ],
            [
             1,
             "#276419"
            ]
           ],
           "sequential": [
            [
             0,
             "#0d0887"
            ],
            [
             0.1111111111111111,
             "#46039f"
            ],
            [
             0.2222222222222222,
             "#7201a8"
            ],
            [
             0.3333333333333333,
             "#9c179e"
            ],
            [
             0.4444444444444444,
             "#bd3786"
            ],
            [
             0.5555555555555556,
             "#d8576b"
            ],
            [
             0.6666666666666666,
             "#ed7953"
            ],
            [
             0.7777777777777778,
             "#fb9f3a"
            ],
            [
             0.8888888888888888,
             "#fdca26"
            ],
            [
             1,
             "#f0f921"
            ]
           ],
           "sequentialminus": [
            [
             0,
             "#0d0887"
            ],
            [
             0.1111111111111111,
             "#46039f"
            ],
            [
             0.2222222222222222,
             "#7201a8"
            ],
            [
             0.3333333333333333,
             "#9c179e"
            ],
            [
             0.4444444444444444,
             "#bd3786"
            ],
            [
             0.5555555555555556,
             "#d8576b"
            ],
            [
             0.6666666666666666,
             "#ed7953"
            ],
            [
             0.7777777777777778,
             "#fb9f3a"
            ],
            [
             0.8888888888888888,
             "#fdca26"
            ],
            [
             1,
             "#f0f921"
            ]
           ]
          },
          "colorway": [
           "#636efa",
           "#EF553B",
           "#00cc96",
           "#ab63fa",
           "#FFA15A",
           "#19d3f3",
           "#FF6692",
           "#B6E880",
           "#FF97FF",
           "#FECB52"
          ],
          "font": {
           "color": "#2a3f5f"
          },
          "geo": {
           "bgcolor": "white",
           "lakecolor": "white",
           "landcolor": "#E5ECF6",
           "showlakes": true,
           "showland": true,
           "subunitcolor": "white"
          },
          "hoverlabel": {
           "align": "left"
          },
          "hovermode": "closest",
          "mapbox": {
           "style": "light"
          },
          "paper_bgcolor": "white",
          "plot_bgcolor": "#E5ECF6",
          "polar": {
           "angularaxis": {
            "gridcolor": "white",
            "linecolor": "white",
            "ticks": ""
           },
           "bgcolor": "#E5ECF6",
           "radialaxis": {
            "gridcolor": "white",
            "linecolor": "white",
            "ticks": ""
           }
          },
          "scene": {
           "xaxis": {
            "backgroundcolor": "#E5ECF6",
            "gridcolor": "white",
            "gridwidth": 2,
            "linecolor": "white",
            "showbackground": true,
            "ticks": "",
            "zerolinecolor": "white"
           },
           "yaxis": {
            "backgroundcolor": "#E5ECF6",
            "gridcolor": "white",
            "gridwidth": 2,
            "linecolor": "white",
            "showbackground": true,
            "ticks": "",
            "zerolinecolor": "white"
           },
           "zaxis": {
            "backgroundcolor": "#E5ECF6",
            "gridcolor": "white",
            "gridwidth": 2,
            "linecolor": "white",
            "showbackground": true,
            "ticks": "",
            "zerolinecolor": "white"
           }
          },
          "shapedefaults": {
           "line": {
            "color": "#2a3f5f"
           }
          },
          "ternary": {
           "aaxis": {
            "gridcolor": "white",
            "linecolor": "white",
            "ticks": ""
           },
           "baxis": {
            "gridcolor": "white",
            "linecolor": "white",
            "ticks": ""
           },
           "bgcolor": "#E5ECF6",
           "caxis": {
            "gridcolor": "white",
            "linecolor": "white",
            "ticks": ""
           }
          },
          "title": {
           "x": 0.05
          },
          "xaxis": {
           "automargin": true,
           "gridcolor": "white",
           "linecolor": "white",
           "ticks": "",
           "title": {
            "standoff": 15
           },
           "zerolinecolor": "white",
           "zerolinewidth": 2
          },
          "yaxis": {
           "automargin": true,
           "gridcolor": "white",
           "linecolor": "white",
           "ticks": "",
           "title": {
            "standoff": 15
           },
           "zerolinecolor": "white",
           "zerolinewidth": 2
          }
         }
        }
       }
      }
     },
     "metadata": {},
     "output_type": "display_data"
    }
   ],
   "source": [
    "import plotly.express as px\n",
    "\n",
    "fig = px.scatter_3d(x=PLS_X_train[:,0],\n",
    "                    y=PLS_X_train[:,1],\n",
    "                    z=PLS_X_train[:,2],\n",
    "                    color=y_train)\n",
    "fig.show()\n",
    "\n",
    "fig = px.scatter_3d(x=PLS_X_test[:,0],\n",
    "                    y=PLS_X_test[:,1],\n",
    "                    z=PLS_X_test[:,2],\n",
    "                    color=y_test)\n",
    "fig.show()"
   ]
  },
  {
   "cell_type": "code",
   "execution_count": 52,
   "metadata": {},
   "outputs": [
    {
     "data": {
      "text/plain": [
       "1.0"
      ]
     },
     "metadata": {},
     "output_type": "display_data"
    },
    {
     "name": "stdout",
     "output_type": "stream",
     "text": [
      "              precision    recall  f1-score   support\n",
      "\n",
      "           0       1.00      1.00      1.00        21\n",
      "           1       1.00      1.00      1.00        22\n",
      "\n",
      "    accuracy                           1.00        43\n",
      "   macro avg       1.00      1.00      1.00        43\n",
      "weighted avg       1.00      1.00      1.00        43\n",
      "\n"
     ]
    }
   ],
   "source": [
    "rfc = RandomForestClassifier( max_depth=None,) #обучение модели \n",
    "rfc.fit(PLS_X_train, y_train)\n",
    "display(rfc.score(PLS_X_test, y_test))\n",
    "print(classification_report(y_test, rfc.predict(PLS_X_test))) "
   ]
  },
  {
   "cell_type": "markdown",
   "metadata": {},
   "source": [
    "We got a great quality reports with each ML model. The reason of this fact is that the data was completely different and all the used algorythms coped with this problem well. If there was more similar sample spectrums, there would appear a necessity to improve current algorythms, use hyperparameter selection or even neuronetworks."
   ]
  }
 ],
 "metadata": {
  "kernelspec": {
   "display_name": "Python 3.9.13 ('base')",
   "language": "python",
   "name": "python3"
  },
  "language_info": {
   "codemirror_mode": {
    "name": "ipython",
    "version": 3
   },
   "file_extension": ".py",
   "mimetype": "text/x-python",
   "name": "python",
   "nbconvert_exporter": "python",
   "pygments_lexer": "ipython3",
   "version": "3.9.13"
  },
  "orig_nbformat": 4,
  "vscode": {
   "interpreter": {
    "hash": "ce4612f5cc43648f503aa8eb7f2a41c796d0d330c9f537245bf6e2f2c567c915"
   }
  }
 },
 "nbformat": 4,
 "nbformat_minor": 2
}
